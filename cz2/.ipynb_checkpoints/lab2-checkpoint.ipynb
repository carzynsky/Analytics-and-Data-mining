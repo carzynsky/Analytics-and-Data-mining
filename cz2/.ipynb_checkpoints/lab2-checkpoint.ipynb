{
 "cells": [
  {
   "cell_type": "markdown",
   "metadata": {},
   "source": [
    "# Część 2: Uczenie maszynowe"
   ]
  },
  {
   "cell_type": "markdown",
   "metadata": {},
   "source": [
    "## Cel\n",
    "\n",
    "Zadanie będzie polegało na wykonaniu modelowania predykcyjnego, którego celem jest:\n",
    "\n",
    "- sklasyfikowanie wiadomości przesyłanych pocztą elektroniczną jako spam lub nie-spam (dane **spam.dat**),\n",
    "- sklasyfikowanie transakcji wykonywanych za pomocą karty kredytowej jako fraud lub transakcja prawidłowa (dane **creditcard.csv**). \n",
    "\n",
    "W pierwszym przypadku wyzwanie polega na klasyfikacji w oparciu o dane wysokowymiarowe, natomiast w drugim – w oparciu o dane o bardzo różniącej się liczności klas w danych uczących (*class-imbalanced data*). \n"
   ]
  },
  {
   "cell_type": "markdown",
   "metadata": {},
   "source": [
    "## Dane\n",
    "\n",
    "- spam.dat\n",
    "- creditcard.csv"
   ]
  },
  {
   "cell_type": "markdown",
   "metadata": {},
   "source": [
    "## Zadanie\n",
    "\n",
    "Zadanie wyjaśnimy na przykładzie klasyfikacji wiadomości pocztowych. Zmienna celu (target) przyjmuje wartość 'yes' dla wiadomości spam lub 'no' dla dobrego listu. Atrybuty wiadomości pocztowych użyte do klasyfikacji wiadomości są oparte na projekcie SpamAssassin. \n",
    "\n",
    "Zbudowany klasyfikator powinien unikać klasyfikowania listów dobrych jako spam. Stąd jako kryteria jakości (akceptowalności) klasyfikatora przyjmujemy:\n",
    "* minimalizację stopy błędów 'yes' $ \\rightarrow $ 'no' (FNR)\n",
    "* przy zapewnieniu stopy błędów 'no' $ \\rightarrow $ 'yes' (FPR) poniżej 0.5%\n",
    "\n",
    "Zadanie polega na próbie dostrojenia klasyfikatora. Należy w tym celu wykonać serię eksperymentów (*sensitivity studies*) w celu zbadania jak na skuteczność klasyfikacji wpływa: \n",
    "\n",
    "**1. Algorytm klasyfikatora** (sprawdź np. drzewo decyzyjne, las losowy, MLP, SVM, regresję logistyczną, kNN, naiwnego Bayesa, ...).\n",
    "\n",
    "**2. Parametry klasyfikatora** decydujące o jego złożoności (capacity) - tu np. możemy zbadać złożoność sieci MLP, parameter C (koszt) w modelu SVM, wysokość drzewa decyzyjnego, itp. \n",
    "\n",
    "**3. Wybór zmiennych** / redukcja wymiarowości danych (*feature selection*) - tu badamy np. następujące metody:\n",
    "- metody multivariate (np. RFE),\n",
    "- metody feature selection realizowane przez regresję logistyczną (np. forward, backward),\n",
    "- PCA (klasyfikacja w oparciu o pierwsze komponenty główne).\n",
    "  \n",
    "    \n",
    "**4. Metody dla problemów class-imbalanced**  \n",
    "- równoważenie liczności próbek należących do poszczególnych klas (*over / under-sampling*). Uwaga: równoważymy tylko dane treningowe, dane testowe powinny zachowywać oryginalne proporcje klas.  \n",
    "- wykorzystanie algorytmu Smote.\n",
    "\n",
    "**5. Zastosowanie niesymetrycznych kosztów błędów** 'yes' $ \\rightarrow $ 'no' i 'no' $ \\rightarrow $ 'yes' w trakcie uczenia klasyfikatora (np. zwiększanie kary za błąd 'yes' $ \\rightarrow $ 'no' powinno poprawić czułość wykrywania spamu kosztem specyficzności, i vice versa).\n",
    "\n",
    "**6. Składanie modeli** (*ensamble learning*) - np. algorytm AdaBoost. \n",
    "\n",
    "\n",
    "UWAGA: Dla każdego z badań raportujemy czułość i specyficzność modelu (macierz błędów), ew. FNR i FPR.\n",
    "\n",
    "<font color=red>\n",
    "Raport powinien zawierać wyniki badań 1 do 6 dla *wybranego* zbioru danych - raport w formie notebooka (.ipynb) i dokumentu (.pdf) umieszczamy na e-portalu. \n",
    "Raport może też być oddany w formie dokumentu (.pdf) i źródeł (program w Pythonie).\n",
    "</font>\n",
    "\n",
    "***"
   ]
  },
  {
   "cell_type": "markdown",
   "metadata": {},
   "source": [
    "# Jak zacząć projekt "
   ]
  },
  {
   "cell_type": "markdown",
   "metadata": {},
   "source": [
    "## Przykład 1: Spam data"
   ]
  },
  {
   "cell_type": "markdown",
   "metadata": {},
   "source": [
    "## Dane wejściowe - wczytanie i analiza"
   ]
  },
  {
   "cell_type": "code",
   "execution_count": 1,
   "metadata": {},
   "outputs": [
    {
     "data": {
      "text/html": [
       "<div>\n",
       "<style scoped>\n",
       "    .dataframe tbody tr th:only-of-type {\n",
       "        vertical-align: middle;\n",
       "    }\n",
       "\n",
       "    .dataframe tbody tr th {\n",
       "        vertical-align: top;\n",
       "    }\n",
       "\n",
       "    .dataframe thead th {\n",
       "        text-align: right;\n",
       "    }\n",
       "</style>\n",
       "<table border=\"1\" class=\"dataframe\">\n",
       "  <thead>\n",
       "    <tr style=\"text-align: right;\">\n",
       "      <th></th>\n",
       "      <th>ACT_NOW</th>\n",
       "      <th>ADDRESSES_ON_CD</th>\n",
       "      <th>ADULT_SITE</th>\n",
       "      <th>ADVERT_CODE</th>\n",
       "      <th>ADVERT_CODE2</th>\n",
       "      <th>ALL_CAPS_HEADER</th>\n",
       "      <th>ALL_CAP_PORN</th>\n",
       "      <th>ALL_NATURAL</th>\n",
       "      <th>AMATEUR_PORN</th>\n",
       "      <th>AMAZING</th>\n",
       "      <th>...</th>\n",
       "      <th>X_ENC_PRESENT</th>\n",
       "      <th>X_LIBRARY</th>\n",
       "      <th>X_LIST_UNSUBSCRIBE</th>\n",
       "      <th>X_MSMAIL_PRIORITY_HIGH</th>\n",
       "      <th>X_PRECEDENCE_REF</th>\n",
       "      <th>X_PRIORITY_HIGH</th>\n",
       "      <th>X_STORMPOST_TO</th>\n",
       "      <th>X_X_PRESENT</th>\n",
       "      <th>YOUR_INCOME</th>\n",
       "      <th>target</th>\n",
       "    </tr>\n",
       "  </thead>\n",
       "  <tbody>\n",
       "    <tr>\n",
       "      <th>0</th>\n",
       "      <td>0</td>\n",
       "      <td>0</td>\n",
       "      <td>0</td>\n",
       "      <td>0</td>\n",
       "      <td>0</td>\n",
       "      <td>0</td>\n",
       "      <td>0</td>\n",
       "      <td>0</td>\n",
       "      <td>0</td>\n",
       "      <td>0</td>\n",
       "      <td>...</td>\n",
       "      <td>0</td>\n",
       "      <td>0</td>\n",
       "      <td>0</td>\n",
       "      <td>0</td>\n",
       "      <td>0</td>\n",
       "      <td>0</td>\n",
       "      <td>0</td>\n",
       "      <td>0</td>\n",
       "      <td>0</td>\n",
       "      <td>yes</td>\n",
       "    </tr>\n",
       "    <tr>\n",
       "      <th>1</th>\n",
       "      <td>0</td>\n",
       "      <td>0</td>\n",
       "      <td>0</td>\n",
       "      <td>0</td>\n",
       "      <td>0</td>\n",
       "      <td>0</td>\n",
       "      <td>0</td>\n",
       "      <td>0</td>\n",
       "      <td>0</td>\n",
       "      <td>0</td>\n",
       "      <td>...</td>\n",
       "      <td>0</td>\n",
       "      <td>0</td>\n",
       "      <td>0</td>\n",
       "      <td>0</td>\n",
       "      <td>0</td>\n",
       "      <td>0</td>\n",
       "      <td>0</td>\n",
       "      <td>0</td>\n",
       "      <td>0</td>\n",
       "      <td>no</td>\n",
       "    </tr>\n",
       "    <tr>\n",
       "      <th>2</th>\n",
       "      <td>0</td>\n",
       "      <td>0</td>\n",
       "      <td>0</td>\n",
       "      <td>0</td>\n",
       "      <td>0</td>\n",
       "      <td>0</td>\n",
       "      <td>0</td>\n",
       "      <td>0</td>\n",
       "      <td>0</td>\n",
       "      <td>0</td>\n",
       "      <td>...</td>\n",
       "      <td>0</td>\n",
       "      <td>0</td>\n",
       "      <td>0</td>\n",
       "      <td>0</td>\n",
       "      <td>0</td>\n",
       "      <td>0</td>\n",
       "      <td>0</td>\n",
       "      <td>0</td>\n",
       "      <td>0</td>\n",
       "      <td>yes</td>\n",
       "    </tr>\n",
       "    <tr>\n",
       "      <th>3</th>\n",
       "      <td>0</td>\n",
       "      <td>0</td>\n",
       "      <td>0</td>\n",
       "      <td>0</td>\n",
       "      <td>0</td>\n",
       "      <td>0</td>\n",
       "      <td>0</td>\n",
       "      <td>0</td>\n",
       "      <td>0</td>\n",
       "      <td>0</td>\n",
       "      <td>...</td>\n",
       "      <td>0</td>\n",
       "      <td>0</td>\n",
       "      <td>0</td>\n",
       "      <td>0</td>\n",
       "      <td>0</td>\n",
       "      <td>0</td>\n",
       "      <td>0</td>\n",
       "      <td>0</td>\n",
       "      <td>0</td>\n",
       "      <td>no</td>\n",
       "    </tr>\n",
       "    <tr>\n",
       "      <th>4</th>\n",
       "      <td>0</td>\n",
       "      <td>0</td>\n",
       "      <td>0</td>\n",
       "      <td>0</td>\n",
       "      <td>0</td>\n",
       "      <td>0</td>\n",
       "      <td>0</td>\n",
       "      <td>0</td>\n",
       "      <td>0</td>\n",
       "      <td>0</td>\n",
       "      <td>...</td>\n",
       "      <td>0</td>\n",
       "      <td>0</td>\n",
       "      <td>0</td>\n",
       "      <td>0</td>\n",
       "      <td>0</td>\n",
       "      <td>0</td>\n",
       "      <td>0</td>\n",
       "      <td>0</td>\n",
       "      <td>0</td>\n",
       "      <td>yes</td>\n",
       "    </tr>\n",
       "  </tbody>\n",
       "</table>\n",
       "<p>5 rows × 463 columns</p>\n",
       "</div>"
      ],
      "text/plain": [
       "   ACT_NOW  ADDRESSES_ON_CD  ADULT_SITE  ADVERT_CODE  ADVERT_CODE2  \\\n",
       "0        0                0           0            0             0   \n",
       "1        0                0           0            0             0   \n",
       "2        0                0           0            0             0   \n",
       "3        0                0           0            0             0   \n",
       "4        0                0           0            0             0   \n",
       "\n",
       "   ALL_CAPS_HEADER  ALL_CAP_PORN  ALL_NATURAL  AMATEUR_PORN  AMAZING  ...  \\\n",
       "0                0             0            0             0        0  ...   \n",
       "1                0             0            0             0        0  ...   \n",
       "2                0             0            0             0        0  ...   \n",
       "3                0             0            0             0        0  ...   \n",
       "4                0             0            0             0        0  ...   \n",
       "\n",
       "   X_ENC_PRESENT  X_LIBRARY  X_LIST_UNSUBSCRIBE  X_MSMAIL_PRIORITY_HIGH  \\\n",
       "0              0          0                   0                       0   \n",
       "1              0          0                   0                       0   \n",
       "2              0          0                   0                       0   \n",
       "3              0          0                   0                       0   \n",
       "4              0          0                   0                       0   \n",
       "\n",
       "   X_PRECEDENCE_REF  X_PRIORITY_HIGH  X_STORMPOST_TO  X_X_PRESENT  \\\n",
       "0                 0                0               0            0   \n",
       "1                 0                0               0            0   \n",
       "2                 0                0               0            0   \n",
       "3                 0                0               0            0   \n",
       "4                 0                0               0            0   \n",
       "\n",
       "   YOUR_INCOME  target  \n",
       "0            0     yes  \n",
       "1            0      no  \n",
       "2            0     yes  \n",
       "3            0      no  \n",
       "4            0     yes  \n",
       "\n",
       "[5 rows x 463 columns]"
      ]
     },
     "execution_count": 1,
     "metadata": {},
     "output_type": "execute_result"
    }
   ],
   "source": [
    "import pandas as pd\n",
    "\n",
    "dataframe = pd.read_csv(\"./data/spam.dat\")\n",
    "dataframe.head(5)"
   ]
  },
  {
   "cell_type": "markdown",
   "metadata": {},
   "source": [
    "### Rozmiar danych wejściowych i podstawowe statystyki "
   ]
  },
  {
   "cell_type": "code",
   "execution_count": 2,
   "metadata": {},
   "outputs": [
    {
     "data": {
      "text/plain": [
       "(4789, 463)"
      ]
     },
     "execution_count": 2,
     "metadata": {},
     "output_type": "execute_result"
    }
   ],
   "source": [
    "dataframe.shape"
   ]
  },
  {
   "cell_type": "markdown",
   "metadata": {},
   "source": [
    "### Wartości odstające?"
   ]
  },
  {
   "cell_type": "code",
   "execution_count": 3,
   "metadata": {},
   "outputs": [
    {
     "data": {
      "text/html": [
       "<div>\n",
       "<style scoped>\n",
       "    .dataframe tbody tr th:only-of-type {\n",
       "        vertical-align: middle;\n",
       "    }\n",
       "\n",
       "    .dataframe tbody tr th {\n",
       "        vertical-align: top;\n",
       "    }\n",
       "\n",
       "    .dataframe thead th {\n",
       "        text-align: right;\n",
       "    }\n",
       "</style>\n",
       "<table border=\"1\" class=\"dataframe\">\n",
       "  <thead>\n",
       "    <tr style=\"text-align: right;\">\n",
       "      <th></th>\n",
       "      <th>ACT_NOW</th>\n",
       "      <th>ADDRESSES_ON_CD</th>\n",
       "      <th>ADULT_SITE</th>\n",
       "      <th>ADVERT_CODE</th>\n",
       "      <th>ADVERT_CODE2</th>\n",
       "      <th>ALL_CAPS_HEADER</th>\n",
       "      <th>ALL_CAP_PORN</th>\n",
       "      <th>ALL_NATURAL</th>\n",
       "      <th>AMATEUR_PORN</th>\n",
       "      <th>AMAZING</th>\n",
       "      <th>...</th>\n",
       "      <th>X_AUTH_WARNING</th>\n",
       "      <th>X_ENC_PRESENT</th>\n",
       "      <th>X_LIBRARY</th>\n",
       "      <th>X_LIST_UNSUBSCRIBE</th>\n",
       "      <th>X_MSMAIL_PRIORITY_HIGH</th>\n",
       "      <th>X_PRECEDENCE_REF</th>\n",
       "      <th>X_PRIORITY_HIGH</th>\n",
       "      <th>X_STORMPOST_TO</th>\n",
       "      <th>X_X_PRESENT</th>\n",
       "      <th>YOUR_INCOME</th>\n",
       "    </tr>\n",
       "  </thead>\n",
       "  <tbody>\n",
       "    <tr>\n",
       "      <th>count</th>\n",
       "      <td>4789.000000</td>\n",
       "      <td>4789.0</td>\n",
       "      <td>4789.000000</td>\n",
       "      <td>4789.000000</td>\n",
       "      <td>4789.000000</td>\n",
       "      <td>4789.000000</td>\n",
       "      <td>4789.000000</td>\n",
       "      <td>4789.000000</td>\n",
       "      <td>4789.000000</td>\n",
       "      <td>4789.000000</td>\n",
       "      <td>...</td>\n",
       "      <td>4789.000000</td>\n",
       "      <td>4789.000000</td>\n",
       "      <td>4789.000000</td>\n",
       "      <td>4789.000000</td>\n",
       "      <td>4789.000000</td>\n",
       "      <td>4789.000000</td>\n",
       "      <td>4789.000000</td>\n",
       "      <td>4789.000000</td>\n",
       "      <td>4789.000000</td>\n",
       "      <td>4789.000000</td>\n",
       "    </tr>\n",
       "    <tr>\n",
       "      <th>mean</th>\n",
       "      <td>0.008144</td>\n",
       "      <td>0.0</td>\n",
       "      <td>0.006056</td>\n",
       "      <td>0.000209</td>\n",
       "      <td>0.006682</td>\n",
       "      <td>0.000626</td>\n",
       "      <td>0.005638</td>\n",
       "      <td>0.007308</td>\n",
       "      <td>0.001879</td>\n",
       "      <td>0.002088</td>\n",
       "      <td>...</td>\n",
       "      <td>0.315097</td>\n",
       "      <td>0.001044</td>\n",
       "      <td>0.000626</td>\n",
       "      <td>0.012946</td>\n",
       "      <td>0.009397</td>\n",
       "      <td>0.000418</td>\n",
       "      <td>0.019420</td>\n",
       "      <td>0.000835</td>\n",
       "      <td>0.001253</td>\n",
       "      <td>0.000626</td>\n",
       "    </tr>\n",
       "    <tr>\n",
       "      <th>std</th>\n",
       "      <td>0.089883</td>\n",
       "      <td>0.0</td>\n",
       "      <td>0.077590</td>\n",
       "      <td>0.014450</td>\n",
       "      <td>0.081478</td>\n",
       "      <td>0.025023</td>\n",
       "      <td>0.074882</td>\n",
       "      <td>0.085185</td>\n",
       "      <td>0.043315</td>\n",
       "      <td>0.045653</td>\n",
       "      <td>...</td>\n",
       "      <td>0.464603</td>\n",
       "      <td>0.032298</td>\n",
       "      <td>0.025023</td>\n",
       "      <td>0.113055</td>\n",
       "      <td>0.096489</td>\n",
       "      <td>0.020434</td>\n",
       "      <td>0.138009</td>\n",
       "      <td>0.028892</td>\n",
       "      <td>0.035377</td>\n",
       "      <td>0.025023</td>\n",
       "    </tr>\n",
       "    <tr>\n",
       "      <th>min</th>\n",
       "      <td>0.000000</td>\n",
       "      <td>0.0</td>\n",
       "      <td>0.000000</td>\n",
       "      <td>0.000000</td>\n",
       "      <td>0.000000</td>\n",
       "      <td>0.000000</td>\n",
       "      <td>0.000000</td>\n",
       "      <td>0.000000</td>\n",
       "      <td>0.000000</td>\n",
       "      <td>0.000000</td>\n",
       "      <td>...</td>\n",
       "      <td>0.000000</td>\n",
       "      <td>0.000000</td>\n",
       "      <td>0.000000</td>\n",
       "      <td>0.000000</td>\n",
       "      <td>0.000000</td>\n",
       "      <td>0.000000</td>\n",
       "      <td>0.000000</td>\n",
       "      <td>0.000000</td>\n",
       "      <td>0.000000</td>\n",
       "      <td>0.000000</td>\n",
       "    </tr>\n",
       "    <tr>\n",
       "      <th>25%</th>\n",
       "      <td>0.000000</td>\n",
       "      <td>0.0</td>\n",
       "      <td>0.000000</td>\n",
       "      <td>0.000000</td>\n",
       "      <td>0.000000</td>\n",
       "      <td>0.000000</td>\n",
       "      <td>0.000000</td>\n",
       "      <td>0.000000</td>\n",
       "      <td>0.000000</td>\n",
       "      <td>0.000000</td>\n",
       "      <td>...</td>\n",
       "      <td>0.000000</td>\n",
       "      <td>0.000000</td>\n",
       "      <td>0.000000</td>\n",
       "      <td>0.000000</td>\n",
       "      <td>0.000000</td>\n",
       "      <td>0.000000</td>\n",
       "      <td>0.000000</td>\n",
       "      <td>0.000000</td>\n",
       "      <td>0.000000</td>\n",
       "      <td>0.000000</td>\n",
       "    </tr>\n",
       "    <tr>\n",
       "      <th>50%</th>\n",
       "      <td>0.000000</td>\n",
       "      <td>0.0</td>\n",
       "      <td>0.000000</td>\n",
       "      <td>0.000000</td>\n",
       "      <td>0.000000</td>\n",
       "      <td>0.000000</td>\n",
       "      <td>0.000000</td>\n",
       "      <td>0.000000</td>\n",
       "      <td>0.000000</td>\n",
       "      <td>0.000000</td>\n",
       "      <td>...</td>\n",
       "      <td>0.000000</td>\n",
       "      <td>0.000000</td>\n",
       "      <td>0.000000</td>\n",
       "      <td>0.000000</td>\n",
       "      <td>0.000000</td>\n",
       "      <td>0.000000</td>\n",
       "      <td>0.000000</td>\n",
       "      <td>0.000000</td>\n",
       "      <td>0.000000</td>\n",
       "      <td>0.000000</td>\n",
       "    </tr>\n",
       "    <tr>\n",
       "      <th>75%</th>\n",
       "      <td>0.000000</td>\n",
       "      <td>0.0</td>\n",
       "      <td>0.000000</td>\n",
       "      <td>0.000000</td>\n",
       "      <td>0.000000</td>\n",
       "      <td>0.000000</td>\n",
       "      <td>0.000000</td>\n",
       "      <td>0.000000</td>\n",
       "      <td>0.000000</td>\n",
       "      <td>0.000000</td>\n",
       "      <td>...</td>\n",
       "      <td>1.000000</td>\n",
       "      <td>0.000000</td>\n",
       "      <td>0.000000</td>\n",
       "      <td>0.000000</td>\n",
       "      <td>0.000000</td>\n",
       "      <td>0.000000</td>\n",
       "      <td>0.000000</td>\n",
       "      <td>0.000000</td>\n",
       "      <td>0.000000</td>\n",
       "      <td>0.000000</td>\n",
       "    </tr>\n",
       "    <tr>\n",
       "      <th>max</th>\n",
       "      <td>1.000000</td>\n",
       "      <td>0.0</td>\n",
       "      <td>1.000000</td>\n",
       "      <td>1.000000</td>\n",
       "      <td>1.000000</td>\n",
       "      <td>1.000000</td>\n",
       "      <td>1.000000</td>\n",
       "      <td>1.000000</td>\n",
       "      <td>1.000000</td>\n",
       "      <td>1.000000</td>\n",
       "      <td>...</td>\n",
       "      <td>1.000000</td>\n",
       "      <td>1.000000</td>\n",
       "      <td>1.000000</td>\n",
       "      <td>1.000000</td>\n",
       "      <td>1.000000</td>\n",
       "      <td>1.000000</td>\n",
       "      <td>1.000000</td>\n",
       "      <td>1.000000</td>\n",
       "      <td>1.000000</td>\n",
       "      <td>1.000000</td>\n",
       "    </tr>\n",
       "  </tbody>\n",
       "</table>\n",
       "<p>8 rows × 462 columns</p>\n",
       "</div>"
      ],
      "text/plain": [
       "           ACT_NOW  ADDRESSES_ON_CD   ADULT_SITE  ADVERT_CODE  ADVERT_CODE2  \\\n",
       "count  4789.000000           4789.0  4789.000000  4789.000000   4789.000000   \n",
       "mean      0.008144              0.0     0.006056     0.000209      0.006682   \n",
       "std       0.089883              0.0     0.077590     0.014450      0.081478   \n",
       "min       0.000000              0.0     0.000000     0.000000      0.000000   \n",
       "25%       0.000000              0.0     0.000000     0.000000      0.000000   \n",
       "50%       0.000000              0.0     0.000000     0.000000      0.000000   \n",
       "75%       0.000000              0.0     0.000000     0.000000      0.000000   \n",
       "max       1.000000              0.0     1.000000     1.000000      1.000000   \n",
       "\n",
       "       ALL_CAPS_HEADER  ALL_CAP_PORN  ALL_NATURAL  AMATEUR_PORN      AMAZING  \\\n",
       "count      4789.000000   4789.000000  4789.000000   4789.000000  4789.000000   \n",
       "mean          0.000626      0.005638     0.007308      0.001879     0.002088   \n",
       "std           0.025023      0.074882     0.085185      0.043315     0.045653   \n",
       "min           0.000000      0.000000     0.000000      0.000000     0.000000   \n",
       "25%           0.000000      0.000000     0.000000      0.000000     0.000000   \n",
       "50%           0.000000      0.000000     0.000000      0.000000     0.000000   \n",
       "75%           0.000000      0.000000     0.000000      0.000000     0.000000   \n",
       "max           1.000000      1.000000     1.000000      1.000000     1.000000   \n",
       "\n",
       "       ...  X_AUTH_WARNING  X_ENC_PRESENT    X_LIBRARY  X_LIST_UNSUBSCRIBE  \\\n",
       "count  ...     4789.000000    4789.000000  4789.000000         4789.000000   \n",
       "mean   ...        0.315097       0.001044     0.000626            0.012946   \n",
       "std    ...        0.464603       0.032298     0.025023            0.113055   \n",
       "min    ...        0.000000       0.000000     0.000000            0.000000   \n",
       "25%    ...        0.000000       0.000000     0.000000            0.000000   \n",
       "50%    ...        0.000000       0.000000     0.000000            0.000000   \n",
       "75%    ...        1.000000       0.000000     0.000000            0.000000   \n",
       "max    ...        1.000000       1.000000     1.000000            1.000000   \n",
       "\n",
       "       X_MSMAIL_PRIORITY_HIGH  X_PRECEDENCE_REF  X_PRIORITY_HIGH  \\\n",
       "count             4789.000000       4789.000000      4789.000000   \n",
       "mean                 0.009397          0.000418         0.019420   \n",
       "std                  0.096489          0.020434         0.138009   \n",
       "min                  0.000000          0.000000         0.000000   \n",
       "25%                  0.000000          0.000000         0.000000   \n",
       "50%                  0.000000          0.000000         0.000000   \n",
       "75%                  0.000000          0.000000         0.000000   \n",
       "max                  1.000000          1.000000         1.000000   \n",
       "\n",
       "       X_STORMPOST_TO  X_X_PRESENT  YOUR_INCOME  \n",
       "count     4789.000000  4789.000000  4789.000000  \n",
       "mean         0.000835     0.001253     0.000626  \n",
       "std          0.028892     0.035377     0.025023  \n",
       "min          0.000000     0.000000     0.000000  \n",
       "25%          0.000000     0.000000     0.000000  \n",
       "50%          0.000000     0.000000     0.000000  \n",
       "75%          0.000000     0.000000     0.000000  \n",
       "max          1.000000     1.000000     1.000000  \n",
       "\n",
       "[8 rows x 462 columns]"
      ]
     },
     "execution_count": 3,
     "metadata": {},
     "output_type": "execute_result"
    }
   ],
   "source": [
    "dataframe.describe()"
   ]
  },
  {
   "cell_type": "code",
   "execution_count": 4,
   "metadata": {},
   "outputs": [],
   "source": [
    "# dataframe.info()"
   ]
  },
  {
   "cell_type": "markdown",
   "metadata": {},
   "source": [
    "### Czy dane zbalansowane?"
   ]
  },
  {
   "cell_type": "code",
   "execution_count": 5,
   "metadata": {},
   "outputs": [
    {
     "data": {
      "text/plain": [
       "no     2949\n",
       "yes    1840\n",
       "Name: target, dtype: int64"
      ]
     },
     "execution_count": 5,
     "metadata": {},
     "output_type": "execute_result"
    }
   ],
   "source": [
    "dataframe['target'].value_counts()"
   ]
  },
  {
   "cell_type": "markdown",
   "metadata": {},
   "source": [
    "***\n",
    "## Badamy skuteczność wybranych modeli \n",
    "\n",
    "Uwaga - przed uczeniem modeli często wykonujemy standaryzację danych (w wyniku średnie $ \\approx $ 0, std $ \\approx $ 1).\n",
    "Możemy tu użyć np. StandardScaler z biblioteki sklearn.\n",
    "\n",
    "Tu przykład bez standaryzacji."
   ]
  },
  {
   "cell_type": "markdown",
   "metadata": {},
   "source": [
    "### Podział na treningowe i testowe"
   ]
  },
  {
   "cell_type": "code",
   "execution_count": 6,
   "metadata": {},
   "outputs": [
    {
     "name": "stdout",
     "output_type": "stream",
     "text": [
      "train rows: 3208, test rows: 1581\n"
     ]
    }
   ],
   "source": [
    "from sklearn.model_selection import train_test_split\n",
    "\n",
    "X = dataframe.drop(['target'],axis=1)\n",
    "y = dataframe.target\n",
    "\n",
    "X_train, X_test, y_train, y_test = train_test_split(X,y,random_state=331, test_size=0.33)\n",
    "\n",
    "print(\"train rows: {}, test rows: {}\".format(X_train.shape[0], X_test.shape[0]))  # rows"
   ]
  },
  {
   "cell_type": "markdown",
   "metadata": {},
   "source": [
    "## Drzewo decyzyjne\n"
   ]
  },
  {
   "cell_type": "code",
   "execution_count": 7,
   "metadata": {},
   "outputs": [
    {
     "data": {
      "text/plain": [
       "0.9778621125869703"
      ]
     },
     "execution_count": 7,
     "metadata": {},
     "output_type": "execute_result"
    }
   ],
   "source": [
    "from sklearn.tree import DecisionTreeClassifier, plot_tree\n",
    "dt = DecisionTreeClassifier()\n",
    "dt.fit(X_train,y_train)\n",
    "\n",
    "y_pred = dt.predict(X_test)\n",
    "\n",
    "dt.score(X_test, y_test)"
   ]
  },
  {
   "cell_type": "markdown",
   "metadata": {},
   "source": [
    "### Confusion matrix"
   ]
  },
  {
   "cell_type": "code",
   "execution_count": 8,
   "metadata": {},
   "outputs": [
    {
     "data": {
      "text/plain": [
       "array([[926,  12],\n",
       "       [ 23, 620]])"
      ]
     },
     "execution_count": 8,
     "metadata": {},
     "output_type": "execute_result"
    }
   ],
   "source": [
    "from sklearn.metrics import confusion_matrix\n",
    "\n",
    "confusion_matrix(y_test, y_pred)"
   ]
  },
  {
   "cell_type": "code",
   "execution_count": 9,
   "metadata": {},
   "outputs": [
    {
     "data": {
      "image/png": "[encoded data removed]",
      "text/plain": [
       "<Figure size 432x288 with 2 Axes>"
      ]
     },
     "metadata": {
      "needs_background": "light"
     },
     "output_type": "display_data"
    }
   ],
   "source": [
    "import matplotlib.pyplot as plt\n",
    "from sklearn.metrics import plot_confusion_matrix\n",
    "\n",
    "plot_confusion_matrix(dt, X_test, y_test)  \n",
    "plt.show()"
   ]
  },
  {
   "cell_type": "code",
   "execution_count": 10,
   "metadata": {},
   "outputs": [],
   "source": [
    "#from sklearn.metrics import classification_report\n",
    "\n",
    "#print(classification_report(y_test, y_pred))"
   ]
  },
  {
   "cell_type": "markdown",
   "metadata": {},
   "source": [
    "### Wizualizujemy drzewo"
   ]
  },
  {
   "cell_type": "code",
   "execution_count": 11,
   "metadata": {},
   "outputs": [
    {
     "data": {
      "image/svg+xml": [
       "<?xml version=\"1.0\" encoding=\"UTF-8\" standalone=\"no\"?>\n",
       "<!DOCTYPE svg PUBLIC \"-//W3C//DTD SVG 1.1//EN\"\n",
       " \"http://www.w3.org/Graphics/SVG/1.1/DTD/svg11.dtd\">\n",
       "<!-- Generated by graphviz version 2.40.1 (20161225.0304)\n",
       " -->\n",
       "<!-- Title: Tree Pages: 1 -->\n",
       "<svg width=\"984pt\" height=\"520pt\"\n",
       " viewBox=\"0.00 0.00 983.50 520.00\" xmlns=\"http://www.w3.org/2000/svg\" xmlns:xlink=\"http://www.w3.org/1999/xlink\">\n",
       "<g id=\"graph0\" class=\"graph\" transform=\"scale(1 1) rotate(0) translate(4 516)\">\n",
       "<title>Tree</title>\n",
       "<polygon fill=\"#ffffff\" stroke=\"transparent\" points=\"-4,4 -4,-516 979.5,-516 979.5,4 -4,4\"/>\n",
       "<!-- 0 -->\n",
       "<g id=\"node1\" class=\"node\">\n",
       "<title>0</title>\n",
       "<path fill=\"#f4ccaf\" stroke=\"#000000\" d=\"M644,-512C644,-512 470,-512 470,-512 464,-512 458,-506 458,-500 458,-500 458,-441 458,-441 458,-435 464,-429 470,-429 470,-429 644,-429 644,-429 650,-429 656,-435 656,-441 656,-441 656,-500 656,-500 656,-506 650,-512 644,-512\"/>\n",
       "<text text-anchor=\"start\" x=\"466\" y=\"-496.8\" font-family=\"Helvetica,sans-Serif\" font-size=\"14.00\" fill=\"#000000\">SPAM_PHRASE_00_01 ≤ 0.5</text>\n",
       "<text text-anchor=\"start\" x=\"521.5\" y=\"-481.8\" font-family=\"Helvetica,sans-Serif\" font-size=\"14.00\" fill=\"#000000\">gini = 0.468</text>\n",
       "<text text-anchor=\"start\" x=\"508.5\" y=\"-466.8\" font-family=\"Helvetica,sans-Serif\" font-size=\"14.00\" fill=\"#000000\">samples = 3208</text>\n",
       "<text text-anchor=\"start\" x=\"495\" y=\"-451.8\" font-family=\"Helvetica,sans-Serif\" font-size=\"14.00\" fill=\"#000000\">value = [2011, 1197]</text>\n",
       "<text text-anchor=\"start\" x=\"526\" y=\"-436.8\" font-family=\"Helvetica,sans-Serif\" font-size=\"14.00\" fill=\"#000000\">class = no</text>\n",
       "</g>\n",
       "<!-- 1 -->\n",
       "<g id=\"node2\" class=\"node\">\n",
       "<title>1</title>\n",
       "<path fill=\"#5eafea\" stroke=\"#000000\" d=\"M519.5,-393C519.5,-393 394.5,-393 394.5,-393 388.5,-393 382.5,-387 382.5,-381 382.5,-381 382.5,-322 382.5,-322 382.5,-316 388.5,-310 394.5,-310 394.5,-310 519.5,-310 519.5,-310 525.5,-310 531.5,-316 531.5,-322 531.5,-322 531.5,-381 531.5,-381 531.5,-387 525.5,-393 519.5,-393\"/>\n",
       "<text text-anchor=\"start\" x=\"390.5\" y=\"-377.8\" font-family=\"Helvetica,sans-Serif\" font-size=\"14.00\" fill=\"#000000\">CLICK_BELOW ≤ 0.5</text>\n",
       "<text text-anchor=\"start\" x=\"421.5\" y=\"-362.8\" font-family=\"Helvetica,sans-Serif\" font-size=\"14.00\" fill=\"#000000\">gini = 0.266</text>\n",
       "<text text-anchor=\"start\" x=\"408.5\" y=\"-347.8\" font-family=\"Helvetica,sans-Serif\" font-size=\"14.00\" fill=\"#000000\">samples = 1085</text>\n",
       "<text text-anchor=\"start\" x=\"402.5\" y=\"-332.8\" font-family=\"Helvetica,sans-Serif\" font-size=\"14.00\" fill=\"#000000\">value = [171, 914]</text>\n",
       "<text text-anchor=\"start\" x=\"423\" y=\"-317.8\" font-family=\"Helvetica,sans-Serif\" font-size=\"14.00\" fill=\"#000000\">class = yes</text>\n",
       "</g>\n",
       "<!-- 0&#45;&gt;1 -->\n",
       "<g id=\"edge1\" class=\"edge\">\n",
       "<title>0&#45;&gt;1</title>\n",
       "<path fill=\"none\" stroke=\"#000000\" d=\"M522.0249,-428.8796C514.4565,-419.8733 506.3819,-410.2644 498.588,-400.9897\"/>\n",
       "<polygon fill=\"#000000\" stroke=\"#000000\" points=\"501.2374,-398.7022 492.1244,-393.2981 495.8784,-403.2056 501.2374,-398.7022\"/>\n",
       "<text text-anchor=\"middle\" x=\"490.3958\" y=\"-409.5232\" font-family=\"Helvetica,sans-Serif\" font-size=\"14.00\" fill=\"#000000\">True</text>\n",
       "</g>\n",
       "<!-- 54 -->\n",
       "<g id=\"node11\" class=\"node\">\n",
       "<title>54</title>\n",
       "<path fill=\"#e99457\" stroke=\"#000000\" d=\"M740,-393C740,-393 582,-393 582,-393 576,-393 570,-387 570,-381 570,-381 570,-322 570,-322 570,-316 576,-310 582,-310 582,-310 740,-310 740,-310 746,-310 752,-316 752,-322 752,-322 752,-381 752,-381 752,-387 746,-393 740,-393\"/>\n",
       "<text text-anchor=\"start\" x=\"578\" y=\"-377.8\" font-family=\"Helvetica,sans-Serif\" font-size=\"14.00\" fill=\"#000000\">CTYPE_JUST_HTML ≤ 0.5</text>\n",
       "<text text-anchor=\"start\" x=\"625.5\" y=\"-362.8\" font-family=\"Helvetica,sans-Serif\" font-size=\"14.00\" fill=\"#000000\">gini = 0.231</text>\n",
       "<text text-anchor=\"start\" x=\"612.5\" y=\"-347.8\" font-family=\"Helvetica,sans-Serif\" font-size=\"14.00\" fill=\"#000000\">samples = 2123</text>\n",
       "<text text-anchor=\"start\" x=\"603\" y=\"-332.8\" font-family=\"Helvetica,sans-Serif\" font-size=\"14.00\" fill=\"#000000\">value = [1840, 283]</text>\n",
       "<text text-anchor=\"start\" x=\"630\" y=\"-317.8\" font-family=\"Helvetica,sans-Serif\" font-size=\"14.00\" fill=\"#000000\">class = no</text>\n",
       "</g>\n",
       "<!-- 0&#45;&gt;54 -->\n",
       "<g id=\"edge10\" class=\"edge\">\n",
       "<title>0&#45;&gt;54</title>\n",
       "<path fill=\"none\" stroke=\"#000000\" d=\"M593.3742,-428.8796C601.2452,-419.8733 609.6429,-410.2644 617.7485,-400.9897\"/>\n",
       "<polygon fill=\"#000000\" stroke=\"#000000\" points=\"620.5254,-403.131 624.4706,-393.2981 615.2546,-398.5246 620.5254,-403.131\"/>\n",
       "<text text-anchor=\"middle\" x=\"625.8129\" y=\"-409.553\" font-family=\"Helvetica,sans-Serif\" font-size=\"14.00\" fill=\"#000000\">False</text>\n",
       "</g>\n",
       "<!-- 2 -->\n",
       "<g id=\"node3\" class=\"node\">\n",
       "<title>2</title>\n",
       "<path fill=\"#aad5f4\" stroke=\"#000000\" d=\"M307.5,-274C307.5,-274 202.5,-274 202.5,-274 196.5,-274 190.5,-268 190.5,-262 190.5,-262 190.5,-203 190.5,-203 190.5,-197 196.5,-191 202.5,-191 202.5,-191 307.5,-191 307.5,-191 313.5,-191 319.5,-197 319.5,-203 319.5,-203 319.5,-262 319.5,-262 319.5,-268 313.5,-274 307.5,-274\"/>\n",
       "<text text-anchor=\"start\" x=\"198.5\" y=\"-258.8\" font-family=\"Helvetica,sans-Serif\" font-size=\"14.00\" fill=\"#000000\">WEB_BUGS ≤ 0.5</text>\n",
       "<text text-anchor=\"start\" x=\"219.5\" y=\"-243.8\" font-family=\"Helvetica,sans-Serif\" font-size=\"14.00\" fill=\"#000000\">gini = 0.462</text>\n",
       "<text text-anchor=\"start\" x=\"210\" y=\"-228.8\" font-family=\"Helvetica,sans-Serif\" font-size=\"14.00\" fill=\"#000000\">samples = 469</text>\n",
       "<text text-anchor=\"start\" x=\"200.5\" y=\"-213.8\" font-family=\"Helvetica,sans-Serif\" font-size=\"14.00\" fill=\"#000000\">value = [170, 299]</text>\n",
       "<text text-anchor=\"start\" x=\"221\" y=\"-198.8\" font-family=\"Helvetica,sans-Serif\" font-size=\"14.00\" fill=\"#000000\">class = yes</text>\n",
       "</g>\n",
       "<!-- 1&#45;&gt;2 -->\n",
       "<g id=\"edge2\" class=\"edge\">\n",
       "<title>1&#45;&gt;2</title>\n",
       "<path fill=\"none\" stroke=\"#000000\" d=\"M386.3502,-309.8796C367.5908,-298.8282 347.2915,-286.8697 328.3896,-275.7345\"/>\n",
       "<polygon fill=\"#000000\" stroke=\"#000000\" points=\"329.9185,-272.573 319.5259,-270.5128 326.3654,-278.6043 329.9185,-272.573\"/>\n",
       "</g>\n",
       "<!-- 51 -->\n",
       "<g id=\"node8\" class=\"node\">\n",
       "<title>51</title>\n",
       "<path fill=\"#399de5\" stroke=\"#000000\" d=\"M560,-274C560,-274 354,-274 354,-274 348,-274 342,-268 342,-262 342,-262 342,-203 342,-203 342,-197 348,-191 354,-191 354,-191 560,-191 560,-191 566,-191 572,-197 572,-203 572,-203 572,-262 572,-262 572,-268 566,-274 560,-274\"/>\n",
       "<text text-anchor=\"start\" x=\"350\" y=\"-258.8\" font-family=\"Helvetica,sans-Serif\" font-size=\"14.00\" fill=\"#000000\">BALANCE_FOR_LONG_40K ≤ 0.5</text>\n",
       "<text text-anchor=\"start\" x=\"421.5\" y=\"-243.8\" font-family=\"Helvetica,sans-Serif\" font-size=\"14.00\" fill=\"#000000\">gini = 0.003</text>\n",
       "<text text-anchor=\"start\" x=\"412\" y=\"-228.8\" font-family=\"Helvetica,sans-Serif\" font-size=\"14.00\" fill=\"#000000\">samples = 616</text>\n",
       "<text text-anchor=\"start\" x=\"410\" y=\"-213.8\" font-family=\"Helvetica,sans-Serif\" font-size=\"14.00\" fill=\"#000000\">value = [1, 615]</text>\n",
       "<text text-anchor=\"start\" x=\"423\" y=\"-198.8\" font-family=\"Helvetica,sans-Serif\" font-size=\"14.00\" fill=\"#000000\">class = yes</text>\n",
       "</g>\n",
       "<!-- 1&#45;&gt;51 -->\n",
       "<g id=\"edge7\" class=\"edge\">\n",
       "<title>1&#45;&gt;51</title>\n",
       "<path fill=\"none\" stroke=\"#000000\" d=\"M457,-309.8796C457,-301.6838 457,-292.9891 457,-284.5013\"/>\n",
       "<polygon fill=\"#000000\" stroke=\"#000000\" points=\"460.5001,-284.298 457,-274.2981 453.5001,-284.2981 460.5001,-284.298\"/>\n",
       "</g>\n",
       "<!-- 3 -->\n",
       "<g id=\"node4\" class=\"node\">\n",
       "<title>3</title>\n",
       "<path fill=\"#f5fafe\" stroke=\"#000000\" d=\"M170,-155C170,-155 12,-155 12,-155 6,-155 0,-149 0,-143 0,-143 0,-84 0,-84 0,-78 6,-72 12,-72 12,-72 170,-72 170,-72 176,-72 182,-78 182,-84 182,-84 182,-143 182,-143 182,-149 176,-155 170,-155\"/>\n",
       "<text text-anchor=\"start\" x=\"8\" y=\"-139.8\" font-family=\"Helvetica,sans-Serif\" font-size=\"14.00\" fill=\"#000000\">MISSING_MIMEOLE ≤ 0.5</text>\n",
       "<text text-anchor=\"start\" x=\"63\" y=\"-124.8\" font-family=\"Helvetica,sans-Serif\" font-size=\"14.00\" fill=\"#000000\">gini = 0.5</text>\n",
       "<text text-anchor=\"start\" x=\"46\" y=\"-109.8\" font-family=\"Helvetica,sans-Serif\" font-size=\"14.00\" fill=\"#000000\">samples = 349</text>\n",
       "<text text-anchor=\"start\" x=\"36.5\" y=\"-94.8\" font-family=\"Helvetica,sans-Serif\" font-size=\"14.00\" fill=\"#000000\">value = [170, 179]</text>\n",
       "<text text-anchor=\"start\" x=\"57\" y=\"-79.8\" font-family=\"Helvetica,sans-Serif\" font-size=\"14.00\" fill=\"#000000\">class = yes</text>\n",
       "</g>\n",
       "<!-- 2&#45;&gt;3 -->\n",
       "<g id=\"edge3\" class=\"edge\">\n",
       "<title>2&#45;&gt;3</title>\n",
       "<path fill=\"none\" stroke=\"#000000\" d=\"M197.6408,-190.8796C184.4075,-181.2774 170.2303,-170.9903 156.6736,-161.1534\"/>\n",
       "<polygon fill=\"#000000\" stroke=\"#000000\" points=\"158.4762,-158.1371 148.3269,-155.0969 154.3651,-163.8027 158.4762,-158.1371\"/>\n",
       "</g>\n",
       "<!-- 50 -->\n",
       "<g id=\"node7\" class=\"node\">\n",
       "<title>50</title>\n",
       "<path fill=\"#399de5\" stroke=\"#000000\" d=\"M298,-147.5C298,-147.5 212,-147.5 212,-147.5 206,-147.5 200,-141.5 200,-135.5 200,-135.5 200,-91.5 200,-91.5 200,-85.5 206,-79.5 212,-79.5 212,-79.5 298,-79.5 298,-79.5 304,-79.5 310,-85.5 310,-91.5 310,-91.5 310,-135.5 310,-135.5 310,-141.5 304,-147.5 298,-147.5\"/>\n",
       "<text text-anchor=\"start\" x=\"227\" y=\"-132.3\" font-family=\"Helvetica,sans-Serif\" font-size=\"14.00\" fill=\"#000000\">gini = 0.0</text>\n",
       "<text text-anchor=\"start\" x=\"210\" y=\"-117.3\" font-family=\"Helvetica,sans-Serif\" font-size=\"14.00\" fill=\"#000000\">samples = 120</text>\n",
       "<text text-anchor=\"start\" x=\"208\" y=\"-102.3\" font-family=\"Helvetica,sans-Serif\" font-size=\"14.00\" fill=\"#000000\">value = [0, 120]</text>\n",
       "<text text-anchor=\"start\" x=\"221\" y=\"-87.3\" font-family=\"Helvetica,sans-Serif\" font-size=\"14.00\" fill=\"#000000\">class = yes</text>\n",
       "</g>\n",
       "<!-- 2&#45;&gt;50 -->\n",
       "<g id=\"edge6\" class=\"edge\">\n",
       "<title>2&#45;&gt;50</title>\n",
       "<path fill=\"none\" stroke=\"#000000\" d=\"M255,-190.8796C255,-180.2134 255,-168.7021 255,-157.9015\"/>\n",
       "<polygon fill=\"#000000\" stroke=\"#000000\" points=\"258.5001,-157.8149 255,-147.8149 251.5001,-157.815 258.5001,-157.8149\"/>\n",
       "</g>\n",
       "<!-- 4 -->\n",
       "<g id=\"node5\" class=\"node\">\n",
       "<title>4</title>\n",
       "<path fill=\"#c0c0c0\" stroke=\"#000000\" d=\"M70,-36C70,-36 40,-36 40,-36 34,-36 28,-30 28,-24 28,-24 28,-12 28,-12 28,-6 34,0 40,0 40,0 70,0 70,0 76,0 82,-6 82,-12 82,-12 82,-24 82,-24 82,-30 76,-36 70,-36\"/>\n",
       "<text text-anchor=\"middle\" x=\"55\" y=\"-14.3\" font-family=\"Helvetica,sans-Serif\" font-size=\"14.00\" fill=\"#000000\">(...)</text>\n",
       "</g>\n",
       "<!-- 3&#45;&gt;4 -->\n",
       "<g id=\"edge4\" class=\"edge\">\n",
       "<title>3&#45;&gt;4</title>\n",
       "<path fill=\"none\" stroke=\"#000000\" d=\"M75.3146,-71.8901C71.9739,-63.0279 68.525,-53.8788 65.4386,-45.6913\"/>\n",
       "<polygon fill=\"#000000\" stroke=\"#000000\" points=\"68.6877,-44.3878 61.8853,-36.2651 62.1376,-46.8569 68.6877,-44.3878\"/>\n",
       "</g>\n",
       "<!-- 49 -->\n",
       "<g id=\"node6\" class=\"node\">\n",
       "<title>49</title>\n",
       "<path fill=\"#c0c0c0\" stroke=\"#000000\" d=\"M142,-36C142,-36 112,-36 112,-36 106,-36 100,-30 100,-24 100,-24 100,-12 100,-12 100,-6 106,0 112,0 112,0 142,0 142,0 148,0 154,-6 154,-12 154,-12 154,-24 154,-24 154,-30 148,-36 142,-36\"/>\n",
       "<text text-anchor=\"middle\" x=\"127\" y=\"-14.3\" font-family=\"Helvetica,sans-Serif\" font-size=\"14.00\" fill=\"#000000\">(...)</text>\n",
       "</g>\n",
       "<!-- 3&#45;&gt;49 -->\n",
       "<g id=\"edge5\" class=\"edge\">\n",
       "<title>3&#45;&gt;49</title>\n",
       "<path fill=\"none\" stroke=\"#000000\" d=\"M106.6854,-71.8901C110.0261,-63.0279 113.475,-53.8788 116.5614,-45.6913\"/>\n",
       "<polygon fill=\"#000000\" stroke=\"#000000\" points=\"119.8624,-46.8569 120.1147,-36.2651 113.3123,-44.3878 119.8624,-46.8569\"/>\n",
       "</g>\n",
       "<!-- 52 -->\n",
       "<g id=\"node9\" class=\"node\">\n",
       "<title>52</title>\n",
       "<path fill=\"#399de5\" stroke=\"#000000\" d=\"M426,-147.5C426,-147.5 340,-147.5 340,-147.5 334,-147.5 328,-141.5 328,-135.5 328,-135.5 328,-91.5 328,-91.5 328,-85.5 334,-79.5 340,-79.5 340,-79.5 426,-79.5 426,-79.5 432,-79.5 438,-85.5 438,-91.5 438,-91.5 438,-135.5 438,-135.5 438,-141.5 432,-147.5 426,-147.5\"/>\n",
       "<text text-anchor=\"start\" x=\"355\" y=\"-132.3\" font-family=\"Helvetica,sans-Serif\" font-size=\"14.00\" fill=\"#000000\">gini = 0.0</text>\n",
       "<text text-anchor=\"start\" x=\"338\" y=\"-117.3\" font-family=\"Helvetica,sans-Serif\" font-size=\"14.00\" fill=\"#000000\">samples = 615</text>\n",
       "<text text-anchor=\"start\" x=\"336\" y=\"-102.3\" font-family=\"Helvetica,sans-Serif\" font-size=\"14.00\" fill=\"#000000\">value = [0, 615]</text>\n",
       "<text text-anchor=\"start\" x=\"349\" y=\"-87.3\" font-family=\"Helvetica,sans-Serif\" font-size=\"14.00\" fill=\"#000000\">class = yes</text>\n",
       "</g>\n",
       "<!-- 51&#45;&gt;52 -->\n",
       "<g id=\"edge8\" class=\"edge\">\n",
       "<title>51&#45;&gt;52</title>\n",
       "<path fill=\"none\" stroke=\"#000000\" d=\"M431.1184,-190.8796C424.2121,-179.7735 416.7361,-167.7513 409.7825,-156.5691\"/>\n",
       "<polygon fill=\"#000000\" stroke=\"#000000\" points=\"412.5917,-154.4587 404.3387,-147.8149 406.6473,-158.1552 412.5917,-154.4587\"/>\n",
       "</g>\n",
       "<!-- 53 -->\n",
       "<g id=\"node10\" class=\"node\">\n",
       "<title>53</title>\n",
       "<path fill=\"#e58139\" stroke=\"#000000\" d=\"M539.5,-147.5C539.5,-147.5 468.5,-147.5 468.5,-147.5 462.5,-147.5 456.5,-141.5 456.5,-135.5 456.5,-135.5 456.5,-91.5 456.5,-91.5 456.5,-85.5 462.5,-79.5 468.5,-79.5 468.5,-79.5 539.5,-79.5 539.5,-79.5 545.5,-79.5 551.5,-85.5 551.5,-91.5 551.5,-91.5 551.5,-135.5 551.5,-135.5 551.5,-141.5 545.5,-147.5 539.5,-147.5\"/>\n",
       "<text text-anchor=\"start\" x=\"476\" y=\"-132.3\" font-family=\"Helvetica,sans-Serif\" font-size=\"14.00\" fill=\"#000000\">gini = 0.0</text>\n",
       "<text text-anchor=\"start\" x=\"466.5\" y=\"-117.3\" font-family=\"Helvetica,sans-Serif\" font-size=\"14.00\" fill=\"#000000\">samples = 1</text>\n",
       "<text text-anchor=\"start\" x=\"464.5\" y=\"-102.3\" font-family=\"Helvetica,sans-Serif\" font-size=\"14.00\" fill=\"#000000\">value = [1, 0]</text>\n",
       "<text text-anchor=\"start\" x=\"473\" y=\"-87.3\" font-family=\"Helvetica,sans-Serif\" font-size=\"14.00\" fill=\"#000000\">class = no</text>\n",
       "</g>\n",
       "<!-- 51&#45;&gt;53 -->\n",
       "<g id=\"edge9\" class=\"edge\">\n",
       "<title>51&#45;&gt;53</title>\n",
       "<path fill=\"none\" stroke=\"#000000\" d=\"M473.4383,-190.8796C477.7379,-179.9935 482.3851,-168.227 486.7268,-157.2344\"/>\n",
       "<polygon fill=\"#000000\" stroke=\"#000000\" points=\"490.0288,-158.4015 490.447,-147.8149 483.5182,-155.8301 490.0288,-158.4015\"/>\n",
       "</g>\n",
       "<!-- 55 -->\n",
       "<g id=\"node12\" class=\"node\">\n",
       "<title>55</title>\n",
       "<path fill=\"#e78a48\" stroke=\"#000000\" d=\"M715.5,-274C715.5,-274 606.5,-274 606.5,-274 600.5,-274 594.5,-268 594.5,-262 594.5,-262 594.5,-203 594.5,-203 594.5,-197 600.5,-191 606.5,-191 606.5,-191 715.5,-191 715.5,-191 721.5,-191 727.5,-197 727.5,-203 727.5,-203 727.5,-262 727.5,-262 727.5,-268 721.5,-274 715.5,-274\"/>\n",
       "<text text-anchor=\"start\" x=\"602.5\" y=\"-258.8\" font-family=\"Helvetica,sans-Serif\" font-size=\"14.00\" fill=\"#000000\">RESENT_TO ≤ 0.5</text>\n",
       "<text text-anchor=\"start\" x=\"625.5\" y=\"-243.8\" font-family=\"Helvetica,sans-Serif\" font-size=\"14.00\" fill=\"#000000\">gini = 0.128</text>\n",
       "<text text-anchor=\"start\" x=\"612.5\" y=\"-228.8\" font-family=\"Helvetica,sans-Serif\" font-size=\"14.00\" fill=\"#000000\">samples = 1976</text>\n",
       "<text text-anchor=\"start\" x=\"603\" y=\"-213.8\" font-family=\"Helvetica,sans-Serif\" font-size=\"14.00\" fill=\"#000000\">value = [1840, 136]</text>\n",
       "<text text-anchor=\"start\" x=\"630\" y=\"-198.8\" font-family=\"Helvetica,sans-Serif\" font-size=\"14.00\" fill=\"#000000\">class = no</text>\n",
       "</g>\n",
       "<!-- 54&#45;&gt;55 -->\n",
       "<g id=\"edge11\" class=\"edge\">\n",
       "<title>54&#45;&gt;55</title>\n",
       "<path fill=\"none\" stroke=\"#000000\" d=\"M661,-309.8796C661,-301.6838 661,-292.9891 661,-284.5013\"/>\n",
       "<polygon fill=\"#000000\" stroke=\"#000000\" points=\"664.5001,-284.298 661,-274.2981 657.5001,-284.2981 664.5001,-284.298\"/>\n",
       "</g>\n",
       "<!-- 308 -->\n",
       "<g id=\"node19\" class=\"node\">\n",
       "<title>308</title>\n",
       "<path fill=\"#399de5\" stroke=\"#000000\" d=\"M844,-266.5C844,-266.5 758,-266.5 758,-266.5 752,-266.5 746,-260.5 746,-254.5 746,-254.5 746,-210.5 746,-210.5 746,-204.5 752,-198.5 758,-198.5 758,-198.5 844,-198.5 844,-198.5 850,-198.5 856,-204.5 856,-210.5 856,-210.5 856,-254.5 856,-254.5 856,-260.5 850,-266.5 844,-266.5\"/>\n",
       "<text text-anchor=\"start\" x=\"773\" y=\"-251.3\" font-family=\"Helvetica,sans-Serif\" font-size=\"14.00\" fill=\"#000000\">gini = 0.0</text>\n",
       "<text text-anchor=\"start\" x=\"756\" y=\"-236.3\" font-family=\"Helvetica,sans-Serif\" font-size=\"14.00\" fill=\"#000000\">samples = 147</text>\n",
       "<text text-anchor=\"start\" x=\"754\" y=\"-221.3\" font-family=\"Helvetica,sans-Serif\" font-size=\"14.00\" fill=\"#000000\">value = [0, 147]</text>\n",
       "<text text-anchor=\"start\" x=\"767\" y=\"-206.3\" font-family=\"Helvetica,sans-Serif\" font-size=\"14.00\" fill=\"#000000\">class = yes</text>\n",
       "</g>\n",
       "<!-- 54&#45;&gt;308 -->\n",
       "<g id=\"edge18\" class=\"edge\">\n",
       "<title>54&#45;&gt;308</title>\n",
       "<path fill=\"none\" stroke=\"#000000\" d=\"M709.9652,-309.8796C723.8073,-298.1138 738.8592,-285.3197 752.6641,-273.5855\"/>\n",
       "<polygon fill=\"#000000\" stroke=\"#000000\" points=\"755.2769,-275.9582 760.6295,-266.8149 750.7433,-270.6247 755.2769,-275.9582\"/>\n",
       "</g>\n",
       "<!-- 56 -->\n",
       "<g id=\"node13\" class=\"node\">\n",
       "<title>56</title>\n",
       "<path fill=\"#e68743\" stroke=\"#000000\" d=\"M740,-155C740,-155 582,-155 582,-155 576,-155 570,-149 570,-143 570,-143 570,-84 570,-84 570,-78 576,-72 582,-72 582,-72 740,-72 740,-72 746,-72 752,-78 752,-84 752,-84 752,-143 752,-143 752,-149 746,-155 740,-155\"/>\n",
       "<text text-anchor=\"start\" x=\"578\" y=\"-139.8\" font-family=\"Helvetica,sans-Serif\" font-size=\"14.00\" fill=\"#000000\">MISSING_MIMEOLE ≤ 0.5</text>\n",
       "<text text-anchor=\"start\" x=\"625.5\" y=\"-124.8\" font-family=\"Helvetica,sans-Serif\" font-size=\"14.00\" fill=\"#000000\">gini = 0.091</text>\n",
       "<text text-anchor=\"start\" x=\"612.5\" y=\"-109.8\" font-family=\"Helvetica,sans-Serif\" font-size=\"14.00\" fill=\"#000000\">samples = 1922</text>\n",
       "<text text-anchor=\"start\" x=\"606.5\" y=\"-94.8\" font-family=\"Helvetica,sans-Serif\" font-size=\"14.00\" fill=\"#000000\">value = [1830, 92]</text>\n",
       "<text text-anchor=\"start\" x=\"630\" y=\"-79.8\" font-family=\"Helvetica,sans-Serif\" font-size=\"14.00\" fill=\"#000000\">class = no</text>\n",
       "</g>\n",
       "<!-- 55&#45;&gt;56 -->\n",
       "<g id=\"edge12\" class=\"edge\">\n",
       "<title>55&#45;&gt;56</title>\n",
       "<path fill=\"none\" stroke=\"#000000\" d=\"M661,-190.8796C661,-182.6838 661,-173.9891 661,-165.5013\"/>\n",
       "<polygon fill=\"#000000\" stroke=\"#000000\" points=\"664.5001,-165.298 661,-155.2981 657.5001,-165.2981 664.5001,-165.298\"/>\n",
       "</g>\n",
       "<!-- 291 -->\n",
       "<g id=\"node16\" class=\"node\">\n",
       "<title>291</title>\n",
       "<path fill=\"#66b3eb\" stroke=\"#000000\" d=\"M963.5,-155C963.5,-155 782.5,-155 782.5,-155 776.5,-155 770.5,-149 770.5,-143 770.5,-143 770.5,-84 770.5,-84 770.5,-78 776.5,-72 782.5,-72 782.5,-72 963.5,-72 963.5,-72 969.5,-72 975.5,-78 975.5,-84 975.5,-84 975.5,-143 975.5,-143 975.5,-149 969.5,-155 963.5,-155\"/>\n",
       "<text text-anchor=\"start\" x=\"778.5\" y=\"-139.8\" font-family=\"Helvetica,sans-Serif\" font-size=\"14.00\" fill=\"#000000\">KNOWN_MAILING_LIST ≤ 0.5</text>\n",
       "<text text-anchor=\"start\" x=\"837.5\" y=\"-124.8\" font-family=\"Helvetica,sans-Serif\" font-size=\"14.00\" fill=\"#000000\">gini = 0.302</text>\n",
       "<text text-anchor=\"start\" x=\"832\" y=\"-109.8\" font-family=\"Helvetica,sans-Serif\" font-size=\"14.00\" fill=\"#000000\">samples = 54</text>\n",
       "<text text-anchor=\"start\" x=\"826\" y=\"-94.8\" font-family=\"Helvetica,sans-Serif\" font-size=\"14.00\" fill=\"#000000\">value = [10, 44]</text>\n",
       "<text text-anchor=\"start\" x=\"839\" y=\"-79.8\" font-family=\"Helvetica,sans-Serif\" font-size=\"14.00\" fill=\"#000000\">class = yes</text>\n",
       "</g>\n",
       "<!-- 55&#45;&gt;291 -->\n",
       "<g id=\"edge15\" class=\"edge\">\n",
       "<title>55&#45;&gt;291</title>\n",
       "<path fill=\"none\" stroke=\"#000000\" d=\"M727.7871,-195.011C747.5401,-183.9233 769.4079,-171.6484 790.0501,-160.0615\"/>\n",
       "<polygon fill=\"#000000\" stroke=\"#000000\" points=\"791.805,-163.0902 798.812,-155.1433 788.3786,-156.9861 791.805,-163.0902\"/>\n",
       "</g>\n",
       "<!-- 57 -->\n",
       "<g id=\"node14\" class=\"node\">\n",
       "<title>57</title>\n",
       "<path fill=\"#c0c0c0\" stroke=\"#000000\" d=\"M640,-36C640,-36 610,-36 610,-36 604,-36 598,-30 598,-24 598,-24 598,-12 598,-12 598,-6 604,0 610,0 610,0 640,0 640,0 646,0 652,-6 652,-12 652,-12 652,-24 652,-24 652,-30 646,-36 640,-36\"/>\n",
       "<text text-anchor=\"middle\" x=\"625\" y=\"-14.3\" font-family=\"Helvetica,sans-Serif\" font-size=\"14.00\" fill=\"#000000\">(...)</text>\n",
       "</g>\n",
       "<!-- 56&#45;&gt;57 -->\n",
       "<g id=\"edge13\" class=\"edge\">\n",
       "<title>56&#45;&gt;57</title>\n",
       "<path fill=\"none\" stroke=\"#000000\" d=\"M645.3146,-71.8901C641.9739,-63.0279 638.525,-53.8788 635.4386,-45.6913\"/>\n",
       "<polygon fill=\"#000000\" stroke=\"#000000\" points=\"638.6877,-44.3878 631.8853,-36.2651 632.1376,-46.8569 638.6877,-44.3878\"/>\n",
       "</g>\n",
       "<!-- 288 -->\n",
       "<g id=\"node15\" class=\"node\">\n",
       "<title>288</title>\n",
       "<path fill=\"#c0c0c0\" stroke=\"#000000\" d=\"M712,-36C712,-36 682,-36 682,-36 676,-36 670,-30 670,-24 670,-24 670,-12 670,-12 670,-6 676,0 682,0 682,0 712,0 712,0 718,0 724,-6 724,-12 724,-12 724,-24 724,-24 724,-30 718,-36 712,-36\"/>\n",
       "<text text-anchor=\"middle\" x=\"697\" y=\"-14.3\" font-family=\"Helvetica,sans-Serif\" font-size=\"14.00\" fill=\"#000000\">(...)</text>\n",
       "</g>\n",
       "<!-- 56&#45;&gt;288 -->\n",
       "<g id=\"edge14\" class=\"edge\">\n",
       "<title>56&#45;&gt;288</title>\n",
       "<path fill=\"none\" stroke=\"#000000\" d=\"M676.6854,-71.8901C680.0261,-63.0279 683.475,-53.8788 686.5614,-45.6913\"/>\n",
       "<polygon fill=\"#000000\" stroke=\"#000000\" points=\"689.8624,-46.8569 690.1147,-36.2651 683.3123,-44.3878 689.8624,-46.8569\"/>\n",
       "</g>\n",
       "<!-- 292 -->\n",
       "<g id=\"node17\" class=\"node\">\n",
       "<title>292</title>\n",
       "<path fill=\"#c0c0c0\" stroke=\"#000000\" d=\"M852,-36C852,-36 822,-36 822,-36 816,-36 810,-30 810,-24 810,-24 810,-12 810,-12 810,-6 816,0 822,0 822,0 852,0 852,0 858,0 864,-6 864,-12 864,-12 864,-24 864,-24 864,-30 858,-36 852,-36\"/>\n",
       "<text text-anchor=\"middle\" x=\"837\" y=\"-14.3\" font-family=\"Helvetica,sans-Serif\" font-size=\"14.00\" fill=\"#000000\">(...)</text>\n",
       "</g>\n",
       "<!-- 291&#45;&gt;292 -->\n",
       "<g id=\"edge16\" class=\"edge\">\n",
       "<title>291&#45;&gt;292</title>\n",
       "<path fill=\"none\" stroke=\"#000000\" d=\"M857.3146,-71.8901C853.9739,-63.0279 850.525,-53.8788 847.4386,-45.6913\"/>\n",
       "<polygon fill=\"#000000\" stroke=\"#000000\" points=\"850.6877,-44.3878 843.8853,-36.2651 844.1376,-46.8569 850.6877,-44.3878\"/>\n",
       "</g>\n",
       "<!-- 307 -->\n",
       "<g id=\"node18\" class=\"node\">\n",
       "<title>307</title>\n",
       "<path fill=\"#c0c0c0\" stroke=\"#000000\" d=\"M924,-36C924,-36 894,-36 894,-36 888,-36 882,-30 882,-24 882,-24 882,-12 882,-12 882,-6 888,0 894,0 894,0 924,0 924,0 930,0 936,-6 936,-12 936,-12 936,-24 936,-24 936,-30 930,-36 924,-36\"/>\n",
       "<text text-anchor=\"middle\" x=\"909\" y=\"-14.3\" font-family=\"Helvetica,sans-Serif\" font-size=\"14.00\" fill=\"#000000\">(...)</text>\n",
       "</g>\n",
       "<!-- 291&#45;&gt;307 -->\n",
       "<g id=\"edge17\" class=\"edge\">\n",
       "<title>291&#45;&gt;307</title>\n",
       "<path fill=\"none\" stroke=\"#000000\" d=\"M888.6854,-71.8901C892.0261,-63.0279 895.475,-53.8788 898.5614,-45.6913\"/>\n",
       "<polygon fill=\"#000000\" stroke=\"#000000\" points=\"901.8624,-46.8569 902.1147,-36.2651 895.3123,-44.3878 901.8624,-46.8569\"/>\n",
       "</g>\n",
       "</g>\n",
       "</svg>\n"
      ],
      "text/plain": [
       "<graphviz.files.Source at 0x7fb93488afd0>"
      ]
     },
     "execution_count": 11,
     "metadata": {},
     "output_type": "execute_result"
    }
   ],
   "source": [
    "import graphviz\n",
    "from sklearn import tree\n",
    "\n",
    "dot_data = tree.export_graphviz(dt, out_file=None, max_depth=3, \n",
    "                                feature_names=X_train.columns, class_names=sorted(y_train.unique()),  \n",
    "                                filled=True, rounded=True, special_characters=True) \n",
    "\n",
    "graph = graphviz.Source(dot_data) \n",
    "graph"
   ]
  },
  {
   "cell_type": "markdown",
   "metadata": {},
   "source": [
    "***\n",
    "## Przykład 2: Credit card data \n",
    "\n",
    "Opis tego zbioru - patrz creditcard-data-readme.txt\n",
    "\n",
    "\n",
    "To są dane bardzo niezbalansowane"
   ]
  },
  {
   "cell_type": "code",
   "execution_count": 12,
   "metadata": {},
   "outputs": [
    {
     "data": {
      "text/html": [
       "<div>\n",
       "<style scoped>\n",
       "    .dataframe tbody tr th:only-of-type {\n",
       "        vertical-align: middle;\n",
       "    }\n",
       "\n",
       "    .dataframe tbody tr th {\n",
       "        vertical-align: top;\n",
       "    }\n",
       "\n",
       "    .dataframe thead th {\n",
       "        text-align: right;\n",
       "    }\n",
       "</style>\n",
       "<table border=\"1\" class=\"dataframe\">\n",
       "  <thead>\n",
       "    <tr style=\"text-align: right;\">\n",
       "      <th></th>\n",
       "      <th>Time</th>\n",
       "      <th>V1</th>\n",
       "      <th>V2</th>\n",
       "      <th>V3</th>\n",
       "      <th>V4</th>\n",
       "      <th>V5</th>\n",
       "      <th>V6</th>\n",
       "      <th>V7</th>\n",
       "      <th>V8</th>\n",
       "      <th>V9</th>\n",
       "      <th>...</th>\n",
       "      <th>V21</th>\n",
       "      <th>V22</th>\n",
       "      <th>V23</th>\n",
       "      <th>V24</th>\n",
       "      <th>V25</th>\n",
       "      <th>V26</th>\n",
       "      <th>V27</th>\n",
       "      <th>V28</th>\n",
       "      <th>Amount</th>\n",
       "      <th>Class</th>\n",
       "    </tr>\n",
       "  </thead>\n",
       "  <tbody>\n",
       "    <tr>\n",
       "      <th>0</th>\n",
       "      <td>0.0</td>\n",
       "      <td>-1.359807</td>\n",
       "      <td>-0.072781</td>\n",
       "      <td>2.536347</td>\n",
       "      <td>1.378155</td>\n",
       "      <td>-0.338321</td>\n",
       "      <td>0.462388</td>\n",
       "      <td>0.239599</td>\n",
       "      <td>0.098698</td>\n",
       "      <td>0.363787</td>\n",
       "      <td>...</td>\n",
       "      <td>-0.018307</td>\n",
       "      <td>0.277838</td>\n",
       "      <td>-0.110474</td>\n",
       "      <td>0.066928</td>\n",
       "      <td>0.128539</td>\n",
       "      <td>-0.189115</td>\n",
       "      <td>0.133558</td>\n",
       "      <td>-0.021053</td>\n",
       "      <td>149.62</td>\n",
       "      <td>0</td>\n",
       "    </tr>\n",
       "    <tr>\n",
       "      <th>1</th>\n",
       "      <td>0.0</td>\n",
       "      <td>1.191857</td>\n",
       "      <td>0.266151</td>\n",
       "      <td>0.166480</td>\n",
       "      <td>0.448154</td>\n",
       "      <td>0.060018</td>\n",
       "      <td>-0.082361</td>\n",
       "      <td>-0.078803</td>\n",
       "      <td>0.085102</td>\n",
       "      <td>-0.255425</td>\n",
       "      <td>...</td>\n",
       "      <td>-0.225775</td>\n",
       "      <td>-0.638672</td>\n",
       "      <td>0.101288</td>\n",
       "      <td>-0.339846</td>\n",
       "      <td>0.167170</td>\n",
       "      <td>0.125895</td>\n",
       "      <td>-0.008983</td>\n",
       "      <td>0.014724</td>\n",
       "      <td>2.69</td>\n",
       "      <td>0</td>\n",
       "    </tr>\n",
       "    <tr>\n",
       "      <th>2</th>\n",
       "      <td>1.0</td>\n",
       "      <td>-1.358354</td>\n",
       "      <td>-1.340163</td>\n",
       "      <td>1.773209</td>\n",
       "      <td>0.379780</td>\n",
       "      <td>-0.503198</td>\n",
       "      <td>1.800499</td>\n",
       "      <td>0.791461</td>\n",
       "      <td>0.247676</td>\n",
       "      <td>-1.514654</td>\n",
       "      <td>...</td>\n",
       "      <td>0.247998</td>\n",
       "      <td>0.771679</td>\n",
       "      <td>0.909412</td>\n",
       "      <td>-0.689281</td>\n",
       "      <td>-0.327642</td>\n",
       "      <td>-0.139097</td>\n",
       "      <td>-0.055353</td>\n",
       "      <td>-0.059752</td>\n",
       "      <td>378.66</td>\n",
       "      <td>0</td>\n",
       "    </tr>\n",
       "    <tr>\n",
       "      <th>3</th>\n",
       "      <td>1.0</td>\n",
       "      <td>-0.966272</td>\n",
       "      <td>-0.185226</td>\n",
       "      <td>1.792993</td>\n",
       "      <td>-0.863291</td>\n",
       "      <td>-0.010309</td>\n",
       "      <td>1.247203</td>\n",
       "      <td>0.237609</td>\n",
       "      <td>0.377436</td>\n",
       "      <td>-1.387024</td>\n",
       "      <td>...</td>\n",
       "      <td>-0.108300</td>\n",
       "      <td>0.005274</td>\n",
       "      <td>-0.190321</td>\n",
       "      <td>-1.175575</td>\n",
       "      <td>0.647376</td>\n",
       "      <td>-0.221929</td>\n",
       "      <td>0.062723</td>\n",
       "      <td>0.061458</td>\n",
       "      <td>123.50</td>\n",
       "      <td>0</td>\n",
       "    </tr>\n",
       "    <tr>\n",
       "      <th>4</th>\n",
       "      <td>2.0</td>\n",
       "      <td>-1.158233</td>\n",
       "      <td>0.877737</td>\n",
       "      <td>1.548718</td>\n",
       "      <td>0.403034</td>\n",
       "      <td>-0.407193</td>\n",
       "      <td>0.095921</td>\n",
       "      <td>0.592941</td>\n",
       "      <td>-0.270533</td>\n",
       "      <td>0.817739</td>\n",
       "      <td>...</td>\n",
       "      <td>-0.009431</td>\n",
       "      <td>0.798278</td>\n",
       "      <td>-0.137458</td>\n",
       "      <td>0.141267</td>\n",
       "      <td>-0.206010</td>\n",
       "      <td>0.502292</td>\n",
       "      <td>0.219422</td>\n",
       "      <td>0.215153</td>\n",
       "      <td>69.99</td>\n",
       "      <td>0</td>\n",
       "    </tr>\n",
       "  </tbody>\n",
       "</table>\n",
       "<p>5 rows × 31 columns</p>\n",
       "</div>"
      ],
      "text/plain": [
       "   Time        V1        V2        V3        V4        V5        V6        V7  \\\n",
       "0   0.0 -1.359807 -0.072781  2.536347  1.378155 -0.338321  0.462388  0.239599   \n",
       "1   0.0  1.191857  0.266151  0.166480  0.448154  0.060018 -0.082361 -0.078803   \n",
       "2   1.0 -1.358354 -1.340163  1.773209  0.379780 -0.503198  1.800499  0.791461   \n",
       "3   1.0 -0.966272 -0.185226  1.792993 -0.863291 -0.010309  1.247203  0.237609   \n",
       "4   2.0 -1.158233  0.877737  1.548718  0.403034 -0.407193  0.095921  0.592941   \n",
       "\n",
       "         V8        V9  ...       V21       V22       V23       V24       V25  \\\n",
       "0  0.098698  0.363787  ... -0.018307  0.277838 -0.110474  0.066928  0.128539   \n",
       "1  0.085102 -0.255425  ... -0.225775 -0.638672  0.101288 -0.339846  0.167170   \n",
       "2  0.247676 -1.514654  ...  0.247998  0.771679  0.909412 -0.689281 -0.327642   \n",
       "3  0.377436 -1.387024  ... -0.108300  0.005274 -0.190321 -1.175575  0.647376   \n",
       "4 -0.270533  0.817739  ... -0.009431  0.798278 -0.137458  0.141267 -0.206010   \n",
       "\n",
       "        V26       V27       V28  Amount  Class  \n",
       "0 -0.189115  0.133558 -0.021053  149.62      0  \n",
       "1  0.125895 -0.008983  0.014724    2.69      0  \n",
       "2 -0.139097 -0.055353 -0.059752  378.66      0  \n",
       "3 -0.221929  0.062723  0.061458  123.50      0  \n",
       "4  0.502292  0.219422  0.215153   69.99      0  \n",
       "\n",
       "[5 rows x 31 columns]"
      ]
     },
     "execution_count": 12,
     "metadata": {},
     "output_type": "execute_result"
    }
   ],
   "source": [
    "dataframe = pd.read_csv(\"./data/creditcard.csv\")\n",
    "dataframe.head(5)"
   ]
  },
  {
   "cell_type": "code",
   "execution_count": 13,
   "metadata": {},
   "outputs": [
    {
     "data": {
      "text/plain": [
       "(284807, 31)"
      ]
     },
     "execution_count": 13,
     "metadata": {},
     "output_type": "execute_result"
    }
   ],
   "source": [
    "dataframe.shape"
   ]
  },
  {
   "cell_type": "markdown",
   "metadata": {},
   "source": [
    "### Class-imbalance -- nieliczne transakcje *fraud*"
   ]
  },
  {
   "cell_type": "code",
   "execution_count": 14,
   "metadata": {},
   "outputs": [
    {
     "data": {
      "text/plain": [
       "0    284315\n",
       "1       492\n",
       "Name: Class, dtype: int64"
      ]
     },
     "execution_count": 14,
     "metadata": {},
     "output_type": "execute_result"
    }
   ],
   "source": [
    "dataframe['Class'].value_counts()"
   ]
  },
  {
   "cell_type": "markdown",
   "metadata": {},
   "source": [
    "### W efekcie niska czułość klasyfikatora -- pokażemy to na przykładzie drzewa"
   ]
  },
  {
   "cell_type": "code",
   "execution_count": 15,
   "metadata": {},
   "outputs": [
    {
     "name": "stdout",
     "output_type": "stream",
     "text": [
      "train rows: 190820, test rows: 93987\n"
     ]
    }
   ],
   "source": [
    "X = dataframe.drop(['Class'],axis=1)\n",
    "y = dataframe.Class\n",
    "\n",
    "X_train, X_test, y_train, y_test = train_test_split(X,y,random_state=331, test_size=0.33)\n",
    "\n",
    "print(\"train rows: {}, test rows: {}\".format(X_train.shape[0], X_test.shape[0]))  # rows"
   ]
  },
  {
   "cell_type": "code",
   "execution_count": 16,
   "metadata": {},
   "outputs": [
    {
     "data": {
      "text/plain": [
       "0.9991913775309351"
      ]
     },
     "execution_count": 16,
     "metadata": {},
     "output_type": "execute_result"
    }
   ],
   "source": [
    "dt = DecisionTreeClassifier()\n",
    "dt.fit(X_train,y_train)\n",
    "\n",
    "y_pred = dt.predict(X_test)\n",
    "\n",
    "dt.score(X_test, y_test)"
   ]
  },
  {
   "cell_type": "code",
   "execution_count": 17,
   "metadata": {},
   "outputs": [
    {
     "data": {
      "text/plain": [
       "array([[  117,    40],\n",
       "       [   36, 93794]])"
      ]
     },
     "execution_count": 17,
     "metadata": {},
     "output_type": "execute_result"
    }
   ],
   "source": [
    "confusion_matrix(y_test, y_pred, labels=[1,0])\n"
   ]
  },
  {
   "cell_type": "code",
   "execution_count": 18,
   "metadata": {},
   "outputs": [
    {
     "data": {
      "text/plain": [
       "(117, 40, 36, 93794)"
      ]
     },
     "execution_count": 18,
     "metadata": {},
     "output_type": "execute_result"
    }
   ],
   "source": [
    "tp, fn, fp, tn = confusion_matrix(y_test, y_pred, labels=[1,0]).ravel()\n",
    "(tp, fn, fp, tn)"
   ]
  },
  {
   "cell_type": "code",
   "execution_count": 19,
   "metadata": {},
   "outputs": [
    {
     "name": "stdout",
     "output_type": "stream",
     "text": [
      "sensitivity = 0.7452, specificity = 0.9996\n"
     ]
    }
   ],
   "source": [
    "sensitivity = tp/(tp+fn)\n",
    "specificity = tn/(fp+tn)\n",
    "\n",
    "print(\"sensitivity = {:.4f}, specificity = {:.4f}\".format(sensitivity, specificity))"
   ]
  },
  {
   "cell_type": "markdown",
   "metadata": {},
   "source": [
    "### Wniosek / obserwacja:\n",
    "1. niska czułość modelu\n",
    "2. równocześnie wartość accuracy - bardzo wysoka!\n",
    "\n",
    "W ramach projektu należy spróbować poprawić czułość modelu (do założonego poziomu czułości), tak żeby w najmniejszym stopniu pogorszyć specyficzność - w tym celu stosujemy techniki 1-6. "
   ]
  },
  {
   "cell_type": "markdown",
   "metadata": {},
   "source": [
    "***"
   ]
  },
  {
   "cell_type": "markdown",
   "metadata": {},
   "source": [
    "## Sugerowane narzędzia"
   ]
  },
  {
   "cell_type": "markdown",
   "metadata": {},
   "source": [
    "### Narzędzia biblioteki scikit-learn \n",
    "\n",
    "http://scikit-learn.org/stable/index.html\n",
    "\n",
    "http://scikit-learn.org/stable/user_guide.html\n",
    "\n",
    "\n",
    "Polecam wykorzystanie w tym projekcie dystrybucji Anaconda. \n"
   ]
  },
  {
   "cell_type": "markdown",
   "metadata": {},
   "source": [
    "### Algorytmy klasyfikacji (to tylko kilka przykładów)\n"
   ]
  },
  {
   "cell_type": "markdown",
   "metadata": {},
   "source": [
    "from sklearn.tree import DecisionTreeClassifier\n",
    "from sklearn.naive_bayes import MultinomialNB\n",
    "from sklearn import svm\n",
    "from sklearn.neural_network import MLPClassifier\n"
   ]
  },
  {
   "cell_type": "markdown",
   "metadata": {},
   "source": [
    "### Metody dla danych niezbalansowanych (class-imbalanced data)\n"
   ]
  },
  {
   "cell_type": "markdown",
   "metadata": {},
   "source": [
    "imbalanced-learn Python library:\n",
    "import imblearn\n",
    "\n",
    "również: https://github.com/scikit-learn-contrib/imbalanced-learn\n",
    "\n",
    "tu m.in. algorytm smote\n"
   ]
  },
  {
   "cell_type": "markdown",
   "metadata": {},
   "source": [
    "### Redukcja wymiaru / PCA\n"
   ]
  },
  {
   "cell_type": "markdown",
   "metadata": {},
   "source": [
    "from sklearn.decomposition import PCA\n",
    "sklearn.feature_selection\n"
   ]
  },
  {
   "cell_type": "markdown",
   "metadata": {},
   "source": [
    "### Ocena jakości klasyfikatora\n"
   ]
  },
  {
   "cell_type": "markdown",
   "metadata": {},
   "source": [
    "from sklearn.metrics import confusion_matrix\n",
    "\n",
    "tu wiele innych metryk - np. ROC curve\n"
   ]
  },
  {
   "cell_type": "markdown",
   "metadata": {},
   "source": [
    "### Sugerowane środowisko wykonania badań:\n",
    "\n",
    "jupyter lab  \n",
    "(lepsza wersja jupyter notebooka)\n",
    "\n",
    "Google Colab\n"
   ]
  }
 ],
 "metadata": {
  "kernelspec": {
   "display_name": "Python 3 (ipykernel)",
   "language": "python",
   "name": "python3"
  },
  "language_info": {
   "codemirror_mode": {
    "name": "ipython",
    "version": 3
   },
   "file_extension": ".py",
   "mimetype": "text/x-python",
   "name": "python",
   "nbconvert_exporter": "python",
   "pygments_lexer": "ipython3",
   "version": "3.9.0"
  }
 },
 "nbformat": 4,
 "nbformat_minor": 4
}
