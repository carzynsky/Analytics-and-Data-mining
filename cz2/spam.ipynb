{
 "cells": [
  {
   "cell_type": "markdown",
   "metadata": {},
   "source": [
    "# 1. Classifier algorithms"
   ]
  },
  {
   "cell_type": "markdown",
   "metadata": {},
   "source": [
    "### Import libraries"
   ]
  },
  {
   "cell_type": "code",
   "execution_count": 12,
   "metadata": {},
   "outputs": [],
   "source": [
    "import pandas as pd\n",
    "import sys  \n",
    "from sklearn.model_selection import train_test_split\n",
    "from sklearn.preprocessing import StandardScaler\n",
    "import numpy as np\n",
    "from sklearn.pipeline import make_pipeline\n",
    "from sklearn.svm import SVC\n",
    "from sklearn.metrics import confusion_matrix, plot_confusion_matrix\n",
    "import matplotlib.pyplot as plt\n",
    "from sklearn.neighbors import KNeighborsClassifier\n",
    "from sklearn.naive_bayes import GaussianNB\n",
    "from sklearn.neural_network import MLPClassifier\n",
    "from sklearn.tree import DecisionTreeClassifier, plot_tree\n",
    "from sklearn.ensemble import RandomForestClassifier\n",
    "from sklearn.linear_model import LogisticRegression\n",
    "from sklearn.feature_selection import RFE, SelectKBest, chi2\n",
    "from sklearn.decomposition import PCA\n",
    "from imblearn.over_sampling import SMOTE\n",
    "from collections import Counter"
   ]
  },
  {
   "cell_type": "markdown",
   "metadata": {},
   "source": [
    "### Load data"
   ]
  },
  {
   "cell_type": "code",
   "execution_count": 5,
   "metadata": {},
   "outputs": [
    {
     "name": "stdout",
     "output_type": "stream",
     "text": [
      "Requirement already satisfied: matplotlib in c:\\users\\arek\\appdata\\roaming\\python\\python39\\site-packages (3.5.1)\n",
      "Requirement already satisfied: pyparsing>=2.2.1 in c:\\users\\arek\\appdata\\local\\programs\\python\\python39\\lib\\site-packages (from matplotlib) (3.0.6)\n",
      "Requirement already satisfied: cycler>=0.10 in c:\\users\\arek\\appdata\\roaming\\python\\python39\\site-packages (from matplotlib) (0.11.0)\n",
      "Requirement already satisfied: packaging>=20.0 in c:\\users\\arek\\appdata\\local\\programs\\python\\python39\\lib\\site-packages (from matplotlib) (21.3)\n",
      "Requirement already satisfied: pillow>=6.2.0 in c:\\users\\arek\\appdata\\roaming\\python\\python39\\site-packages (from matplotlib) (9.0.0)\n",
      "Requirement already satisfied: kiwisolver>=1.0.1 in c:\\users\\arek\\appdata\\roaming\\python\\python39\\site-packages (from matplotlib) (1.3.2)\n",
      "Requirement already satisfied: python-dateutil>=2.7 in c:\\users\\arek\\appdata\\local\\programs\\python\\python39\\lib\\site-packages (from matplotlib) (2.8.2)\n",
      "Requirement already satisfied: fonttools>=4.22.0 in c:\\users\\arek\\appdata\\roaming\\python\\python39\\site-packages (from matplotlib) (4.28.5)\n",
      "Requirement already satisfied: numpy>=1.17 in c:\\users\\arek\\appdata\\local\\programs\\python\\python39\\lib\\site-packages (from matplotlib) (1.20.3)\n",
      "Requirement already satisfied: six>=1.5 in c:\\users\\arek\\appdata\\local\\programs\\python\\python39\\lib\\site-packages (from python-dateutil>=2.7->matplotlib) (1.16.0)\n"
     ]
    }
   ],
   "source": [
    "!{sys.executable} -m pip install --user matplotlib\n",
    "dataFrame = pd.read_csv('./data/spam.dat')"
   ]
  },
  {
   "cell_type": "markdown",
   "metadata": {},
   "source": [
    "### Data size"
   ]
  },
  {
   "cell_type": "code",
   "execution_count": 6,
   "metadata": {},
   "outputs": [
    {
     "data": {
      "text/plain": [
       "(4789, 463)"
      ]
     },
     "execution_count": 6,
     "metadata": {},
     "output_type": "execute_result"
    }
   ],
   "source": [
    "dataFrame.shape"
   ]
  },
  {
   "cell_type": "code",
   "execution_count": 7,
   "metadata": {},
   "outputs": [
    {
     "name": "stdout",
     "output_type": "stream",
     "text": [
      "<class 'pandas.core.frame.DataFrame'>\n",
      "RangeIndex: 4789 entries, 0 to 4788\n",
      "Columns: 463 entries, ACT_NOW to target\n",
      "dtypes: int64(462), object(1)\n",
      "memory usage: 16.9+ MB\n"
     ]
    }
   ],
   "source": [
    "dataFrame.info()"
   ]
  },
  {
   "cell_type": "markdown",
   "metadata": {},
   "source": [
    "### Data describe"
   ]
  },
  {
   "cell_type": "code",
   "execution_count": 8,
   "metadata": {},
   "outputs": [
    {
     "data": {
      "text/html": [
       "<div>\n",
       "<style scoped>\n",
       "    .dataframe tbody tr th:only-of-type {\n",
       "        vertical-align: middle;\n",
       "    }\n",
       "\n",
       "    .dataframe tbody tr th {\n",
       "        vertical-align: top;\n",
       "    }\n",
       "\n",
       "    .dataframe thead th {\n",
       "        text-align: right;\n",
       "    }\n",
       "</style>\n",
       "<table border=\"1\" class=\"dataframe\">\n",
       "  <thead>\n",
       "    <tr style=\"text-align: right;\">\n",
       "      <th></th>\n",
       "      <th>ACT_NOW</th>\n",
       "      <th>ADDRESSES_ON_CD</th>\n",
       "      <th>ADULT_SITE</th>\n",
       "      <th>ADVERT_CODE</th>\n",
       "      <th>ADVERT_CODE2</th>\n",
       "      <th>ALL_CAPS_HEADER</th>\n",
       "      <th>ALL_CAP_PORN</th>\n",
       "      <th>ALL_NATURAL</th>\n",
       "      <th>AMATEUR_PORN</th>\n",
       "      <th>AMAZING</th>\n",
       "      <th>...</th>\n",
       "      <th>X_AUTH_WARNING</th>\n",
       "      <th>X_ENC_PRESENT</th>\n",
       "      <th>X_LIBRARY</th>\n",
       "      <th>X_LIST_UNSUBSCRIBE</th>\n",
       "      <th>X_MSMAIL_PRIORITY_HIGH</th>\n",
       "      <th>X_PRECEDENCE_REF</th>\n",
       "      <th>X_PRIORITY_HIGH</th>\n",
       "      <th>X_STORMPOST_TO</th>\n",
       "      <th>X_X_PRESENT</th>\n",
       "      <th>YOUR_INCOME</th>\n",
       "    </tr>\n",
       "  </thead>\n",
       "  <tbody>\n",
       "    <tr>\n",
       "      <th>count</th>\n",
       "      <td>4789.000000</td>\n",
       "      <td>4789.0</td>\n",
       "      <td>4789.000000</td>\n",
       "      <td>4789.000000</td>\n",
       "      <td>4789.000000</td>\n",
       "      <td>4789.000000</td>\n",
       "      <td>4789.000000</td>\n",
       "      <td>4789.000000</td>\n",
       "      <td>4789.000000</td>\n",
       "      <td>4789.000000</td>\n",
       "      <td>...</td>\n",
       "      <td>4789.000000</td>\n",
       "      <td>4789.000000</td>\n",
       "      <td>4789.000000</td>\n",
       "      <td>4789.000000</td>\n",
       "      <td>4789.000000</td>\n",
       "      <td>4789.000000</td>\n",
       "      <td>4789.000000</td>\n",
       "      <td>4789.000000</td>\n",
       "      <td>4789.000000</td>\n",
       "      <td>4789.000000</td>\n",
       "    </tr>\n",
       "    <tr>\n",
       "      <th>mean</th>\n",
       "      <td>0.008144</td>\n",
       "      <td>0.0</td>\n",
       "      <td>0.006056</td>\n",
       "      <td>0.000209</td>\n",
       "      <td>0.006682</td>\n",
       "      <td>0.000626</td>\n",
       "      <td>0.005638</td>\n",
       "      <td>0.007308</td>\n",
       "      <td>0.001879</td>\n",
       "      <td>0.002088</td>\n",
       "      <td>...</td>\n",
       "      <td>0.315097</td>\n",
       "      <td>0.001044</td>\n",
       "      <td>0.000626</td>\n",
       "      <td>0.012946</td>\n",
       "      <td>0.009397</td>\n",
       "      <td>0.000418</td>\n",
       "      <td>0.019420</td>\n",
       "      <td>0.000835</td>\n",
       "      <td>0.001253</td>\n",
       "      <td>0.000626</td>\n",
       "    </tr>\n",
       "    <tr>\n",
       "      <th>std</th>\n",
       "      <td>0.089883</td>\n",
       "      <td>0.0</td>\n",
       "      <td>0.077590</td>\n",
       "      <td>0.014450</td>\n",
       "      <td>0.081478</td>\n",
       "      <td>0.025023</td>\n",
       "      <td>0.074882</td>\n",
       "      <td>0.085185</td>\n",
       "      <td>0.043315</td>\n",
       "      <td>0.045653</td>\n",
       "      <td>...</td>\n",
       "      <td>0.464603</td>\n",
       "      <td>0.032298</td>\n",
       "      <td>0.025023</td>\n",
       "      <td>0.113055</td>\n",
       "      <td>0.096489</td>\n",
       "      <td>0.020434</td>\n",
       "      <td>0.138009</td>\n",
       "      <td>0.028892</td>\n",
       "      <td>0.035377</td>\n",
       "      <td>0.025023</td>\n",
       "    </tr>\n",
       "    <tr>\n",
       "      <th>min</th>\n",
       "      <td>0.000000</td>\n",
       "      <td>0.0</td>\n",
       "      <td>0.000000</td>\n",
       "      <td>0.000000</td>\n",
       "      <td>0.000000</td>\n",
       "      <td>0.000000</td>\n",
       "      <td>0.000000</td>\n",
       "      <td>0.000000</td>\n",
       "      <td>0.000000</td>\n",
       "      <td>0.000000</td>\n",
       "      <td>...</td>\n",
       "      <td>0.000000</td>\n",
       "      <td>0.000000</td>\n",
       "      <td>0.000000</td>\n",
       "      <td>0.000000</td>\n",
       "      <td>0.000000</td>\n",
       "      <td>0.000000</td>\n",
       "      <td>0.000000</td>\n",
       "      <td>0.000000</td>\n",
       "      <td>0.000000</td>\n",
       "      <td>0.000000</td>\n",
       "    </tr>\n",
       "    <tr>\n",
       "      <th>25%</th>\n",
       "      <td>0.000000</td>\n",
       "      <td>0.0</td>\n",
       "      <td>0.000000</td>\n",
       "      <td>0.000000</td>\n",
       "      <td>0.000000</td>\n",
       "      <td>0.000000</td>\n",
       "      <td>0.000000</td>\n",
       "      <td>0.000000</td>\n",
       "      <td>0.000000</td>\n",
       "      <td>0.000000</td>\n",
       "      <td>...</td>\n",
       "      <td>0.000000</td>\n",
       "      <td>0.000000</td>\n",
       "      <td>0.000000</td>\n",
       "      <td>0.000000</td>\n",
       "      <td>0.000000</td>\n",
       "      <td>0.000000</td>\n",
       "      <td>0.000000</td>\n",
       "      <td>0.000000</td>\n",
       "      <td>0.000000</td>\n",
       "      <td>0.000000</td>\n",
       "    </tr>\n",
       "    <tr>\n",
       "      <th>50%</th>\n",
       "      <td>0.000000</td>\n",
       "      <td>0.0</td>\n",
       "      <td>0.000000</td>\n",
       "      <td>0.000000</td>\n",
       "      <td>0.000000</td>\n",
       "      <td>0.000000</td>\n",
       "      <td>0.000000</td>\n",
       "      <td>0.000000</td>\n",
       "      <td>0.000000</td>\n",
       "      <td>0.000000</td>\n",
       "      <td>...</td>\n",
       "      <td>0.000000</td>\n",
       "      <td>0.000000</td>\n",
       "      <td>0.000000</td>\n",
       "      <td>0.000000</td>\n",
       "      <td>0.000000</td>\n",
       "      <td>0.000000</td>\n",
       "      <td>0.000000</td>\n",
       "      <td>0.000000</td>\n",
       "      <td>0.000000</td>\n",
       "      <td>0.000000</td>\n",
       "    </tr>\n",
       "    <tr>\n",
       "      <th>75%</th>\n",
       "      <td>0.000000</td>\n",
       "      <td>0.0</td>\n",
       "      <td>0.000000</td>\n",
       "      <td>0.000000</td>\n",
       "      <td>0.000000</td>\n",
       "      <td>0.000000</td>\n",
       "      <td>0.000000</td>\n",
       "      <td>0.000000</td>\n",
       "      <td>0.000000</td>\n",
       "      <td>0.000000</td>\n",
       "      <td>...</td>\n",
       "      <td>1.000000</td>\n",
       "      <td>0.000000</td>\n",
       "      <td>0.000000</td>\n",
       "      <td>0.000000</td>\n",
       "      <td>0.000000</td>\n",
       "      <td>0.000000</td>\n",
       "      <td>0.000000</td>\n",
       "      <td>0.000000</td>\n",
       "      <td>0.000000</td>\n",
       "      <td>0.000000</td>\n",
       "    </tr>\n",
       "    <tr>\n",
       "      <th>max</th>\n",
       "      <td>1.000000</td>\n",
       "      <td>0.0</td>\n",
       "      <td>1.000000</td>\n",
       "      <td>1.000000</td>\n",
       "      <td>1.000000</td>\n",
       "      <td>1.000000</td>\n",
       "      <td>1.000000</td>\n",
       "      <td>1.000000</td>\n",
       "      <td>1.000000</td>\n",
       "      <td>1.000000</td>\n",
       "      <td>...</td>\n",
       "      <td>1.000000</td>\n",
       "      <td>1.000000</td>\n",
       "      <td>1.000000</td>\n",
       "      <td>1.000000</td>\n",
       "      <td>1.000000</td>\n",
       "      <td>1.000000</td>\n",
       "      <td>1.000000</td>\n",
       "      <td>1.000000</td>\n",
       "      <td>1.000000</td>\n",
       "      <td>1.000000</td>\n",
       "    </tr>\n",
       "  </tbody>\n",
       "</table>\n",
       "<p>8 rows × 462 columns</p>\n",
       "</div>"
      ],
      "text/plain": [
       "           ACT_NOW  ADDRESSES_ON_CD   ADULT_SITE  ADVERT_CODE  ADVERT_CODE2  \\\n",
       "count  4789.000000           4789.0  4789.000000  4789.000000   4789.000000   \n",
       "mean      0.008144              0.0     0.006056     0.000209      0.006682   \n",
       "std       0.089883              0.0     0.077590     0.014450      0.081478   \n",
       "min       0.000000              0.0     0.000000     0.000000      0.000000   \n",
       "25%       0.000000              0.0     0.000000     0.000000      0.000000   \n",
       "50%       0.000000              0.0     0.000000     0.000000      0.000000   \n",
       "75%       0.000000              0.0     0.000000     0.000000      0.000000   \n",
       "max       1.000000              0.0     1.000000     1.000000      1.000000   \n",
       "\n",
       "       ALL_CAPS_HEADER  ALL_CAP_PORN  ALL_NATURAL  AMATEUR_PORN      AMAZING  \\\n",
       "count      4789.000000   4789.000000  4789.000000   4789.000000  4789.000000   \n",
       "mean          0.000626      0.005638     0.007308      0.001879     0.002088   \n",
       "std           0.025023      0.074882     0.085185      0.043315     0.045653   \n",
       "min           0.000000      0.000000     0.000000      0.000000     0.000000   \n",
       "25%           0.000000      0.000000     0.000000      0.000000     0.000000   \n",
       "50%           0.000000      0.000000     0.000000      0.000000     0.000000   \n",
       "75%           0.000000      0.000000     0.000000      0.000000     0.000000   \n",
       "max           1.000000      1.000000     1.000000      1.000000     1.000000   \n",
       "\n",
       "       ...  X_AUTH_WARNING  X_ENC_PRESENT    X_LIBRARY  X_LIST_UNSUBSCRIBE  \\\n",
       "count  ...     4789.000000    4789.000000  4789.000000         4789.000000   \n",
       "mean   ...        0.315097       0.001044     0.000626            0.012946   \n",
       "std    ...        0.464603       0.032298     0.025023            0.113055   \n",
       "min    ...        0.000000       0.000000     0.000000            0.000000   \n",
       "25%    ...        0.000000       0.000000     0.000000            0.000000   \n",
       "50%    ...        0.000000       0.000000     0.000000            0.000000   \n",
       "75%    ...        1.000000       0.000000     0.000000            0.000000   \n",
       "max    ...        1.000000       1.000000     1.000000            1.000000   \n",
       "\n",
       "       X_MSMAIL_PRIORITY_HIGH  X_PRECEDENCE_REF  X_PRIORITY_HIGH  \\\n",
       "count             4789.000000       4789.000000      4789.000000   \n",
       "mean                 0.009397          0.000418         0.019420   \n",
       "std                  0.096489          0.020434         0.138009   \n",
       "min                  0.000000          0.000000         0.000000   \n",
       "25%                  0.000000          0.000000         0.000000   \n",
       "50%                  0.000000          0.000000         0.000000   \n",
       "75%                  0.000000          0.000000         0.000000   \n",
       "max                  1.000000          1.000000         1.000000   \n",
       "\n",
       "       X_STORMPOST_TO  X_X_PRESENT  YOUR_INCOME  \n",
       "count     4789.000000  4789.000000  4789.000000  \n",
       "mean         0.000835     0.001253     0.000626  \n",
       "std          0.028892     0.035377     0.025023  \n",
       "min          0.000000     0.000000     0.000000  \n",
       "25%          0.000000     0.000000     0.000000  \n",
       "50%          0.000000     0.000000     0.000000  \n",
       "75%          0.000000     0.000000     0.000000  \n",
       "max          1.000000     1.000000     1.000000  \n",
       "\n",
       "[8 rows x 462 columns]"
      ]
     },
     "execution_count": 8,
     "metadata": {},
     "output_type": "execute_result"
    }
   ],
   "source": [
    "dataFrame.describe()"
   ]
  },
  {
   "cell_type": "markdown",
   "metadata": {},
   "source": [
    "### Is data balanced?"
   ]
  },
  {
   "cell_type": "code",
   "execution_count": 9,
   "metadata": {},
   "outputs": [
    {
     "data": {
      "text/plain": [
       "no     2949\n",
       "yes    1840\n",
       "Name: target, dtype: int64"
      ]
     },
     "execution_count": 9,
     "metadata": {},
     "output_type": "execute_result"
    }
   ],
   "source": [
    "dataFrame['target'].value_counts()"
   ]
  },
  {
   "cell_type": "markdown",
   "metadata": {},
   "source": [
    "### Split data into train and test"
   ]
  },
  {
   "cell_type": "code",
   "execution_count": 10,
   "metadata": {},
   "outputs": [
    {
     "name": "stdout",
     "output_type": "stream",
     "text": [
      "Train rows=3208, test rows: 1581\n"
     ]
    }
   ],
   "source": [
    "X = dataFrame.drop(['target'], axis=1)\n",
    "y = dataFrame.target\n",
    "\n",
    "X_train, X_test, y_train, y_test = train_test_split(X, y, random_state=331, test_size=0.33)\n",
    "print(f'Train rows={X_train.shape[0]}, test rows: {X_test.shape[0]}')"
   ]
  },
  {
   "cell_type": "markdown",
   "metadata": {},
   "source": [
    "### Standarization"
   ]
  },
  {
   "cell_type": "code",
   "execution_count": 11,
   "metadata": {},
   "outputs": [],
   "source": [
    "scaler = StandardScaler().fit(X_train)\n",
    "X_train_standarized = scaler.transform(X_train) \n",
    "X_test_standarized = scaler.transform(X_test)"
   ]
  },
  {
   "cell_type": "markdown",
   "metadata": {},
   "source": [
    "### SVM"
   ]
  },
  {
   "cell_type": "code",
   "execution_count": 59,
   "metadata": {},
   "outputs": [
    {
     "name": "stdout",
     "output_type": "stream",
     "text": [
      "Score=0.9753320683111955\n"
     ]
    }
   ],
   "source": [
    "svm = make_pipeline(StandardScaler(), SVC(gamma='auto'))\n",
    "svm.fit(X_train_standarized, y_train)\n",
    "y_prediction_svm = svm.predict(X_test_standarized)\n",
    "svm_score = svm.score(X_test_standarized, y_test)\n",
    "print(f'Score={svm_score}')"
   ]
  },
  {
   "cell_type": "code",
   "execution_count": 60,
   "metadata": {},
   "outputs": [
    {
     "name": "stderr",
     "output_type": "stream",
     "text": [
      "c:\\users\\arek\\appdata\\local\\programs\\python\\python39\\lib\\site-packages\\sklearn\\utils\\deprecation.py:87: FutureWarning: Function plot_confusion_matrix is deprecated; Function `plot_confusion_matrix` is deprecated in 1.0 and will be removed in 1.2. Use one of the class methods: ConfusionMatrixDisplay.from_predictions or ConfusionMatrixDisplay.from_estimator.\n",
      "  warnings.warn(msg, category=FutureWarning)\n"
     ]
    },
    {
     "data": {
      "image/png": "[encoded data removed]",
      "text/plain": [
       "<Figure size 432x288 with 2 Axes>"
      ]
     },
     "metadata": {
      "needs_background": "light"
     },
     "output_type": "display_data"
    },
    {
     "name": "stdout",
     "output_type": "stream",
     "text": [
      "tp=616, fn=27, fp=12, tn=926\n",
      "sensitivity=0.9580, specificity=0.9872\n",
      "FPR=1.2793%, FNR=4.1991%\n"
     ]
    }
   ],
   "source": [
    "tn, fp, fn, tp = confusion_matrix(y_test, y_prediction_svm).ravel()\n",
    "plot_confusion_matrix(svm, X_test_standarized, y_test)\n",
    "plt.show()\n",
    "\n",
    "print(f'tp={tp}, fn={fn}, fp={fp}, tn={tn}')\n",
    "sensitivity = tp/(tp+fn)\n",
    "specificity = tn/(fp+tn)\n",
    "print(\"sensitivity={:.4f}, specificity={:.4f}\".format(sensitivity, specificity))\n",
    "\n",
    "fpr = (1-specificity)*100\n",
    "fnr = (1-sensitivity)*100\n",
    "print(\"FPR={:.4f}%, FNR={:.4f}%\".format(fpr, fnr))"
   ]
  },
  {
   "cell_type": "markdown",
   "metadata": {},
   "source": [
    "### kNN"
   ]
  },
  {
   "cell_type": "code",
   "execution_count": 61,
   "metadata": {},
   "outputs": [
    {
     "name": "stdout",
     "output_type": "stream",
     "text": [
      "Score=0.9272612270714737\n"
     ]
    }
   ],
   "source": [
    "knn = KNeighborsClassifier(n_neighbors=3)\n",
    "knn.fit(X_train_standarized, y_train)\n",
    "y_prediction_knn = knn.predict(X_test_standarized)\n",
    "knn_score = knn.score(X_test_standarized, y_test)\n",
    "print(f'Score={knn_score}')"
   ]
  },
  {
   "cell_type": "code",
   "execution_count": 62,
   "metadata": {},
   "outputs": [
    {
     "name": "stderr",
     "output_type": "stream",
     "text": [
      "c:\\users\\arek\\appdata\\local\\programs\\python\\python39\\lib\\site-packages\\sklearn\\utils\\deprecation.py:87: FutureWarning: Function plot_confusion_matrix is deprecated; Function `plot_confusion_matrix` is deprecated in 1.0 and will be removed in 1.2. Use one of the class methods: ConfusionMatrixDisplay.from_predictions or ConfusionMatrixDisplay.from_estimator.\n",
      "  warnings.warn(msg, category=FutureWarning)\n"
     ]
    },
    {
     "data": {
      "image/png": "[encoded data removed]",
      "text/plain": [
       "<Figure size 432x288 with 2 Axes>"
      ]
     },
     "metadata": {
      "needs_background": "light"
     },
     "output_type": "display_data"
    },
    {
     "name": "stdout",
     "output_type": "stream",
     "text": [
      "tp=537, fn=106, fp=9, tn=929\n",
      "sensitivity=0.8351, specificity=0.9904\n",
      "FPR=0.9595%, FNR=16.4852%\n"
     ]
    }
   ],
   "source": [
    "tn, fp, fn, tp = confusion_matrix(y_test, y_prediction_knn).ravel()\n",
    "plot_confusion_matrix(knn, X_test_standarized, y_test)\n",
    "plt.show()\n",
    "\n",
    "print(f'tp={tp}, fn={fn}, fp={fp}, tn={tn}')\n",
    "sensitivity = tp/(tp+fn)\n",
    "specificity = tn/(fp+tn)\n",
    "print(\"sensitivity={:.4f}, specificity={:.4f}\".format(sensitivity, specificity))\n",
    "\n",
    "fpr = (1-specificity)*100\n",
    "fnr = (1-sensitivity)*100\n",
    "print(\"FPR={:.4f}%, FNR={:.4f}%\".format(fpr, fnr))"
   ]
  },
  {
   "cell_type": "markdown",
   "metadata": {},
   "source": [
    "### Naive Bayes"
   ]
  },
  {
   "cell_type": "code",
   "execution_count": 63,
   "metadata": {},
   "outputs": [
    {
     "name": "stdout",
     "output_type": "stream",
     "text": [
      "Score=0.9728020240354206\n"
     ]
    }
   ],
   "source": [
    "gnb = GaussianNB()\n",
    "gnb.fit(X_train, y_train)\n",
    "y_prediction_gnb = gnb.predict(X_test)\n",
    "gnb_score = gnb.score(X_test, y_test)\n",
    "print(f'Score={gnb_score}')"
   ]
  },
  {
   "cell_type": "code",
   "execution_count": 64,
   "metadata": {},
   "outputs": [
    {
     "name": "stderr",
     "output_type": "stream",
     "text": [
      "c:\\users\\arek\\appdata\\local\\programs\\python\\python39\\lib\\site-packages\\sklearn\\utils\\deprecation.py:87: FutureWarning: Function plot_confusion_matrix is deprecated; Function `plot_confusion_matrix` is deprecated in 1.0 and will be removed in 1.2. Use one of the class methods: ConfusionMatrixDisplay.from_predictions or ConfusionMatrixDisplay.from_estimator.\n",
      "  warnings.warn(msg, category=FutureWarning)\n"
     ]
    },
    {
     "data": {
      "image/png": "[encoded data removed]",
      "text/plain": [
       "<Figure size 432x288 with 2 Axes>"
      ]
     },
     "metadata": {
      "needs_background": "light"
     },
     "output_type": "display_data"
    },
    {
     "name": "stdout",
     "output_type": "stream",
     "text": [
      "tp=609, fn=34, fp=9, tn=929\n",
      "sensitivity=0.9471, specificity=0.9904\n",
      "FPR=0.9595%, FNR=5.2877%\n"
     ]
    }
   ],
   "source": [
    "tn, fp, fn, tp = confusion_matrix(y_test, y_prediction_gnb).ravel()\n",
    "plot_confusion_matrix(gnb, X_test, y_test)\n",
    "plt.show()\n",
    "\n",
    "print(f'tp={tp}, fn={fn}, fp={fp}, tn={tn}')\n",
    "sensitivity = tp/(tp+fn)\n",
    "specificity = tn/(fp+tn)\n",
    "print(\"sensitivity={:.4f}, specificity={:.4f}\".format(sensitivity, specificity))\n",
    "\n",
    "fpr = (1-specificity)*100\n",
    "fnr = (1-sensitivity)*100\n",
    "print(\"FPR={:.4f}%, FNR={:.4f}%\".format(fpr, fnr))"
   ]
  },
  {
   "cell_type": "markdown",
   "metadata": {},
   "source": [
    "### MLP"
   ]
  },
  {
   "cell_type": "code",
   "execution_count": 38,
   "metadata": {},
   "outputs": [
    {
     "name": "stdout",
     "output_type": "stream",
     "text": [
      "Score=0.9848197343453511\n"
     ]
    }
   ],
   "source": [
    "mlp = MLPClassifier(random_state=1, max_iter=300, solver='adam')\n",
    "mlp.fit(X_train_standarized, y_train)\n",
    "y_prediction_mlp = mlp.predict(X_test_standarized)\n",
    "mlp_score = mlp.score(X_test_standarized, y_test)\n",
    "print(f'Score={mlp_score}')"
   ]
  },
  {
   "cell_type": "code",
   "execution_count": 39,
   "metadata": {},
   "outputs": [
    {
     "name": "stderr",
     "output_type": "stream",
     "text": [
      "c:\\users\\arek\\appdata\\local\\programs\\python\\python39\\lib\\site-packages\\sklearn\\utils\\deprecation.py:87: FutureWarning: Function plot_confusion_matrix is deprecated; Function `plot_confusion_matrix` is deprecated in 1.0 and will be removed in 1.2. Use one of the class methods: ConfusionMatrixDisplay.from_predictions or ConfusionMatrixDisplay.from_estimator.\n",
      "  warnings.warn(msg, category=FutureWarning)\n"
     ]
    },
    {
     "data": {
      "image/png": "[encoded data removed]",
      "text/plain": [
       "<Figure size 432x288 with 2 Axes>"
      ]
     },
     "metadata": {
      "needs_background": "light"
     },
     "output_type": "display_data"
    },
    {
     "name": "stdout",
     "output_type": "stream",
     "text": [
      "tp=628, fn=15, fp=9, tn=929\n",
      "sensitivity=97.6672%, specificity=99.0405%\n",
      "FPR=0.9595%, FNR=2.3328%\n"
     ]
    }
   ],
   "source": [
    "tn, fp, fn, tp = confusion_matrix(y_test, y_prediction_mlp).ravel()\n",
    "plot_confusion_matrix(mlp, X_test_standarized, y_test)\n",
    "plt.show()\n",
    "\n",
    "print(f'tp={tp}, fn={fn}, fp={fp}, tn={tn}')\n",
    "sensitivity_mlp = round(100*tp/(tp+fn), 4)\n",
    "specificity_mlp = round(100*tn/(fp+tn), 4)\n",
    "print(\"sensitivity={}%, specificity={}%\".format(sensitivity_mlp, specificity_mlp))\n",
    "\n",
    "fpr_mlp = round(100-specificity_mlp, 4)\n",
    "fnr_mlp = round(100-sensitivity_mlp, 4)\n",
    "print(\"FPR={}%, FNR={}%\".format(fpr_mlp, fnr_mlp))"
   ]
  },
  {
   "cell_type": "markdown",
   "metadata": {},
   "source": [
    "### Decision tree"
   ]
  },
  {
   "cell_type": "code",
   "execution_count": 33,
   "metadata": {},
   "outputs": [
    {
     "name": "stdout",
     "output_type": "stream",
     "text": [
      "Score=0.9772296015180265\n"
     ]
    }
   ],
   "source": [
    "decisionTree = DecisionTreeClassifier()\n",
    "decisionTree.fit(X_train_standarized, y_train)\n",
    "y_prediction_decision_tree = decisionTree.predict(X_test_standarized)\n",
    "decision_tree_score = decisionTree.score(X_test_standarized, y_test)\n",
    "print(f'Score={decision_tree_score}')"
   ]
  },
  {
   "cell_type": "code",
   "execution_count": 34,
   "metadata": {},
   "outputs": [
    {
     "name": "stderr",
     "output_type": "stream",
     "text": [
      "c:\\users\\arek\\appdata\\local\\programs\\python\\python39\\lib\\site-packages\\sklearn\\utils\\deprecation.py:87: FutureWarning: Function plot_confusion_matrix is deprecated; Function `plot_confusion_matrix` is deprecated in 1.0 and will be removed in 1.2. Use one of the class methods: ConfusionMatrixDisplay.from_predictions or ConfusionMatrixDisplay.from_estimator.\n",
      "  warnings.warn(msg, category=FutureWarning)\n"
     ]
    },
    {
     "data": {
      "image/png": "[encoded data removed]",
      "text/plain": [
       "<Figure size 432x288 with 2 Axes>"
      ]
     },
     "metadata": {
      "needs_background": "light"
     },
     "output_type": "display_data"
    },
    {
     "name": "stdout",
     "output_type": "stream",
     "text": [
      "tp=623, fn=20, fp=16, tn=922\n",
      "sensitivity=96.8896%, specificity=98.2942%\n",
      "FPR=1.7058%, FNR=3.1104%\n"
     ]
    }
   ],
   "source": [
    "tn, fp, fn, tp = confusion_matrix(y_test, y_prediction_decision_tree).ravel()\n",
    "plot_confusion_matrix(decisionTree, X_test_standarized, y_test)\n",
    "plt.show()\n",
    "\n",
    "print(f'tp={tp}, fn={fn}, fp={fp}, tn={tn}')\n",
    "sensitivity_dt = round(100*tp/(tp+fn), 4)\n",
    "specificity_dt = round(100*tn/(fp+tn), 4)\n",
    "print(\"sensitivity={:.4f}%, specificity={:.4f}%\".format(sensitivity_dt, specificity_dt))\n",
    "\n",
    "fpr_dt = round(100-specificity_dt, 4)\n",
    "fnr_dt = round(100-sensitivity_dt, 4)\n",
    "print(\"FPR={:.4f}%, FNR={:.4f}%\".format(fpr_dt, fnr_dt))"
   ]
  },
  {
   "cell_type": "markdown",
   "metadata": {},
   "source": [
    "### Random Forest"
   ]
  },
  {
   "cell_type": "code",
   "execution_count": 69,
   "metadata": {},
   "outputs": [
    {
     "name": "stdout",
     "output_type": "stream",
     "text": [
      "Score=0.9639468690702088\n"
     ]
    }
   ],
   "source": [
    "rfc = RandomForestClassifier(max_depth=8, random_state=0)\n",
    "rfc.fit(X_train_standarized, y_train)\n",
    "y_prediction_rfc = rfc.predict(X_test_standarized)\n",
    "rfc_score = rfc.score(X_test_standarized, y_test)\n",
    "print(f'Score={rfc_score}')"
   ]
  },
  {
   "cell_type": "code",
   "execution_count": 70,
   "metadata": {},
   "outputs": [
    {
     "name": "stderr",
     "output_type": "stream",
     "text": [
      "c:\\users\\arek\\appdata\\local\\programs\\python\\python39\\lib\\site-packages\\sklearn\\utils\\deprecation.py:87: FutureWarning: Function plot_confusion_matrix is deprecated; Function `plot_confusion_matrix` is deprecated in 1.0 and will be removed in 1.2. Use one of the class methods: ConfusionMatrixDisplay.from_predictions or ConfusionMatrixDisplay.from_estimator.\n",
      "  warnings.warn(msg, category=FutureWarning)\n"
     ]
    },
    {
     "data": {
      "image/png": "[encoded data removed]",
      "text/plain": [
       "<Figure size 432x288 with 2 Axes>"
      ]
     },
     "metadata": {
      "needs_background": "light"
     },
     "output_type": "display_data"
    },
    {
     "name": "stdout",
     "output_type": "stream",
     "text": [
      "tp=591, fn=52, fp=5, tn=933\n",
      "sensitivity=0.9191, specificity=0.9947\n",
      "FPR=0.5330%, FNR=8.0871%\n"
     ]
    }
   ],
   "source": [
    "tn, fp, fn, tp = confusion_matrix(y_test, y_prediction_rfc).ravel()\n",
    "plot_confusion_matrix(rfc, X_test_standarized, y_test)\n",
    "plt.show()\n",
    "\n",
    "print(f'tp={tp}, fn={fn}, fp={fp}, tn={tn}')\n",
    "sensitivity = tp/(tp+fn)\n",
    "specificity = tn/(fp+tn)\n",
    "print(\"sensitivity={:.4f}, specificity={:.4f}\".format(sensitivity, specificity))\n",
    "\n",
    "fpr = (1-specificity)*100\n",
    "fnr = (1-sensitivity)*100\n",
    "print(\"FPR={:.4f}%, FNR={:.4f}%\".format(fpr, fnr))"
   ]
  },
  {
   "cell_type": "markdown",
   "metadata": {},
   "source": [
    "### Logistic Regression"
   ]
  },
  {
   "cell_type": "code",
   "execution_count": 71,
   "metadata": {},
   "outputs": [
    {
     "name": "stdout",
     "output_type": "stream",
     "text": [
      "Score=0.9765970904490828\n"
     ]
    }
   ],
   "source": [
    "lr = LogisticRegression(random_state=0)\n",
    "lr.fit(X_train_standarized, y_train)\n",
    "y_prediction_lr = lr.predict(X_test_standarized)\n",
    "lr_score = lr.score(X_test_standarized, y_test)\n",
    "print(f'Score={lr_score}')"
   ]
  },
  {
   "cell_type": "code",
   "execution_count": 72,
   "metadata": {},
   "outputs": [
    {
     "name": "stderr",
     "output_type": "stream",
     "text": [
      "c:\\users\\arek\\appdata\\local\\programs\\python\\python39\\lib\\site-packages\\sklearn\\utils\\deprecation.py:87: FutureWarning: Function plot_confusion_matrix is deprecated; Function `plot_confusion_matrix` is deprecated in 1.0 and will be removed in 1.2. Use one of the class methods: ConfusionMatrixDisplay.from_predictions or ConfusionMatrixDisplay.from_estimator.\n",
      "  warnings.warn(msg, category=FutureWarning)\n"
     ]
    },
    {
     "data": {
      "image/png": "[encoded data removed]",
      "text/plain": [
       "<Figure size 432x288 with 2 Axes>"
      ]
     },
     "metadata": {
      "needs_background": "light"
     },
     "output_type": "display_data"
    },
    {
     "name": "stdout",
     "output_type": "stream",
     "text": [
      "tp=616, fn=27, fp=10, tn=928\n",
      "sensitivity=0.9580, specificity=0.9893\n",
      "FPR=1.0661%, FNR=4.1991%\n"
     ]
    }
   ],
   "source": [
    "tn, fp, fn, tp = confusion_matrix(y_test, y_prediction_lr).ravel()\n",
    "plot_confusion_matrix(lr, X_test_standarized, y_test)\n",
    "plt.show()\n",
    "\n",
    "print(f'tp={tp}, fn={fn}, fp={fp}, tn={tn}')\n",
    "sensitivity = tp/(tp+fn)\n",
    "specificity = tn/(fp+tn)\n",
    "print(\"sensitivity={:.4f}, specificity={:.4f}\".format(sensitivity, specificity))\n",
    "\n",
    "fpr = (1-specificity)*100\n",
    "fnr = (1-sensitivity)*100\n",
    "print(\"FPR={:.4f}%, FNR={:.4f}%\".format(fpr, fnr))"
   ]
  },
  {
   "cell_type": "markdown",
   "metadata": {},
   "source": [
    "# 2. Classifier parameters"
   ]
  },
  {
   "cell_type": "markdown",
   "metadata": {},
   "source": [
    "### 2.1 MLP"
   ]
  },
  {
   "cell_type": "markdown",
   "metadata": {},
   "source": [
    "By default MLP has solver 'adam'. \n",
    "The solver for weight optimization.\n",
    "* ‘lbfgs’ is an optimizer in the family of quasi-Newton methods.\n",
    "* ‘sgd’ refers to stochastic gradient descent.\n",
    "* ‘adam’ refers to a stochastic gradient-based optimizer proposed by Kingma, Diederik, and Jimmy Ba\n",
    "\n",
    "Note: The default solver ‘adam’ works pretty well on relatively large datasets (with thousands of training samples or more) in terms of both training time and validation score. For small datasets, however, ‘lbfgs’ can converge faster and perform better.\n",
    "(source: https://scikit-learn.org/stable/modules/generated/sklearn.neural_network.MLPClassifier.html)"
   ]
  },
  {
   "cell_type": "code",
   "execution_count": 44,
   "metadata": {},
   "outputs": [
    {
     "name": "stdout",
     "output_type": "stream",
     "text": [
      "Score with lbfgs solver=0.978494623655914 (-0.006325110689437086)\n",
      "tp=625, fn=18, fp=16, tn=922\n",
      "sensitivity=97.2006% (-0.4666%), specificity=98.2942% (-0.7463%)\n",
      "lbfgs solver: FPR=1.7058% (+0.7463%), FNR=2.7994% (+0.4666%)\n"
     ]
    }
   ],
   "source": [
    "# solver lbfgs\n",
    "mlp_lbfgs = MLPClassifier(random_state=1, max_iter=300, solver='lbfgs')\n",
    "mlp_lbfgs.fit(X_train_standarized, y_train)\n",
    "y_prediction_mlp_lbfgs = mlp_lbfgs.predict(X_test_standarized)\n",
    "mlp_lbfgs_score = mlp_lbfgs.score(X_test_standarized, y_test)\n",
    "mlp_score_diff = mlp_lbfgs_score-mlp_score\n",
    "print(f'Score with lbfgs solver={mlp_lbfgs_score} ({mlp_score_diff:+})')\n",
    "\n",
    "tn, fp, fn, tp = confusion_matrix(y_test, y_prediction_mlp_lbfgs).ravel()\n",
    "print(f'tp={tp}, fn={fn}, fp={fp}, tn={tn}')\n",
    "sensitivity_mlp_lbfgs = round(100*tp/(tp+fn), 4)\n",
    "specificity_mlp_lbfgs = round(100*tn/(fp+tn), 4)\n",
    "sensitivity_mlp_diff = round(sensitivity_mlp_lbfgs - sensitivity_mlp, 4)\n",
    "specificity_mlp_diff = round(specificity_mlp_lbfgs - specificity_mlp, 4)\n",
    "print(\"sensitivity={}% ({:+}%), specificity={}% ({:+}%)\".format(sensitivity_mlp_lbfgs, sensitivity_mlp_diff, specificity_mlp_lbfgs, specificity_mlp_diff))\n",
    "\n",
    "fpr_mlp_lbfgs = round(100-specificity_mlp_lbfgs, 4)\n",
    "fnr_mlp_lbfgs = round(100-sensitivity_mlp_lbfgs, 4)\n",
    "fpr_mlp_diff = round(fpr_mlp_lbfgs - fpr_mlp, 4)\n",
    "fnr_mlp_diff = round(fnr_mlp_lbfgs - fnr_mlp, 4)\n",
    "print(\"lbfgs solver: FPR={}% ({:+}%), FNR={}% ({:+}%)\".format(fpr_mlp_lbfgs, fpr_mlp_diff, fnr_mlp_lbfgs, fnr_mlp_diff))\n"
   ]
  },
  {
   "cell_type": "code",
   "execution_count": 46,
   "metadata": {},
   "outputs": [
    {
     "name": "stdout",
     "output_type": "stream",
     "text": [
      "Score with sgd solver=0.9791271347248577 (-0.005692599620493399)\n",
      "tp=619, fn=24, fp=9, tn=929\n",
      "sensitivity=96.2675% (-1.3997%), specificity=99.0405% (+0.0%)\n",
      "sgd solver: FPR=0.9595% (+0.0%), FNR=3.7325% (+1.3997%)\n"
     ]
    }
   ],
   "source": [
    "# sgd\n",
    "mlp_sgd = MLPClassifier(random_state=1, max_iter=300, solver='sgd')\n",
    "mlp_sgd.fit(X_train_standarized, y_train)\n",
    "y_prediction_mlp_sgd = mlp_sgd.predict(X_test_standarized)\n",
    "mlp_sgd_score = mlp_sgd.score(X_test_standarized, y_test)\n",
    "mlp_score_diff = mlp_sgd_score-mlp_score\n",
    "print(f'Score with sgd solver={mlp_sgd_score} ({mlp_score_diff:+})')\n",
    "\n",
    "tn, fp, fn, tp = confusion_matrix(y_test, y_prediction_mlp_sgd).ravel()\n",
    "print(f'tp={tp}, fn={fn}, fp={fp}, tn={tn}')\n",
    "sensitivity_mlp_sgd = round(100*tp/(tp+fn), 4)\n",
    "specificity_mlp_sgd= round(100*tn/(fp+tn), 4)\n",
    "sensitivity_mlp_diff = round(sensitivity_mlp_sgd - sensitivity_mlp, 4)\n",
    "specificity_mlp_diff = round(specificity_mlp_sgd - specificity_mlp, 4)\n",
    "print(\"sensitivity={}% ({:+}%), specificity={}% ({:+}%)\".format(sensitivity_mlp_sgd, sensitivity_mlp_diff, specificity_mlp_sgd, specificity_mlp_diff))\n",
    "\n",
    "fpr_mlp_sgd = round(100-specificity_mlp_sgd, 4)\n",
    "fnr_mlp_sgd = round(100-sensitivity_mlp_sgd, 4)\n",
    "fpr_mlp_diff = round(fpr_mlp_sgd - fpr_mlp, 4)\n",
    "fnr_mlp_diff = round(fnr_mlp_sgd - fnr_mlp, 4)\n",
    "print(\"sgd solver: FPR={}% ({:+}%), FNR={}% ({:+}%)\".format(fpr_mlp_sgd, fpr_mlp_diff, fnr_mlp_sgd, fnr_mlp_diff))"
   ]
  },
  {
   "cell_type": "markdown",
   "metadata": {},
   "source": [
    "### Hidden layers and number of neurons\n",
    "By default there is 1 hidden layer with 100 neurons. In hidden_layer_neuron_numbers there are number of neurons in hidden layer."
   ]
  },
  {
   "cell_type": "code",
   "execution_count": 75,
   "metadata": {},
   "outputs": [
    {
     "name": "stdout",
     "output_type": "stream",
     "text": [
      "********************\n",
      "Number of neurons in hidden layer = 8\n",
      "Score=0.9778621125869703, score with default=0.9835547122074636 (-0.005692599620493288)\n",
      "tp=616, fn=27, fp=8, tn=930\n",
      "sensitivity=0.9580093312597201 (-0.01710730948678063), specificity=0.9914712153518124 (+0.002132196162046962)\n",
      "FPR=0.8529% (-0.2132%), FNR=4.1991% (+1.7107%)\n",
      "                    \n",
      "********************\n",
      "Number of neurons in hidden layer = 16\n",
      "Score=0.9797596457938014, score with default=0.9835547122074636 (-0.003795066413662229)\n",
      "tp=618, fn=25, fp=7, tn=931\n",
      "sensitivity=0.9611197511664075 (-0.013996889580093264), specificity=0.9925373134328358 (+0.0031982942430703876)\n",
      "FPR=0.7463% (-0.3198%), FNR=3.8880% (+1.3997%)\n",
      "                    \n",
      "********************\n",
      "Number of neurons in hidden layer = 32\n",
      "Score=0.9772296015180265, score with default=0.9835547122074636 (-0.006325110689437086)\n",
      "tp=615, fn=28, fp=8, tn=930\n",
      "sensitivity=0.9564541213063764 (-0.018662519440124314), specificity=0.9914712153518124 (+0.002132196162046962)\n",
      "FPR=0.8529% (-0.2132%), FNR=4.3546% (+1.8663%)\n",
      "                    \n",
      "********************\n",
      "Number of neurons in hidden layer = 40\n",
      "Score=0.9772296015180265, score with default=0.9835547122074636 (-0.006325110689437086)\n",
      "tp=616, fn=27, fp=9, tn=929\n",
      "sensitivity=0.9580093312597201 (-0.01710730948678063), specificity=0.990405117270789 (+0.0010660980810235365)\n",
      "FPR=0.9595% (-0.1066%), FNR=4.1991% (+1.7107%)\n",
      "                    \n",
      "********************\n",
      "Number of neurons in hidden layer = 50\n",
      "Score=0.9778621125869703, score with default=0.9835547122074636 (-0.005692599620493288)\n",
      "tp=616, fn=27, fp=8, tn=930\n",
      "sensitivity=0.9580093312597201 (-0.01710730948678063), specificity=0.9914712153518124 (+0.002132196162046962)\n",
      "FPR=0.8529% (-0.2132%), FNR=4.1991% (+1.7107%)\n",
      "                    \n",
      "********************\n",
      "Number of neurons in hidden layer = 64\n",
      "Score=0.9765970904490828, score with default=0.9835547122074636 (-0.006957621758380772)\n",
      "tp=615, fn=28, fp=9, tn=929\n",
      "sensitivity=0.9564541213063764 (-0.018662519440124314), specificity=0.990405117270789 (+0.0010660980810235365)\n",
      "FPR=0.9595% (-0.1066%), FNR=4.3546% (+1.8663%)\n",
      "                    \n",
      "********************\n",
      "Number of neurons in hidden layer = 100\n",
      "Score=0.978494623655914, score with default=0.9835547122074636 (-0.005060088551549602)\n",
      "tp=617, fn=26, fp=8, tn=930\n",
      "sensitivity=0.9595645412130638 (-0.015552099533436947), specificity=0.9914712153518124 (+0.002132196162046962)\n",
      "FPR=0.8529% (-0.2132%), FNR=4.0435% (+1.5552%)\n",
      "                    \n",
      "********************\n",
      "Number of neurons in hidden layer = 128\n",
      "Score=0.9753320683111955, score with default=0.9835547122074636 (-0.008222643896268145)\n",
      "tp=616, fn=27, fp=12, tn=926\n",
      "sensitivity=0.9580093312597201 (-0.01710730948678063), specificity=0.9872068230277186 (-0.002132196162046851)\n",
      "FPR=1.2793% (+0.2132%), FNR=4.1991% (+1.7107%)\n",
      "                    \n",
      "********************\n",
      "Number of neurons in hidden layer = 256\n",
      "Score=0.9791271347248577, score with default=0.9835547122074636 (-0.0044275774826059155)\n",
      "tp=619, fn=24, fp=9, tn=929\n",
      "sensitivity=0.9626749611197511 (-0.01244167962674958), specificity=0.990405117270789 (+0.0010660980810235365)\n",
      "FPR=0.9595% (-0.1066%), FNR=3.7325% (+1.2442%)\n",
      "                    \n"
     ]
    }
   ],
   "source": [
    "# 1 hidden layer\n",
    "hidden_layer_neuron_numbers = [8, 16, 32, 40, 50, 64, 100, 128, 256]\n",
    "for i in range(len(hidden_layer_neuron_numbers)):\n",
    "    print('*'*20)\n",
    "    print(f'Number of neurons in hidden layer = {hidden_layer_neuron_numbers[i]}')\n",
    "    mlp_hidden_layer_test = MLPClassifier(random_state=1, max_iter=4000, hidden_layer_sizes=(hidden_layer_neuron_numbers[i]), solver='sgd')\n",
    "    mlp_hidden_layer_test.fit(X_train_standarized, y_train)\n",
    "    y_prediction_mlp_hidden_layer_test = mlp_hidden_layer_test.predict(X_test_standarized)\n",
    "    mlp_hidden_layer_test_score = mlp_hidden_layer_test.score(X_test_standarized, y_test)\n",
    "    score_sign = '+'\n",
    "    if(mlp_score > mlp_hidden_layer_test_score):\n",
    "        score_sign = '-'\n",
    "    print(f'Score={mlp_hidden_layer_test_score}, score with default={mlp_score} ({score_sign}{abs(mlp_hidden_layer_test_score - mlp_score)})')\n",
    "\n",
    "    tn, fp, fn, tp = confusion_matrix(y_test, y_prediction_mlp_hidden_layer_test).ravel()\n",
    "    print(f'tp={tp}, fn={fn}, fp={fp}, tn={tn}')\n",
    "    sensitivity_mlp_hidden_layer_test = tp/(tp+fn)\n",
    "    specificity_mlp_hidden_layer_test = tn/(fp+tn)\n",
    "    sensitivity_sign = '+'\n",
    "    if(sensitivity_mlp > sensitivity_mlp_hidden_layer_test):\n",
    "        sensitivity_sign = '-'\n",
    "\n",
    "    specificity_sign = '+'\n",
    "    if(specificity_mlp > specificity_mlp_hidden_layer_test):\n",
    "        specificity_sign = '-'\n",
    "\n",
    "    print(f'sensitivity={sensitivity_mlp_hidden_layer_test} ({sensitivity_sign}{abs(sensitivity_mlp_hidden_layer_test-sensitivity_mlp)}), specificity={specificity_mlp_hidden_layer_test} ({specificity_sign}{abs(specificity_mlp_hidden_layer_test-specificity_mlp)})')\n",
    "    \n",
    "    fpr_mlp_hidden_layer_test = (1-specificity_mlp_hidden_layer_test)*100\n",
    "    fpr_sign = '+'\n",
    "    if(fpr_mlp > fpr_mlp_hidden_layer_test):\n",
    "        fpr_sign = '-'\n",
    "\n",
    "    fnr_mlp_hidden_layer_test  = (1-sensitivity_mlp_hidden_layer_test)*100\n",
    "    fnr_sign='+'\n",
    "    if(fnr_mlp > fnr_mlp_hidden_layer_test):\n",
    "        fnr_sign = '-'\n",
    "\n",
    "    fpr_format = '{:.4f}'.format(fpr_mlp_hidden_layer_test)\n",
    "    fnr_format = '{:.4f}'.format(fnr_mlp_hidden_layer_test)\n",
    "    fpr_diff_format = '{:.4f}'.format(abs(fpr_mlp_hidden_layer_test-fpr_mlp))\n",
    "    fnr_diff_format='{:.4f}'.format(abs(fnr_mlp_hidden_layer_test-fnr_mlp))\n",
    "    print(f'FPR={fpr_format}% ({fpr_sign}{fpr_diff_format}%), FNR={fnr_format}% ({fnr_sign}{fnr_diff_format}%)')\n",
    "    print(' '*20)\n"
   ]
  },
  {
   "cell_type": "markdown",
   "metadata": {},
   "source": [
    "Learning_rate schedule for weight updates. (By default 'constant', only used when solver is 'sgd')\n",
    "* ‘constant’ is a constant learning rate given by ‘learning_rate_init’.\n",
    "\n",
    "* ‘invscaling’ gradually decreases the learning rate at each time step ‘t’ using an inverse scaling exponent of ‘power_t’. effective_learning_rate = learning_rate_init / pow(t, power_t)\n",
    "\n",
    "* ‘adaptive’ keeps the learning rate constant to ‘learning_rate_init’ as long as training loss keeps decreasing. Each time two consecutive epochs fail to decrease training loss by at least tol, or fail to increase validation score by at least tol if ‘early_stopping’ is on, the current learning rate is divided by 5.\n"
   ]
  },
  {
   "cell_type": "code",
   "execution_count": 76,
   "metadata": {},
   "outputs": [
    {
     "name": "stdout",
     "output_type": "stream",
     "text": [
      "********************\n",
      "Number of neurons in hidden layer = 8\n",
      "Score=0.7330803289057558, score with default=0.9835547122074636 (-0.2504743833017078)\n",
      "tp=242, fn=401, fp=21, tn=917\n",
      "sensitivity=0.37636080870917576 (-0.598755832037325), specificity=0.9776119402985075 (-0.011727078891257903)\n",
      "FPR=2.2388% (+1.1727%), FNR=62.3639% (+59.8756%)\n",
      "                    \n",
      "********************\n",
      "Number of neurons in hidden layer = 16\n",
      "Score=0.5850727387729285, score with default=0.9835547122074636 (-0.39848197343453506)\n",
      "tp=448, fn=195, fp=461, tn=477\n",
      "sensitivity=0.6967340590979783 (-0.2783825816485225), specificity=0.5085287846481876 (-0.4808102345415778)\n",
      "FPR=49.1471% (+48.0810%), FNR=30.3266% (+27.8383%)\n",
      "                    \n",
      "********************\n",
      "Number of neurons in hidden layer = 32\n",
      "Score=0.7906388361796332, score with default=0.9835547122074636 (-0.19291587602783045)\n",
      "tp=333, fn=310, fp=21, tn=917\n",
      "sensitivity=0.5178849144634525 (-0.4572317262830482), specificity=0.9776119402985075 (-0.011727078891257903)\n",
      "FPR=2.2388% (+1.1727%), FNR=48.2115% (+45.7232%)\n",
      "                    \n",
      "********************\n",
      "Number of neurons in hidden layer = 40\n",
      "Score=0.7925363693864642, score with default=0.9835547122074636 (-0.1910183428209994)\n",
      "tp=430, fn=213, fp=115, tn=823\n",
      "sensitivity=0.6687402799377916 (-0.3063763608087091), specificity=0.8773987206823027 (-0.11194029850746268)\n",
      "FPR=12.2601% (+11.1940%), FNR=33.1260% (+30.6376%)\n",
      "                    \n",
      "********************\n",
      "Number of neurons in hidden layer = 50\n",
      "Score=0.7096774193548387, score with default=0.9835547122074636 (-0.27387729285262485)\n",
      "tp=519, fn=124, fp=335, tn=603\n",
      "sensitivity=0.807153965785381 (-0.16796267496111972), specificity=0.6428571428571429 (-0.3464818763326225)\n",
      "FPR=35.7143% (+34.6482%), FNR=19.2846% (+16.7963%)\n",
      "                    \n",
      "********************\n",
      "Number of neurons in hidden layer = 64\n",
      "Score=0.7836812144212524, score with default=0.9835547122074636 (-0.19987349778621122)\n",
      "tp=429, fn=214, fp=128, tn=810\n",
      "sensitivity=0.6671850699844479 (-0.3079315707620528), specificity=0.8635394456289979 (-0.12579957356076754)\n",
      "FPR=13.6461% (+12.5800%), FNR=33.2815% (+30.7932%)\n",
      "                    \n",
      "********************\n",
      "Number of neurons in hidden layer = 100\n",
      "Score=0.8165717900063251, score with default=0.9835547122074636 (-0.16698292220113853)\n",
      "tp=423, fn=220, fp=70, tn=868\n",
      "sensitivity=0.6578538102643857 (-0.317262830482115), specificity=0.9253731343283582 (-0.0639658848614072)\n",
      "FPR=7.4627% (+6.3966%), FNR=34.2146% (+31.7263%)\n",
      "                    \n",
      "********************\n",
      "Number of neurons in hidden layer = 128\n",
      "Score=0.8475648323845667, score with default=0.9835547122074636 (-0.1359898798228969)\n",
      "tp=533, fn=110, fp=131, tn=807\n",
      "sensitivity=0.8289269051321928 (-0.14618973561430793), specificity=0.8603411513859275 (-0.12899786780383793)\n",
      "FPR=13.9659% (+12.8998%), FNR=17.1073% (+14.6190%)\n",
      "                    \n",
      "********************\n",
      "Number of neurons in hidden layer = 256\n",
      "Score=0.845034788108792, score with default=0.9835547122074636 (-0.13851992409867164)\n",
      "tp=577, fn=66, fp=179, tn=759\n",
      "sensitivity=0.8973561430793157 (-0.07776049766718507), specificity=0.8091684434968017 (-0.18017057569296369)\n",
      "FPR=19.0832% (+18.0171%), FNR=10.2644% (+7.7760%)\n",
      "                    \n"
     ]
    }
   ],
   "source": [
    "# learning_rate='invscaling'\n",
    "for i in range(len(hidden_layer_neuron_numbers)):\n",
    "    print('*'*20)\n",
    "    print(f'Number of neurons in hidden layer = {hidden_layer_neuron_numbers[i]}')\n",
    "    mlp_hidden_layer_test = MLPClassifier(random_state=1, max_iter=4000, hidden_layer_sizes=(hidden_layer_neuron_numbers[i]), solver='sgd', learning_rate='invscaling')\n",
    "    mlp_hidden_layer_test.fit(X_train_standarized, y_train)\n",
    "    y_prediction_mlp_hidden_layer_test = mlp_hidden_layer_test.predict(X_test_standarized)\n",
    "    mlp_hidden_layer_test_score = mlp_hidden_layer_test.score(X_test_standarized, y_test)\n",
    "    score_sign = '+'\n",
    "    if(mlp_score > mlp_hidden_layer_test_score):\n",
    "        score_sign = '-'\n",
    "    print(f'Score={mlp_hidden_layer_test_score}, score with default={mlp_score} ({score_sign}{abs(mlp_hidden_layer_test_score - mlp_score)})')\n",
    "\n",
    "    tn, fp, fn, tp = confusion_matrix(y_test, y_prediction_mlp_hidden_layer_test).ravel()\n",
    "    print(f'tp={tp}, fn={fn}, fp={fp}, tn={tn}')\n",
    "    sensitivity_mlp_hidden_layer_test = tp/(tp+fn)\n",
    "    specificity_mlp_hidden_layer_test = tn/(fp+tn)\n",
    "    sensitivity_sign = '+'\n",
    "    if(sensitivity_mlp > sensitivity_mlp_hidden_layer_test):\n",
    "        sensitivity_sign = '-'\n",
    "\n",
    "    specificity_sign = '+'\n",
    "    if(specificity_mlp > specificity_mlp_hidden_layer_test):\n",
    "        specificity_sign = '-'\n",
    "\n",
    "    print(f'sensitivity={sensitivity_mlp_hidden_layer_test} ({sensitivity_sign}{abs(sensitivity_mlp_hidden_layer_test-sensitivity_mlp)}), specificity={specificity_mlp_hidden_layer_test} ({specificity_sign}{abs(specificity_mlp_hidden_layer_test-specificity_mlp)})')\n",
    "    \n",
    "    fpr_mlp_hidden_layer_test = (1-specificity_mlp_hidden_layer_test)*100\n",
    "    fpr_sign = '+'\n",
    "    if(fpr_mlp > fpr_mlp_hidden_layer_test):\n",
    "        fpr_sign = '-'\n",
    "\n",
    "    fnr_mlp_hidden_layer_test  = (1-sensitivity_mlp_hidden_layer_test)*100\n",
    "    fnr_sign='+'\n",
    "    if(fnr_mlp > fnr_mlp_hidden_layer_test):\n",
    "        fnr_sign = '-'\n",
    "\n",
    "    fpr_format = '{:.4f}'.format(fpr_mlp_hidden_layer_test)\n",
    "    fnr_format = '{:.4f}'.format(fnr_mlp_hidden_layer_test)\n",
    "    fpr_diff_format = '{:.4f}'.format(abs(fpr_mlp_hidden_layer_test-fpr_mlp))\n",
    "    fnr_diff_format='{:.4f}'.format(abs(fnr_mlp_hidden_layer_test-fnr_mlp))\n",
    "    print(f'FPR={fpr_format}% ({fpr_sign}{fpr_diff_format}%), FNR={fnr_format}% ({fnr_sign}{fnr_diff_format}%)')\n",
    "    print(' '*20)"
   ]
  },
  {
   "cell_type": "code",
   "execution_count": 77,
   "metadata": {},
   "outputs": [
    {
     "name": "stdout",
     "output_type": "stream",
     "text": [
      "********************\n",
      "Number of neurons in hidden layer = 8\n",
      "Score=0.9778621125869703, score with default=0.9835547122074636 (-0.005692599620493288)\n",
      "tp=616, fn=27, fp=8, tn=930\n",
      "sensitivity=0.9580093312597201 (-0.01710730948678063), specificity=0.9914712153518124 (+0.002132196162046962)\n",
      "FPR=0.8529% (-0.2132%), FNR=4.1991% (+1.7107%)\n",
      "                    \n",
      "********************\n",
      "Number of neurons in hidden layer = 16\n",
      "Score=0.9797596457938014, score with default=0.9835547122074636 (-0.003795066413662229)\n",
      "tp=618, fn=25, fp=7, tn=931\n",
      "sensitivity=0.9611197511664075 (-0.013996889580093264), specificity=0.9925373134328358 (+0.0031982942430703876)\n",
      "FPR=0.7463% (-0.3198%), FNR=3.8880% (+1.3997%)\n",
      "                    \n",
      "********************\n",
      "Number of neurons in hidden layer = 32\n",
      "Score=0.9765970904490828, score with default=0.9835547122074636 (-0.006957621758380772)\n",
      "tp=615, fn=28, fp=9, tn=929\n",
      "sensitivity=0.9564541213063764 (-0.018662519440124314), specificity=0.990405117270789 (+0.0010660980810235365)\n",
      "FPR=0.9595% (-0.1066%), FNR=4.3546% (+1.8663%)\n",
      "                    \n",
      "********************\n",
      "Number of neurons in hidden layer = 40\n",
      "Score=0.9778621125869703, score with default=0.9835547122074636 (-0.005692599620493288)\n",
      "tp=617, fn=26, fp=9, tn=929\n",
      "sensitivity=0.9595645412130638 (-0.015552099533436947), specificity=0.990405117270789 (+0.0010660980810235365)\n",
      "FPR=0.9595% (-0.1066%), FNR=4.0435% (+1.5552%)\n",
      "                    \n",
      "********************\n",
      "Number of neurons in hidden layer = 50\n",
      "Score=0.9778621125869703, score with default=0.9835547122074636 (-0.005692599620493288)\n",
      "tp=616, fn=27, fp=8, tn=930\n",
      "sensitivity=0.9580093312597201 (-0.01710730948678063), specificity=0.9914712153518124 (+0.002132196162046962)\n",
      "FPR=0.8529% (-0.2132%), FNR=4.1991% (+1.7107%)\n",
      "                    \n",
      "********************\n",
      "Number of neurons in hidden layer = 64\n",
      "Score=0.9765970904490828, score with default=0.9835547122074636 (-0.006957621758380772)\n",
      "tp=615, fn=28, fp=9, tn=929\n",
      "sensitivity=0.9564541213063764 (-0.018662519440124314), specificity=0.990405117270789 (+0.0010660980810235365)\n",
      "FPR=0.9595% (-0.1066%), FNR=4.3546% (+1.8663%)\n",
      "                    \n",
      "********************\n",
      "Number of neurons in hidden layer = 100\n",
      "Score=0.978494623655914, score with default=0.9835547122074636 (-0.005060088551549602)\n",
      "tp=617, fn=26, fp=8, tn=930\n",
      "sensitivity=0.9595645412130638 (-0.015552099533436947), specificity=0.9914712153518124 (+0.002132196162046962)\n",
      "FPR=0.8529% (-0.2132%), FNR=4.0435% (+1.5552%)\n",
      "                    \n",
      "********************\n",
      "Number of neurons in hidden layer = 128\n",
      "Score=0.9753320683111955, score with default=0.9835547122074636 (-0.008222643896268145)\n",
      "tp=616, fn=27, fp=12, tn=926\n",
      "sensitivity=0.9580093312597201 (-0.01710730948678063), specificity=0.9872068230277186 (-0.002132196162046851)\n",
      "FPR=1.2793% (+0.2132%), FNR=4.1991% (+1.7107%)\n",
      "                    \n",
      "********************\n",
      "Number of neurons in hidden layer = 256\n",
      "Score=0.9791271347248577, score with default=0.9835547122074636 (-0.0044275774826059155)\n",
      "tp=619, fn=24, fp=9, tn=929\n",
      "sensitivity=0.9626749611197511 (-0.01244167962674958), specificity=0.990405117270789 (+0.0010660980810235365)\n",
      "FPR=0.9595% (-0.1066%), FNR=3.7325% (+1.2442%)\n",
      "                    \n"
     ]
    }
   ],
   "source": [
    "# learning_rate='adaptive'\n",
    "for i in range(len(hidden_layer_neuron_numbers)):\n",
    "    print('*'*20)\n",
    "    print(f'Number of neurons in hidden layer = {hidden_layer_neuron_numbers[i]}')\n",
    "    mlp_hidden_layer_test = MLPClassifier(random_state=1, max_iter=4000, hidden_layer_sizes=(hidden_layer_neuron_numbers[i]), solver='sgd', learning_rate='adaptive')\n",
    "    mlp_hidden_layer_test.fit(X_train_standarized, y_train)\n",
    "    y_prediction_mlp_hidden_layer_test = mlp_hidden_layer_test.predict(X_test_standarized)\n",
    "    mlp_hidden_layer_test_score = mlp_hidden_layer_test.score(X_test_standarized, y_test)\n",
    "    score_sign = '+'\n",
    "    if(mlp_score > mlp_hidden_layer_test_score):\n",
    "        score_sign = '-'\n",
    "    print(f'Score={mlp_hidden_layer_test_score}, score with default={mlp_score} ({score_sign}{abs(mlp_hidden_layer_test_score - mlp_score)})')\n",
    "\n",
    "    tn, fp, fn, tp = confusion_matrix(y_test, y_prediction_mlp_hidden_layer_test).ravel()\n",
    "    print(f'tp={tp}, fn={fn}, fp={fp}, tn={tn}')\n",
    "    sensitivity_mlp_hidden_layer_test = tp/(tp+fn)\n",
    "    specificity_mlp_hidden_layer_test = tn/(fp+tn)\n",
    "    sensitivity_sign = '+'\n",
    "    if(sensitivity_mlp > sensitivity_mlp_hidden_layer_test):\n",
    "        sensitivity_sign = '-'\n",
    "\n",
    "    specificity_sign = '+'\n",
    "    if(specificity_mlp > specificity_mlp_hidden_layer_test):\n",
    "        specificity_sign = '-'\n",
    "\n",
    "    print(f'sensitivity={sensitivity_mlp_hidden_layer_test} ({sensitivity_sign}{abs(sensitivity_mlp_hidden_layer_test-sensitivity_mlp)}), specificity={specificity_mlp_hidden_layer_test} ({specificity_sign}{abs(specificity_mlp_hidden_layer_test-specificity_mlp)})')\n",
    "    \n",
    "    fpr_mlp_hidden_layer_test = (1-specificity_mlp_hidden_layer_test)*100\n",
    "    fpr_sign = '+'\n",
    "    if(fpr_mlp > fpr_mlp_hidden_layer_test):\n",
    "        fpr_sign = '-'\n",
    "\n",
    "    fnr_mlp_hidden_layer_test  = (1-sensitivity_mlp_hidden_layer_test)*100\n",
    "    fnr_sign='+'\n",
    "    if(fnr_mlp > fnr_mlp_hidden_layer_test):\n",
    "        fnr_sign = '-'\n",
    "\n",
    "    fpr_format = '{:.4f}'.format(fpr_mlp_hidden_layer_test)\n",
    "    fnr_format = '{:.4f}'.format(fnr_mlp_hidden_layer_test)\n",
    "    fpr_diff_format = '{:.4f}'.format(abs(fpr_mlp_hidden_layer_test-fpr_mlp))\n",
    "    fnr_diff_format='{:.4f}'.format(abs(fnr_mlp_hidden_layer_test-fnr_mlp))\n",
    "    print(f'FPR={fpr_format}% ({fpr_sign}{fpr_diff_format}%), FNR={fnr_format}% ({fnr_sign}{fnr_diff_format}%)')\n",
    "    print(' '*20)"
   ]
  },
  {
   "cell_type": "markdown",
   "metadata": {},
   "source": [
    "2 layers in hidden layer with sgd solver"
   ]
  },
  {
   "cell_type": "code",
   "execution_count": 78,
   "metadata": {},
   "outputs": [
    {
     "name": "stdout",
     "output_type": "stream",
     "text": [
      "********************\n",
      "Number of neurons in hidden layer = (16, 16)\n",
      "Score=0.9797596457938014, score with default=0.9835547122074636 (-0.003795066413662229)\n",
      "tp=619, fn=24, fp=8, tn=930\n",
      "sensitivity=0.9626749611197511 (-0.01244167962674958), specificity=0.9914712153518124 (+0.002132196162046962)\n",
      "FPR=0.8529% (-0.2132%), FNR=3.7325% (+1.2442%)\n",
      "                    \n",
      "********************\n",
      "Number of neurons in hidden layer = (16, 32)\n",
      "Score=0.9772296015180265, score with default=0.9835547122074636 (-0.006325110689437086)\n",
      "tp=615, fn=28, fp=8, tn=930\n",
      "sensitivity=0.9564541213063764 (-0.018662519440124314), specificity=0.9914712153518124 (+0.002132196162046962)\n",
      "FPR=0.8529% (-0.2132%), FNR=4.3546% (+1.8663%)\n",
      "                    \n",
      "********************\n",
      "Number of neurons in hidden layer = (100, 128)\n",
      "Score=0.978494623655914, score with default=0.9835547122074636 (-0.005060088551549602)\n",
      "tp=619, fn=24, fp=10, tn=928\n",
      "sensitivity=0.9626749611197511 (-0.01244167962674958), specificity=0.9893390191897654 (+0.0)\n",
      "FPR=1.0661% (+0.0000%), FNR=3.7325% (+1.2442%)\n",
      "                    \n",
      "********************\n",
      "Number of neurons in hidden layer = (128, 256)\n",
      "Score=0.9759645793801391, score with default=0.9835547122074636 (-0.007590132827324458)\n",
      "tp=618, fn=25, fp=13, tn=925\n",
      "sensitivity=0.9611197511664075 (-0.013996889580093264), specificity=0.9861407249466951 (-0.0031982942430702765)\n",
      "FPR=1.3859% (+0.3198%), FNR=3.8880% (+1.3997%)\n",
      "                    \n"
     ]
    }
   ],
   "source": [
    "# hidden layers\n",
    "# learning_rate = 'adaptive'\n",
    "hidden_layers_neuron_numbers = [(16, 16), (16, 32), (100, 128), (128, 256)]\n",
    "for i in range(len(hidden_layers_neuron_numbers)):\n",
    "    print('*'*20)\n",
    "    print(f'Number of neurons in hidden layer = {hidden_layers_neuron_numbers[i]}')\n",
    "    mlp_hidden_layer_test = MLPClassifier(random_state=1, max_iter=4000, hidden_layer_sizes=(hidden_layers_neuron_numbers[i]), solver='sgd', learning_rate='adaptive')\n",
    "    mlp_hidden_layer_test.fit(X_train_standarized, y_train)\n",
    "    y_prediction_mlp_hidden_layer_test = mlp_hidden_layer_test.predict(X_test_standarized)\n",
    "    mlp_hidden_layer_test_score = mlp_hidden_layer_test.score(X_test_standarized, y_test)\n",
    "    score_sign = '+'\n",
    "    if(mlp_score > mlp_hidden_layer_test_score):\n",
    "        score_sign = '-'\n",
    "    print(f'Score={mlp_hidden_layer_test_score}, score with default={mlp_score} ({score_sign}{abs(mlp_hidden_layer_test_score - mlp_score)})')\n",
    "\n",
    "    tn, fp, fn, tp = confusion_matrix(y_test, y_prediction_mlp_hidden_layer_test).ravel()\n",
    "    print(f'tp={tp}, fn={fn}, fp={fp}, tn={tn}')\n",
    "    sensitivity_mlp_hidden_layer_test = tp/(tp+fn)\n",
    "    specificity_mlp_hidden_layer_test = tn/(fp+tn)\n",
    "    sensitivity_sign = '+'\n",
    "    if(sensitivity_mlp > sensitivity_mlp_hidden_layer_test):\n",
    "        sensitivity_sign = '-'\n",
    "\n",
    "    specificity_sign = '+'\n",
    "    if(specificity_mlp > specificity_mlp_hidden_layer_test):\n",
    "        specificity_sign = '-'\n",
    "\n",
    "    print(f'sensitivity={sensitivity_mlp_hidden_layer_test} ({sensitivity_sign}{abs(sensitivity_mlp_hidden_layer_test-sensitivity_mlp)}), specificity={specificity_mlp_hidden_layer_test} ({specificity_sign}{abs(specificity_mlp_hidden_layer_test-specificity_mlp)})')\n",
    "    \n",
    "    fpr_mlp_hidden_layer_test = (1-specificity_mlp_hidden_layer_test)*100\n",
    "    fpr_sign = '+'\n",
    "    if(fpr_mlp > fpr_mlp_hidden_layer_test):\n",
    "        fpr_sign = '-'\n",
    "\n",
    "    fnr_mlp_hidden_layer_test  = (1-sensitivity_mlp_hidden_layer_test)*100\n",
    "    fnr_sign='+'\n",
    "    if(fnr_mlp > fnr_mlp_hidden_layer_test):\n",
    "        fnr_sign = '-'\n",
    "\n",
    "    fpr_format = '{:.4f}'.format(fpr_mlp_hidden_layer_test)\n",
    "    fnr_format = '{:.4f}'.format(fnr_mlp_hidden_layer_test)\n",
    "    fpr_diff_format = '{:.4f}'.format(abs(fpr_mlp_hidden_layer_test-fpr_mlp))\n",
    "    fnr_diff_format='{:.4f}'.format(abs(fnr_mlp_hidden_layer_test-fnr_mlp))\n",
    "    print(f'FPR={fpr_format}% ({fpr_sign}{fpr_diff_format}%), FNR={fnr_format}% ({fnr_sign}{fnr_diff_format}%)')\n",
    "    print(' '*20)"
   ]
  },
  {
   "cell_type": "markdown",
   "metadata": {},
   "source": [
    "### 2.2 Decision tree"
   ]
  },
  {
   "cell_type": "markdown",
   "metadata": {},
   "source": [
    "# 3. Feature selection"
   ]
  },
  {
   "cell_type": "markdown",
   "metadata": {},
   "source": [
    "### 3.1 RFE - Recursive feature elimination\n",
    "Feature ranking with recursive feature elimination.\n",
    "\n",
    "Given an external estimator that assigns weights to features (e.g., the coefficients of a linear model), the goal of recursive feature elimination (RFE) is to select features by recursively considering smaller and smaller sets of features. First, the estimator is trained on the initial set of features and the importance of each feature is obtained either through any specific attribute or callable. Then, the least important features are pruned from current set of features. That procedure is recursively repeated on the pruned set until the desired number of features to select is eventually reached."
   ]
  },
  {
   "cell_type": "code",
   "execution_count": 22,
   "metadata": {},
   "outputs": [
    {
     "name": "stdout",
     "output_type": "stream",
     "text": [
      "(4789, 463)\n"
     ]
    }
   ],
   "source": [
    "# data size\n",
    "print(dataFrame.shape)"
   ]
  },
  {
   "cell_type": "markdown",
   "metadata": {},
   "source": [
    "RFE with Decision tree"
   ]
  },
  {
   "cell_type": "code",
   "execution_count": 63,
   "metadata": {},
   "outputs": [
    {
     "name": "stdout",
     "output_type": "stream",
     "text": [
      "********************\n",
      "n_features=50\n",
      "Score=0.9772296015180265 (+0.0006325110689436864)\n",
      "tp=620, fn=23, fp=13, tn=925\n",
      "sensitivity=96.423% (+0.0%), specificity=98.6141% (+0.1066%)\n",
      "FPR=1.3859% (-0.1066%), FNR=3.577% (+0.0%)\n",
      "                    \n",
      "********************\n",
      "n_features=70\n",
      "Score=0.9759645793801391 (-0.0006325110689436864)\n",
      "tp=622, fn=21, fp=17, tn=921\n",
      "sensitivity=96.7341% (+0.3111%), specificity=98.1876% (-0.3199%)\n",
      "FPR=1.8124% (+0.3199%), FNR=3.2659% (-0.3111%)\n",
      "                    \n",
      "********************\n",
      "n_features=100\n",
      "Score=0.9765970904490828 (+0.0)\n",
      "tp=622, fn=21, fp=16, tn=922\n",
      "sensitivity=96.7341% (+0.3111%), specificity=98.2942% (-0.2133%)\n",
      "FPR=1.7058% (+0.2133%), FNR=3.2659% (-0.3111%)\n",
      "                    \n",
      "********************\n",
      "n_features=150\n",
      "Score=0.9746995572422518 (-0.001897533206831059)\n",
      "tp=622, fn=21, fp=19, tn=919\n",
      "sensitivity=96.7341% (+0.3111%), specificity=97.9744% (-0.5331%)\n",
      "FPR=2.0256% (+0.5331%), FNR=3.2659% (-0.3111%)\n",
      "                    \n",
      "********************\n",
      "n_features=200\n",
      "Score=0.9753320683111955 (-0.0012650221378873727)\n",
      "tp=620, fn=23, fp=16, tn=922\n",
      "sensitivity=96.423% (+0.0%), specificity=98.2942% (-0.2133%)\n",
      "FPR=1.7058% (+0.2133%), FNR=3.577% (+0.0%)\n",
      "                    \n",
      "********************\n",
      "n_features=300\n",
      "Score=0.9759645793801391 (-0.0006325110689436864)\n",
      "tp=622, fn=21, fp=17, tn=921\n",
      "sensitivity=96.7341% (+0.3111%), specificity=98.1876% (-0.3199%)\n",
      "FPR=1.8124% (+0.3199%), FNR=3.2659% (-0.3111%)\n",
      "                    \n",
      "********************\n",
      "n_features=400\n",
      "Score=0.9753320683111955 (-0.0012650221378873727)\n",
      "tp=620, fn=23, fp=16, tn=922\n",
      "sensitivity=96.423% (+0.0%), specificity=98.2942% (-0.2133%)\n",
      "FPR=1.7058% (+0.2133%), FNR=3.577% (+0.0%)\n",
      "                    \n"
     ]
    }
   ],
   "source": [
    "# take 200 most informative features\n",
    "n_features_list = [50, 70, 100, 150, 200, 300, 400]\n",
    "\n",
    "for n_features in n_features_list:\n",
    "    print('*'*20)\n",
    "    print(f'n_features={n_features}')\n",
    "    \n",
    "    # decision tree\n",
    "    decisionTree_with_rfe = DecisionTreeClassifier()\n",
    "    rfe = RFE(estimator=decisionTree_with_rfe, n_features_to_select=n_features, step=10)\n",
    "    rfe = rfe.fit(X_train_standarized, y_train)\n",
    "    y_prediction_rfe = rfe.predict(X_test_standarized)\n",
    "\n",
    "    # compare score\n",
    "    decisionTree_with_rfe_score = rfe.score(X_test_standarized, y_test)\n",
    "    decisionTree_score_diff = decisionTree_with_rfe_score - decision_tree_score\n",
    "    print(f'Score={decisionTree_with_rfe_score} ({decisionTree_score_diff:+})')\n",
    "\n",
    "    # confusion matrix\n",
    "    tn, fp, fn, tp = confusion_matrix(y_test, y_prediction_rfe).ravel()\n",
    "    print(f'tp={tp}, fn={fn}, fp={fp}, tn={tn}')\n",
    "    sensitivity_dt_rfe = round(100*tp/(tp+fn), 4)\n",
    "    specificity_dt_rfe = round(100*tn/(fp+tn), 4)\n",
    "    sensitivity_dt_diff = round(sensitivity_dt_rfe - sensitivity_dt, 4)\n",
    "    specificity_dt_diff = round(specificity_dt_rfe - specificity_dt, 4)\n",
    "    print(\"sensitivity={}% ({:+}%), specificity={}% ({:+}%)\".format(sensitivity_dt_rfe, sensitivity_dt_diff, specificity_dt_rfe, specificity_dt_diff))\n",
    "\n",
    "    fpr_dt_rfe = round(100-specificity_dt_rfe, 4)\n",
    "    fnr_dt_rfe = round(100-sensitivity_dt_rfe, 4)\n",
    "    fpr_dt_diff = round(fpr_dt_rfe - fpr_dt, 4)\n",
    "    fnr_dt_diff = round(fnr_dt_rfe - fnr_dt, 4)\n",
    "    print(\"FPR={}% ({:+}%), FNR={}% ({:+}%)\".format(fpr_dt_rfe, fpr_dt_diff, fnr_dt_rfe, fnr_dt_diff))\n",
    "    print(' '*20)\n"
   ]
  },
  {
   "cell_type": "markdown",
   "metadata": {},
   "source": [
    "### 3.2 Univariate feature selection - SelectKBest"
   ]
  },
  {
   "cell_type": "code",
   "execution_count": 38,
   "metadata": {},
   "outputs": [],
   "source": [
    "bestFeaturesList = [50, 70, 100, 150, 200, 300, 400]"
   ]
  },
  {
   "cell_type": "markdown",
   "metadata": {},
   "source": [
    "SelectKBest with MLP"
   ]
  },
  {
   "cell_type": "code",
   "execution_count": 42,
   "metadata": {},
   "outputs": [
    {
     "name": "stdout",
     "output_type": "stream",
     "text": [
      "********************\n",
      "Best features=50\n",
      "Score=0.9778621125869703 (-0.006957621758380772)\n",
      "tp=620, fn=23, fp=12, tn=926\n",
      "sensitivity=0.9642 (-0.0125), specificity=0.9872 (-0.0032)\n",
      "FPR=1.28% (+0.32%), FNR=3.58% (+1.25%)\n",
      "                    \n",
      "********************\n",
      "Best features=70\n",
      "Score=0.9860847564832385 (+0.0012650221378873727)\n",
      "tp=624, fn=19, fp=3, tn=935\n",
      "sensitivity=0.9705 (-0.0062), specificity=0.9968 (+0.0064)\n",
      "FPR=0.32% (-0.64%), FNR=2.95% (+0.62%)\n",
      "                    \n",
      "********************\n",
      "Best features=100\n",
      "Score=0.9816571790006325 (-0.003162555344718543)\n",
      "tp=623, fn=20, fp=9, tn=929\n",
      "sensitivity=0.9689 (-0.0078), specificity=0.9904 (+0.0)\n",
      "FPR=0.96% (+0.0%), FNR=3.11% (+0.78%)\n",
      "                    \n",
      "********************\n",
      "Best features=150\n",
      "Score=0.9816571790006325 (-0.003162555344718543)\n",
      "tp=622, fn=21, fp=8, tn=930\n",
      "sensitivity=0.9673 (-0.0094), specificity=0.9915 (+0.0011)\n",
      "FPR=0.85% (-0.11%), FNR=3.27% (+0.94%)\n",
      "                    \n",
      "********************\n",
      "Best features=200\n",
      "Score=0.9810246679316889 (-0.003795066413662229)\n",
      "tp=626, fn=17, fp=13, tn=925\n",
      "sensitivity=0.9736 (-0.0031), specificity=0.9861 (-0.0043)\n",
      "FPR=1.39% (+0.43%), FNR=2.64% (+0.31%)\n",
      "                    \n",
      "********************\n",
      "Best features=300\n",
      "Score=0.978494623655914 (-0.006325110689437086)\n",
      "tp=625, fn=18, fp=16, tn=922\n",
      "sensitivity=0.972 (-0.0047), specificity=0.9829 (-0.0075)\n",
      "FPR=1.71% (+0.75%), FNR=2.8% (+0.47%)\n",
      "                    \n",
      "********************\n",
      "Best features=400\n",
      "Score=0.9791271347248577 (-0.005692599620493399)\n",
      "tp=619, fn=24, fp=9, tn=929\n",
      "sensitivity=0.9627 (-0.014), specificity=0.9904 (+0.0)\n",
      "FPR=0.96% (+0.0%), FNR=3.73% (+1.4%)\n",
      "                    \n"
     ]
    }
   ],
   "source": [
    "for bestFeatures in bestFeaturesList:\n",
    "    print('*'*20)\n",
    "    print(f'Best features={bestFeatures}')\n",
    "    selector = SelectKBest(chi2, k=bestFeatures)\n",
    "    X_train_skb = selector.fit_transform(X_train, y_train) # fit only on train set!\n",
    "    X_test_skb = selector.transform(X_test)\n",
    "\n",
    "    # standarization\n",
    "    scaler = StandardScaler().fit(X_train_skb) # fit only on train set!\n",
    "    X_train_skb_std = scaler.transform(X_train_skb)\n",
    "    X_test_skb_std = scaler.transform(X_test_skb)\n",
    "\n",
    "    # mlp classifier\n",
    "    mlp_skb = MLPClassifier(random_state=1, max_iter=300, solver='adam')\n",
    "    mlp_skb.fit(X_train_skb_std, y_train)\n",
    "    y_prediction_mlp_skb = mlp_skb.predict(X_test_skb_std)\n",
    "    mlp_skb_score = mlp_skb.score(X_test_skb_std, y_test)\n",
    "\n",
    "    # compare score with default\n",
    "    mlp_skb_diff = mlp_skb_score - mlp_score\n",
    "    print(f'Score={mlp_skb_score} ({mlp_skb_diff:+})')\n",
    "\n",
    "    # confusion matrix\n",
    "    tn, fp, fn, tp = confusion_matrix(y_test, y_prediction_mlp_skb).ravel()\n",
    "    print(f'tp={tp}, fn={fn}, fp={fp}, tn={tn}')\n",
    "    sensitivity_mlp_skb = round(tp/(tp+fn), 4)\n",
    "    specificity_mlp_skb = round(tn/(fp+tn), 4)\n",
    "    \n",
    "    # compare with default\n",
    "    sensitivity_mlp_diff = round(sensitivity_mlp_skb-sensitivity_mlp, 4)\n",
    "    specificity_mlp_diff = round(specificity_mlp_skb-specificity_mlp, 4)\n",
    "    print(\"sensitivity={} ({:+}), specificity={} ({:+})\".format(sensitivity_mlp_skb, sensitivity_mlp_diff, specificity_mlp_skb, specificity_mlp_diff))\n",
    "\n",
    "    # fpr and fnr\n",
    "    fpr_mlp_skb = round((1-specificity_mlp_skb)*100, 4)\n",
    "    fnr_mlp_skb = round((1-sensitivity_mlp_skb)*100, 4)\n",
    "    fpr_mlp_skb_diff = round(fpr_mlp_skb - fpr_mlp, 4)\n",
    "    fnr_mlp_skb_diff = round(fnr_mlp_skb - fnr_mlp, 4)\n",
    "    print(\"FPR={}% ({:+}%), FNR={}% ({:+}%)\".format(fpr_mlp_skb, fpr_mlp_skb_diff, fnr_mlp_skb, fnr_mlp_skb_diff))\n",
    "    print(' '*20)"
   ]
  },
  {
   "cell_type": "markdown",
   "metadata": {},
   "source": [
    "Best results for selecting 70 features. FPR has been reduced to 0.32% (less than 0.5%), at the same time FNR was increased by 0.6172% making it to 2.95%. We accept more spam (sensitivity is lower = 97.05%) but we take more valid mails (specificity = 99.68%).\n",
    "\n",
    "* Best features=70\n",
    "* Score=0.9860847564832385 (+0.0013)\n",
    "* tp=624, fn=19, fp=3, tn=935\n",
    "* sensitivity=0.9705 (-0.0062), specificity=0.9968 (+0.0064)\n",
    "* FPR=0.32% (-0.6395%), FNR=2.95% (+0.6172%)"
   ]
  },
  {
   "cell_type": "markdown",
   "metadata": {},
   "source": [
    "SelectKBest with DecisionTree"
   ]
  },
  {
   "cell_type": "code",
   "execution_count": 61,
   "metadata": {},
   "outputs": [
    {
     "name": "stdout",
     "output_type": "stream",
     "text": [
      "SelectKBest with DecisionTree\n",
      "********************\n",
      "Best features=50\n",
      "Score=0.9721695129664769 (-0.0044275774826059155)\n",
      "tp=608, fn=35, fp=9, tn=929\n",
      "sensitivity=94.5568% (-1.8662%), specificity=99.0405% (+0.533%)\n",
      "FPR=0.9595% (-0.533%), FNR=5.4432% (+1.8662%)\n",
      "                    \n",
      "********************\n",
      "Best features=70\n",
      "Score=0.9746995572422518 (-0.001897533206831059)\n",
      "tp=608, fn=35, fp=5, tn=933\n",
      "sensitivity=94.5568% (-1.8662%), specificity=99.467% (+0.9595%)\n",
      "FPR=0.533% (-0.9595%), FNR=5.4432% (+1.8662%)\n",
      "                    \n",
      "********************\n",
      "Best features=100\n",
      "Score=0.9715370018975332 (-0.005060088551549602)\n",
      "tp=608, fn=35, fp=10, tn=928\n",
      "sensitivity=94.5568% (-1.8662%), specificity=98.9339% (+0.4264%)\n",
      "FPR=1.0661% (-0.4264%), FNR=5.4432% (+1.8662%)\n",
      "                    \n",
      "********************\n",
      "Best features=150\n",
      "Score=0.9709044908285895 (-0.005692599620493288)\n",
      "tp=609, fn=34, fp=12, tn=926\n",
      "sensitivity=94.7123% (-1.7107%), specificity=98.7207% (+0.2132%)\n",
      "FPR=1.2793% (-0.2132%), FNR=5.2877% (+1.7107%)\n",
      "                    \n",
      "********************\n",
      "Best features=200\n",
      "Score=0.9746995572422518 (-0.001897533206831059)\n",
      "tp=621, fn=22, fp=18, tn=920\n",
      "sensitivity=96.5785% (+0.1555%), specificity=98.081% (-0.4265%)\n",
      "FPR=1.919% (+0.4265%), FNR=3.4215% (-0.1555%)\n",
      "                    \n",
      "********************\n",
      "Best features=300\n",
      "Score=0.9746995572422518 (-0.001897533206831059)\n",
      "tp=617, fn=26, fp=14, tn=924\n",
      "sensitivity=95.9565% (-0.4665%), specificity=98.5075% (+0.0%)\n",
      "FPR=1.4925% (+0.0%), FNR=4.0435% (+0.4665%)\n",
      "                    \n",
      "********************\n",
      "Best features=400\n",
      "Score=0.9715370018975332 (-0.005060088551549602)\n",
      "tp=612, fn=31, fp=14, tn=924\n",
      "sensitivity=95.1788% (-1.2442%), specificity=98.5075% (+0.0%)\n",
      "FPR=1.4925% (+0.0%), FNR=4.8212% (+1.2442%)\n",
      "                    \n"
     ]
    }
   ],
   "source": [
    "print('SelectKBest with DecisionTree')\n",
    "for bestFeatures in bestFeaturesList:\n",
    "    print('*'*20)\n",
    "    print(f'Best features={bestFeatures}')\n",
    "    selector = SelectKBest(chi2, k=bestFeatures)\n",
    "    X_train_skb = selector.fit_transform(X_train, y_train) # fit only on train set!\n",
    "    X_test_skb = selector.transform(X_test)\n",
    "\n",
    "    # standarization\n",
    "    scaler = StandardScaler().fit(X_train_skb) # fit only on train set!\n",
    "    X_train_skb_std = scaler.transform(X_train_skb)\n",
    "    X_test_skb_std = scaler.transform(X_test_skb)\n",
    "\n",
    "    # decision tree classifier\n",
    "    dt_skb = DecisionTreeClassifier()\n",
    "    dt_skb.fit(X_train_skb_std, y_train)\n",
    "    y_prediction_dt_skb = dt_skb.predict(X_test_skb_std)\n",
    "    dt_skb_score = dt_skb.score(X_test_skb_std, y_test)\n",
    "\n",
    "    # compare score with default\n",
    "    dt_skb_diff = dt_skb_score - decision_tree_score\n",
    "    print(f'Score={dt_skb_score} ({dt_skb_diff:+})')\n",
    "\n",
    "    # confusion matrix\n",
    "    tn, fp, fn, tp = confusion_matrix(y_test, y_prediction_dt_skb).ravel()\n",
    "    print(f'tp={tp}, fn={fn}, fp={fp}, tn={tn}')\n",
    "    sensitivity_dt_skb = round(100*tp/(tp+fn), 4)\n",
    "    specificity_dt_skb = round(100*tn/(fp+tn), 4)\n",
    "    \n",
    "    # compare with default\n",
    "    sensitivity_dt_diff = round(sensitivity_dt_skb-sensitivity_dt, 4)\n",
    "    specificity_dt_diff = round(specificity_dt_skb-specificity_dt, 4)\n",
    "    print(\"sensitivity={}% ({:+}%), specificity={}% ({:+}%)\".format(sensitivity_dt_skb, sensitivity_dt_diff, specificity_dt_skb, specificity_dt_diff))\n",
    "\n",
    "    # fpr and fnr\n",
    "    fpr_dt_skb = round(100-specificity_dt_skb, 4)\n",
    "    fnr_dt_skb = round(100-sensitivity_dt_skb, 4)\n",
    "    fpr_dt_skb_diff = round(fpr_dt_skb - fpr_dt, 4)\n",
    "    fnr_dt_skb_diff = round(fnr_dt_skb - fnr_dt, 4)\n",
    "    print(\"FPR={}% ({:+}%), FNR={}% ({:+}%)\".format(fpr_dt_skb, fpr_dt_skb_diff, fnr_dt_skb, fnr_dt_skb_diff))\n",
    "    print(' '*20)"
   ]
  },
  {
   "cell_type": "markdown",
   "metadata": {},
   "source": [
    "### 3.3 PCA"
   ]
  },
  {
   "cell_type": "markdown",
   "metadata": {},
   "source": [
    "Principal component analysis (PCA).\n",
    "\n",
    "Linear dimensionality reduction using Singular Value Decomposition of the data to project it to a lower dimensional space. The input data is centered but not scaled for each feature before applying the SVD."
   ]
  },
  {
   "cell_type": "code",
   "execution_count": 50,
   "metadata": {},
   "outputs": [],
   "source": [
    "componentsList = [50, 70, 100, 150, 200, 300, 400]"
   ]
  },
  {
   "cell_type": "markdown",
   "metadata": {},
   "source": [
    "PCA with MLP:"
   ]
  },
  {
   "cell_type": "code",
   "execution_count": 51,
   "metadata": {},
   "outputs": [
    {
     "name": "stdout",
     "output_type": "stream",
     "text": [
      "********************\n",
      "Components=50\n",
      "Score=0.9835547122074636 (-0.0012650221378874837)\n",
      "tp=623, fn=20, fp=6, tn=932\n",
      "sensitivity=0.9689 (-0.0078), specificity=0.9936 (+0.0032)\n",
      "FPR=0.64% (-0.32%), FNR=3.11% (+0.78%)\n",
      "                    \n",
      "********************\n",
      "Components=70\n",
      "Score=0.9835547122074636 (-0.0012650221378874837)\n",
      "tp=623, fn=20, fp=6, tn=932\n",
      "sensitivity=0.9689 (-0.0078), specificity=0.9936 (+0.0032)\n",
      "FPR=0.64% (-0.32%), FNR=3.11% (+0.78%)\n",
      "                    \n",
      "********************\n",
      "Components=100\n",
      "Score=0.9803921568627451 (-0.004427577482606027)\n",
      "tp=620, fn=23, fp=8, tn=930\n",
      "sensitivity=0.9642 (-0.0125), specificity=0.9915 (+0.0011)\n",
      "FPR=0.85% (-0.11%), FNR=3.58% (+1.25%)\n",
      "                    \n",
      "********************\n",
      "Components=150\n",
      "Score=0.9778621125869703 (-0.006957621758380772)\n",
      "tp=617, fn=26, fp=9, tn=929\n",
      "sensitivity=0.9596 (-0.0171), specificity=0.9904 (+0.0)\n",
      "FPR=0.96% (+0.0%), FNR=4.04% (+1.71%)\n",
      "                    \n",
      "********************\n",
      "Components=200\n",
      "Score=0.9829222011385199 (-0.00189753320683117)\n",
      "tp=622, fn=21, fp=6, tn=932\n",
      "sensitivity=0.9673 (-0.0094), specificity=0.9936 (+0.0032)\n",
      "FPR=0.64% (-0.32%), FNR=3.27% (+0.94%)\n",
      "                    \n",
      "********************\n",
      "Components=300\n",
      "Score=0.9734345351043643 (-0.011385199240986799)\n",
      "tp=607, fn=36, fp=6, tn=932\n",
      "sensitivity=0.944 (-0.0327), specificity=0.9936 (+0.0032)\n",
      "FPR=0.64% (-0.32%), FNR=5.6% (+3.27%)\n",
      "                    \n",
      "********************\n",
      "Components=400\n",
      "Score=0.9753320683111955 (-0.009487666034155628)\n",
      "tp=614, fn=29, fp=10, tn=928\n",
      "sensitivity=0.9549 (-0.0218), specificity=0.9893 (-0.0011)\n",
      "FPR=1.07% (+0.11%), FNR=4.51% (+2.18%)\n",
      "                    \n"
     ]
    }
   ],
   "source": [
    "for components in componentsList:\n",
    "    print('*'*20)\n",
    "    print(f'Components={components}')\n",
    "    pca = PCA(n_components=components).fit(X_train) # fit only on train set\n",
    "    X_train_pca = pca.transform(X_train)\n",
    "    X_test_pca = pca.transform(X_test)\n",
    "\n",
    "    # standarize\n",
    "    scaler = StandardScaler().fit(X_train_pca)\n",
    "    X_train_pca_std = scaler.transform(X_train_pca)\n",
    "    X_test_pca_std = scaler.transform(X_test_pca)\n",
    "\n",
    "    # mlp\n",
    "    mlp_pca = MLPClassifier(random_state=1, max_iter=300, solver='adam')\n",
    "    mlp_pca.fit(X_train_pca_std, y_train)\n",
    "    y_prediction_mlp_pca = mlp_pca.predict(X_test_pca_std)\n",
    "    mlp_pca_score = mlp_pca.score(X_test_pca_std, y_test)\n",
    "    \n",
    "    # compare with default\n",
    "    mlp_pca_score_diff = mlp_pca_score - mlp_score\n",
    "    print(f'Score={mlp_pca_score} ({mlp_pca_score_diff:+})')\n",
    "\n",
    "    # confusion matrix\n",
    "    tn, fp, fn, tp = confusion_matrix(y_test, y_prediction_mlp_pca).ravel()\n",
    "    print(f'tp={tp}, fn={fn}, fp={fp}, tn={tn}')\n",
    "    sensitivity_mlp_pca = round(tp/(tp+fn), 4)\n",
    "    specificity_mlp_pca = round(tn/(fp+tn), 4)\n",
    "    sensitivity_mlp_diff = round(sensitivity_mlp_pca - sensitivity_mlp, 4)\n",
    "    specificity_mlp_diff = round(specificity_mlp_pca - specificity_mlp, 4)\n",
    "    print(\"sensitivity={} ({:+}), specificity={} ({:+})\".format(sensitivity_mlp_pca, sensitivity_mlp_diff, specificity_mlp_pca, specificity_mlp_diff))\n",
    "\n",
    "    # fpr and fnr\n",
    "    fpr_mlp_pca = round((1-specificity_mlp_pca)*100, 4)\n",
    "    fnr_mlp_pca = round((1-sensitivity_mlp_pca)*100, 4)\n",
    "    fpr_mlp_diff = round(fpr_mlp_pca - fpr_mlp, 4)\n",
    "    fnr_mlp_diff = round(fnr_mlp_pca - fnr_mlp, 4)\n",
    "    print(\"FPR={}% ({:+}%), FNR={}% ({:+}%)\".format(fpr_mlp_pca, fpr_mlp_diff, fnr_mlp_pca, fnr_mlp_diff))\n",
    "    print(' '*20)"
   ]
  },
  {
   "cell_type": "markdown",
   "metadata": {},
   "source": [
    "PCA with Decision tree"
   ]
  },
  {
   "cell_type": "code",
   "execution_count": 60,
   "metadata": {},
   "outputs": [
    {
     "name": "stdout",
     "output_type": "stream",
     "text": [
      "********************\n",
      "Components=50\n",
      "Score=0.9645793801391525 (-0.012017710309930374)\n",
      "tp=615, fn=28, fp=28, tn=910\n",
      "sensitivity=95.6454% (-0.7776%), specificity=97.0149% (-1.4926%)\n",
      "FPR=2.9851% (+1.4926%), FNR=4.3546% (+0.7776%)\n",
      "                    \n",
      "********************\n",
      "Components=70\n",
      "Score=0.9652118912080961 (-0.011385199240986688)\n",
      "tp=617, fn=26, fp=29, tn=909\n",
      "sensitivity=95.9565% (-0.4665%), specificity=96.9083% (-1.5992%)\n",
      "FPR=3.0917% (+1.5992%), FNR=4.0435% (+0.4665%)\n",
      "                    \n",
      "********************\n",
      "Components=100\n",
      "Score=0.9601518026565465 (-0.01644528779253629)\n",
      "tp=609, fn=34, fp=29, tn=909\n",
      "sensitivity=94.7123% (-1.7107%), specificity=96.9083% (-1.5992%)\n",
      "FPR=3.0917% (+1.5992%), FNR=5.2877% (+1.7107%)\n",
      "                    \n",
      "********************\n",
      "Components=150\n",
      "Score=0.9690069576217584 (-0.007590132827324458)\n",
      "tp=609, fn=34, fp=15, tn=923\n",
      "sensitivity=94.7123% (-1.7107%), specificity=98.4009% (-0.1066%)\n",
      "FPR=1.5991% (+0.1066%), FNR=5.2877% (+1.7107%)\n",
      "                    \n",
      "********************\n",
      "Components=200\n",
      "Score=0.9639468690702088 (-0.01265022137887406)\n",
      "tp=611, fn=32, fp=25, tn=913\n",
      "sensitivity=95.0233% (-1.3997%), specificity=97.3348% (-1.1727%)\n",
      "FPR=2.6652% (+1.1727%), FNR=4.9767% (+1.3997%)\n",
      "                    \n",
      "********************\n",
      "Components=300\n",
      "Score=0.9645793801391525 (-0.012017710309930374)\n",
      "tp=611, fn=32, fp=24, tn=914\n",
      "sensitivity=95.0233% (-1.3997%), specificity=97.4414% (-1.0661%)\n",
      "FPR=2.5586% (+1.0661%), FNR=4.9767% (+1.3997%)\n",
      "                    \n",
      "********************\n",
      "Components=400\n",
      "Score=0.9658444022770398 (-0.010752688172043001)\n",
      "tp=612, fn=31, fp=23, tn=915\n",
      "sensitivity=95.1788% (-1.2442%), specificity=97.548% (-0.9595%)\n",
      "FPR=2.452% (+0.9595%), FNR=4.8212% (+1.2442%)\n",
      "                    \n"
     ]
    }
   ],
   "source": [
    "for components in componentsList:\n",
    "    print('*'*20)\n",
    "    print(f'Components={components}')\n",
    "    pca = PCA(n_components=components).fit(X_train) # fit only on train set\n",
    "    X_train_pca = pca.transform(X_train)\n",
    "    X_test_pca = pca.transform(X_test)\n",
    "\n",
    "    # standarize\n",
    "    scaler = StandardScaler().fit(X_train_pca)\n",
    "    X_train_pca_std = scaler.transform(X_train_pca)\n",
    "    X_test_pca_std = scaler.transform(X_test_pca)\n",
    "\n",
    "    # decision tree classifier\n",
    "    dt_pca = DecisionTreeClassifier()\n",
    "    dt_pca.fit(X_train_pca_std, y_train)\n",
    "    y_prediction_dt_pca = dt_pca.predict(X_test_pca_std)\n",
    "    dt_pca_score = dt_pca.score(X_test_pca_std, y_test)\n",
    "    \n",
    "    # compare with default\n",
    "    dt_pca_score_diff = dt_pca_score - decision_tree_score\n",
    "    print(f'Score={dt_pca_score} ({dt_pca_score_diff:+})')\n",
    "\n",
    "    # confusion matrix\n",
    "    tn, fp, fn, tp = confusion_matrix(y_test, y_prediction_dt_pca).ravel()\n",
    "    print(f'tp={tp}, fn={fn}, fp={fp}, tn={tn}')\n",
    "    sensitivity_dt_pca = round(100*tp/(tp+fn), 4)\n",
    "    specificity_dt_pca = round(100*tn/(fp+tn), 4)\n",
    "    sensitivity_dt_diff = round(sensitivity_dt_pca - sensitivity_dt, 4)\n",
    "    specificity_dt_diff = round(specificity_dt_pca - specificity_dt, 4)\n",
    "    print(\"sensitivity={}% ({:+}%), specificity={}% ({:+}%)\".format(sensitivity_dt_pca, sensitivity_dt_diff, specificity_dt_pca, specificity_dt_diff))\n",
    "\n",
    "    # fpr and fnr\n",
    "    fpr_dt_pca = round(100-specificity_dt_pca, 4)\n",
    "    fnr_dt_pca = round(100-sensitivity_dt_pca, 4)\n",
    "    fpr_dt_diff = round(fpr_dt_pca - fpr_dt, 4)\n",
    "    fnr_dt_diff = round(fnr_dt_pca - fnr_dt, 4)\n",
    "    print(\"FPR={}% ({:+}%), FNR={}% ({:+}%)\".format(fpr_dt_pca, fpr_dt_diff, fnr_dt_pca, fnr_dt_diff))\n",
    "    print(' '*20)"
   ]
  },
  {
   "cell_type": "markdown",
   "metadata": {},
   "source": [
    "# 4. Methods for class-imbalanced problems"
   ]
  },
  {
   "cell_type": "markdown",
   "metadata": {},
   "source": [
    "### 4.1 Oversampling with SMOTE"
   ]
  },
  {
   "cell_type": "markdown",
   "metadata": {},
   "source": [
    "Class to perform over-sampling using SMOTE - Synthetic Minority over-sampling"
   ]
  },
  {
   "cell_type": "code",
   "execution_count": 14,
   "metadata": {},
   "outputs": [
    {
     "name": "stdout",
     "output_type": "stream",
     "text": [
      "Original train dataset shape: Counter({'no': 2011, 'yes': 1197})\n"
     ]
    }
   ],
   "source": [
    "print(f'Original train dataset shape: {Counter(y_train)}')"
   ]
  },
  {
   "cell_type": "markdown",
   "metadata": {},
   "source": [
    "We see that originally train set contains more non spam data. SMOTE algorithm will add spam samples to train set."
   ]
  },
  {
   "cell_type": "code",
   "execution_count": 17,
   "metadata": {},
   "outputs": [
    {
     "name": "stdout",
     "output_type": "stream",
     "text": [
      "Resampled train dataset shape: Counter({'yes': 2011, 'no': 2011})\n"
     ]
    }
   ],
   "source": [
    "sm = SMOTE(random_state=42)\n",
    "X_train_res, y_train_res = sm.fit_resample(X_train, y_train)\n",
    "print(f'Resampled train dataset shape: {Counter(y_train_res)}')"
   ]
  },
  {
   "cell_type": "markdown",
   "metadata": {},
   "source": [
    "Now let's see how it affects sensitivity and specificity on MLP and DecisionTree classifiers"
   ]
  },
  {
   "cell_type": "code",
   "execution_count": 30,
   "metadata": {},
   "outputs": [],
   "source": [
    "# standarization\n",
    "scaler = StandardScaler().fit(X_train_res, y_train_res)\n",
    "X_train_res_std = scaler.transform(X_train_res)\n",
    "X_test_std = scaler.transform(X_test)"
   ]
  },
  {
   "cell_type": "code",
   "execution_count": 31,
   "metadata": {},
   "outputs": [
    {
     "name": "stdout",
     "output_type": "stream",
     "text": [
      "Score=0.9740670461733081 (-0.010752688172043001)\n",
      "tp=621, fn=22, fp=19, tn=919\n",
      "sensitivity=96.5785% (-1.0887%), specificity=97.9744% (-1.0661%)\n",
      "FPR=0.9595% (+1.0661%), FNR=2.3328% (+1.0887%)\n"
     ]
    }
   ],
   "source": [
    "# mlp classifier\n",
    "mlp_smote = MLPClassifier(random_state=1, max_iter=300, solver='adam')\n",
    "mlp_smote.fit(X_train_res_std, y_train_res)\n",
    "y_prediction_mlp_smote = mlp_smote.predict(X_test_std)\n",
    "mlp_smote_score = mlp_smote.score(X_test_std, y_test)\n",
    "mlp_score_diff = mlp_smote_score - mlp_score\n",
    "print(f'Score={mlp_smote_score} ({mlp_score_diff:+})')\n",
    "\n",
    "# confusion matrix\n",
    "tn, fp, fn, tp = confusion_matrix(y_test, y_prediction_mlp_smote).ravel()\n",
    "print(f'tp={tp}, fn={fn}, fp={fp}, tn={tn}')\n",
    "\n",
    "sensitivity_mlp_smote = round(100*tp/(tp+fn), 4)\n",
    "specificity_mlp_smote = round(100*tn/(fp+tn), 4)\n",
    "sensitivity_mlp_diff = round(sensitivity_mlp_smote - sensitivity_mlp, 4)\n",
    "specificity_mlp_diff = round(specificity_mlp_smote - specificity_mlp, 4)\n",
    "\n",
    "print(\"sensitivity={}% ({:+}%), specificity={}% ({:+}%)\".format(sensitivity_mlp_smote, sensitivity_mlp_diff, specificity_mlp_smote, specificity_mlp_diff))\n",
    "\n",
    "fpr_mlp_smote = round(100-specificity_mlp_smote, 4)\n",
    "fnr_mlp_smote = round(100-sensitivity_mlp_smote, 4)\n",
    "fpr_mlp_diff = round(fpr_mlp_smote - fpr_mlp, 4)\n",
    "fnr_mlp_diff = round(fnr_mlp_smote - fnr_mlp, 4)\n",
    "print(\"FPR={}% ({:+}%), FNR={}% ({:+}%)\".format(fpr_mlp, fpr_mlp_diff, fnr_mlp, fnr_mlp_diff))\n",
    "\n"
   ]
  },
  {
   "cell_type": "code",
   "execution_count": 47,
   "metadata": {},
   "outputs": [
    {
     "name": "stdout",
     "output_type": "stream",
     "text": [
      "Score=0.9601518026565465 (-0.017077798861479976)\n",
      "tp=609, fn=34, fp=29, tn=909\n",
      "sensitivity=94.7123% (-2.1773%), specificity=96.9083% (-1.3859%)\n",
      "FPR=3.0917% (+1.3859%), FNR=5.2877% (+2.1773%)\n"
     ]
    }
   ],
   "source": [
    "# decision tree classifier\n",
    "dt_smote = DecisionTreeClassifier()\n",
    "dt_smote.fit(X_train_res_std, y_train_res)\n",
    "y_prediction_dt_smote = dt_smote.predict(X_test_std)\n",
    "dt_smote_score = dt_smote.score(X_test_std, y_test)\n",
    "dt_score_diff = dt_smote_score - decision_tree_score\n",
    "print(f'Score={dt_smote_score} ({dt_score_diff:+})')\n",
    "\n",
    "# confusion matrix\n",
    "tn, fp, fn, tp = confusion_matrix(y_test, y_prediction_dt_smote).ravel()\n",
    "print(f'tp={tp}, fn={fn}, fp={fp}, tn={tn}')\n",
    "\n",
    "sensitivity_dt_smote = round(100*tp/(tp+fn), 4)\n",
    "specificity_dt_smote = round(100*tn/(fp+tn), 4)\n",
    "sensitivity_dt_diff = round(sensitivity_dt_smote - sensitivity_dt, 4)\n",
    "specificity_dt_diff = round(specificity_dt_smote - specificity_dt, 4)\n",
    "\n",
    "print(\"sensitivity={}% ({:+}%), specificity={}% ({:+}%)\".format(sensitivity_dt_smote, sensitivity_dt_diff, specificity_dt_smote, specificity_dt_diff))\n",
    "\n",
    "fpr_dt_smote = round(100-specificity_dt_smote, 4)\n",
    "fnr_dt_smote = round(100-sensitivity_dt_smote, 4)\n",
    "fpr_dt_diff = round(fpr_dt_smote - fpr_dt, 4)\n",
    "fnr_dt_diff = round(fnr_dt_smote - fnr_dt, 4)\n",
    "print(\"FPR={}% ({:+}%), FNR={}% ({:+}%)\".format(fpr_dt_smote, fpr_dt_diff, fnr_dt_smote, fnr_dt_diff))\n",
    "\n"
   ]
  },
  {
   "cell_type": "markdown",
   "metadata": {},
   "source": [
    "# 5. The use of asymetric error costs"
   ]
  },
  {
   "cell_type": "markdown",
   "metadata": {},
   "source": [
    "# 6. Ensamble learning"
   ]
  }
 ],
 "metadata": {
  "interpreter": {
   "hash": "160a8e799b4c8ac5e6b5e507c10561fe57290204298c2a882096e26ea13919e6"
  },
  "kernelspec": {
   "display_name": "Python 3 (ipykernel)",
   "language": "python",
   "name": "python3"
  },
  "language_info": {
   "codemirror_mode": {
    "name": "ipython",
    "version": 3
   },
   "file_extension": ".py",
   "mimetype": "text/x-python",
   "name": "python",
   "nbconvert_exporter": "python",
   "pygments_lexer": "ipython3",
   "version": "3.9.0"
  }
 },
 "nbformat": 4,
 "nbformat_minor": 2
}
