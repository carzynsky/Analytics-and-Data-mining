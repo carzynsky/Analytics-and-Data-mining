{
 "cells": [
  {
   "cell_type": "markdown",
   "metadata": {},
   "source": [
    "# 1. Classifier algorithms"
   ]
  },
  {
   "cell_type": "markdown",
   "metadata": {},
   "source": [
    "### Import libraries"
   ]
  },
  {
   "cell_type": "code",
   "execution_count": 202,
   "metadata": {},
   "outputs": [],
   "source": [
    "import pandas as pd\n",
    "import sys  \n",
    "from sklearn.model_selection import train_test_split\n",
    "from sklearn.preprocessing import StandardScaler\n",
    "import numpy as np\n",
    "from sklearn.pipeline import make_pipeline\n",
    "from sklearn.svm import SVC\n",
    "from sklearn.metrics import confusion_matrix, plot_confusion_matrix\n",
    "import matplotlib.pyplot as plt\n",
    "from sklearn.neighbors import KNeighborsClassifier\n",
    "from sklearn.naive_bayes import GaussianNB\n",
    "from sklearn.neural_network import MLPClassifier\n",
    "from sklearn.tree import DecisionTreeClassifier, plot_tree\n",
    "from sklearn.ensemble import RandomForestClassifier\n",
    "from sklearn.linear_model import LogisticRegression\n",
    "from sklearn.feature_selection import RFE, SelectKBest, chi2\n",
    "from sklearn.decomposition import PCA"
   ]
  },
  {
   "cell_type": "markdown",
   "metadata": {},
   "source": [
    "### Load data"
   ]
  },
  {
   "cell_type": "code",
   "execution_count": 203,
   "metadata": {},
   "outputs": [
    {
     "name": "stdout",
     "output_type": "stream",
     "text": [
      "Requirement already satisfied: matplotlib in c:\\users\\arek\\appdata\\roaming\\python\\python39\\site-packages (3.5.1)\n",
      "Requirement already satisfied: numpy>=1.17 in c:\\users\\arek\\appdata\\local\\programs\\python\\python39\\lib\\site-packages (from matplotlib) (1.20.3)\n",
      "Requirement already satisfied: packaging>=20.0 in c:\\users\\arek\\appdata\\local\\programs\\python\\python39\\lib\\site-packages (from matplotlib) (21.3)\n",
      "Requirement already satisfied: python-dateutil>=2.7 in c:\\users\\arek\\appdata\\local\\programs\\python\\python39\\lib\\site-packages (from matplotlib) (2.8.2)\n",
      "Requirement already satisfied: kiwisolver>=1.0.1 in c:\\users\\arek\\appdata\\roaming\\python\\python39\\site-packages (from matplotlib) (1.3.2)\n",
      "Requirement already satisfied: pillow>=6.2.0 in c:\\users\\arek\\appdata\\roaming\\python\\python39\\site-packages (from matplotlib) (9.0.0)\n",
      "Requirement already satisfied: pyparsing>=2.2.1 in c:\\users\\arek\\appdata\\local\\programs\\python\\python39\\lib\\site-packages (from matplotlib) (3.0.6)\n",
      "Requirement already satisfied: fonttools>=4.22.0 in c:\\users\\arek\\appdata\\roaming\\python\\python39\\site-packages (from matplotlib) (4.28.5)\n",
      "Requirement already satisfied: cycler>=0.10 in c:\\users\\arek\\appdata\\roaming\\python\\python39\\site-packages (from matplotlib) (0.11.0)\n",
      "Requirement already satisfied: six>=1.5 in c:\\users\\arek\\appdata\\local\\programs\\python\\python39\\lib\\site-packages (from python-dateutil>=2.7->matplotlib) (1.16.0)\n"
     ]
    }
   ],
   "source": [
    "!{sys.executable} -m pip install --user matplotlib\n",
    "dataFrame = pd.read_csv('./data/spam.dat')"
   ]
  },
  {
   "cell_type": "markdown",
   "metadata": {},
   "source": [
    "### Data size"
   ]
  },
  {
   "cell_type": "code",
   "execution_count": 204,
   "metadata": {},
   "outputs": [
    {
     "data": {
      "text/plain": [
       "(4789, 463)"
      ]
     },
     "execution_count": 204,
     "metadata": {},
     "output_type": "execute_result"
    }
   ],
   "source": [
    "dataFrame.shape"
   ]
  },
  {
   "cell_type": "code",
   "execution_count": 205,
   "metadata": {},
   "outputs": [
    {
     "name": "stdout",
     "output_type": "stream",
     "text": [
      "<class 'pandas.core.frame.DataFrame'>\n",
      "RangeIndex: 4789 entries, 0 to 4788\n",
      "Columns: 463 entries, ACT_NOW to target\n",
      "dtypes: int64(462), object(1)\n",
      "memory usage: 16.9+ MB\n"
     ]
    }
   ],
   "source": [
    "dataFrame.info()"
   ]
  },
  {
   "cell_type": "markdown",
   "metadata": {},
   "source": [
    "### Data describe"
   ]
  },
  {
   "cell_type": "code",
   "execution_count": 55,
   "metadata": {},
   "outputs": [
    {
     "data": {
      "text/html": [
       "<div>\n",
       "<style scoped>\n",
       "    .dataframe tbody tr th:only-of-type {\n",
       "        vertical-align: middle;\n",
       "    }\n",
       "\n",
       "    .dataframe tbody tr th {\n",
       "        vertical-align: top;\n",
       "    }\n",
       "\n",
       "    .dataframe thead th {\n",
       "        text-align: right;\n",
       "    }\n",
       "</style>\n",
       "<table border=\"1\" class=\"dataframe\">\n",
       "  <thead>\n",
       "    <tr style=\"text-align: right;\">\n",
       "      <th></th>\n",
       "      <th>ACT_NOW</th>\n",
       "      <th>ADDRESSES_ON_CD</th>\n",
       "      <th>ADULT_SITE</th>\n",
       "      <th>ADVERT_CODE</th>\n",
       "      <th>ADVERT_CODE2</th>\n",
       "      <th>ALL_CAPS_HEADER</th>\n",
       "      <th>ALL_CAP_PORN</th>\n",
       "      <th>ALL_NATURAL</th>\n",
       "      <th>AMATEUR_PORN</th>\n",
       "      <th>AMAZING</th>\n",
       "      <th>...</th>\n",
       "      <th>X_AUTH_WARNING</th>\n",
       "      <th>X_ENC_PRESENT</th>\n",
       "      <th>X_LIBRARY</th>\n",
       "      <th>X_LIST_UNSUBSCRIBE</th>\n",
       "      <th>X_MSMAIL_PRIORITY_HIGH</th>\n",
       "      <th>X_PRECEDENCE_REF</th>\n",
       "      <th>X_PRIORITY_HIGH</th>\n",
       "      <th>X_STORMPOST_TO</th>\n",
       "      <th>X_X_PRESENT</th>\n",
       "      <th>YOUR_INCOME</th>\n",
       "    </tr>\n",
       "  </thead>\n",
       "  <tbody>\n",
       "    <tr>\n",
       "      <th>count</th>\n",
       "      <td>4789.000000</td>\n",
       "      <td>4789.0</td>\n",
       "      <td>4789.000000</td>\n",
       "      <td>4789.000000</td>\n",
       "      <td>4789.000000</td>\n",
       "      <td>4789.000000</td>\n",
       "      <td>4789.000000</td>\n",
       "      <td>4789.000000</td>\n",
       "      <td>4789.000000</td>\n",
       "      <td>4789.000000</td>\n",
       "      <td>...</td>\n",
       "      <td>4789.000000</td>\n",
       "      <td>4789.000000</td>\n",
       "      <td>4789.000000</td>\n",
       "      <td>4789.000000</td>\n",
       "      <td>4789.000000</td>\n",
       "      <td>4789.000000</td>\n",
       "      <td>4789.000000</td>\n",
       "      <td>4789.000000</td>\n",
       "      <td>4789.000000</td>\n",
       "      <td>4789.000000</td>\n",
       "    </tr>\n",
       "    <tr>\n",
       "      <th>mean</th>\n",
       "      <td>0.008144</td>\n",
       "      <td>0.0</td>\n",
       "      <td>0.006056</td>\n",
       "      <td>0.000209</td>\n",
       "      <td>0.006682</td>\n",
       "      <td>0.000626</td>\n",
       "      <td>0.005638</td>\n",
       "      <td>0.007308</td>\n",
       "      <td>0.001879</td>\n",
       "      <td>0.002088</td>\n",
       "      <td>...</td>\n",
       "      <td>0.315097</td>\n",
       "      <td>0.001044</td>\n",
       "      <td>0.000626</td>\n",
       "      <td>0.012946</td>\n",
       "      <td>0.009397</td>\n",
       "      <td>0.000418</td>\n",
       "      <td>0.019420</td>\n",
       "      <td>0.000835</td>\n",
       "      <td>0.001253</td>\n",
       "      <td>0.000626</td>\n",
       "    </tr>\n",
       "    <tr>\n",
       "      <th>std</th>\n",
       "      <td>0.089883</td>\n",
       "      <td>0.0</td>\n",
       "      <td>0.077590</td>\n",
       "      <td>0.014450</td>\n",
       "      <td>0.081478</td>\n",
       "      <td>0.025023</td>\n",
       "      <td>0.074882</td>\n",
       "      <td>0.085185</td>\n",
       "      <td>0.043315</td>\n",
       "      <td>0.045653</td>\n",
       "      <td>...</td>\n",
       "      <td>0.464603</td>\n",
       "      <td>0.032298</td>\n",
       "      <td>0.025023</td>\n",
       "      <td>0.113055</td>\n",
       "      <td>0.096489</td>\n",
       "      <td>0.020434</td>\n",
       "      <td>0.138009</td>\n",
       "      <td>0.028892</td>\n",
       "      <td>0.035377</td>\n",
       "      <td>0.025023</td>\n",
       "    </tr>\n",
       "    <tr>\n",
       "      <th>min</th>\n",
       "      <td>0.000000</td>\n",
       "      <td>0.0</td>\n",
       "      <td>0.000000</td>\n",
       "      <td>0.000000</td>\n",
       "      <td>0.000000</td>\n",
       "      <td>0.000000</td>\n",
       "      <td>0.000000</td>\n",
       "      <td>0.000000</td>\n",
       "      <td>0.000000</td>\n",
       "      <td>0.000000</td>\n",
       "      <td>...</td>\n",
       "      <td>0.000000</td>\n",
       "      <td>0.000000</td>\n",
       "      <td>0.000000</td>\n",
       "      <td>0.000000</td>\n",
       "      <td>0.000000</td>\n",
       "      <td>0.000000</td>\n",
       "      <td>0.000000</td>\n",
       "      <td>0.000000</td>\n",
       "      <td>0.000000</td>\n",
       "      <td>0.000000</td>\n",
       "    </tr>\n",
       "    <tr>\n",
       "      <th>25%</th>\n",
       "      <td>0.000000</td>\n",
       "      <td>0.0</td>\n",
       "      <td>0.000000</td>\n",
       "      <td>0.000000</td>\n",
       "      <td>0.000000</td>\n",
       "      <td>0.000000</td>\n",
       "      <td>0.000000</td>\n",
       "      <td>0.000000</td>\n",
       "      <td>0.000000</td>\n",
       "      <td>0.000000</td>\n",
       "      <td>...</td>\n",
       "      <td>0.000000</td>\n",
       "      <td>0.000000</td>\n",
       "      <td>0.000000</td>\n",
       "      <td>0.000000</td>\n",
       "      <td>0.000000</td>\n",
       "      <td>0.000000</td>\n",
       "      <td>0.000000</td>\n",
       "      <td>0.000000</td>\n",
       "      <td>0.000000</td>\n",
       "      <td>0.000000</td>\n",
       "    </tr>\n",
       "    <tr>\n",
       "      <th>50%</th>\n",
       "      <td>0.000000</td>\n",
       "      <td>0.0</td>\n",
       "      <td>0.000000</td>\n",
       "      <td>0.000000</td>\n",
       "      <td>0.000000</td>\n",
       "      <td>0.000000</td>\n",
       "      <td>0.000000</td>\n",
       "      <td>0.000000</td>\n",
       "      <td>0.000000</td>\n",
       "      <td>0.000000</td>\n",
       "      <td>...</td>\n",
       "      <td>0.000000</td>\n",
       "      <td>0.000000</td>\n",
       "      <td>0.000000</td>\n",
       "      <td>0.000000</td>\n",
       "      <td>0.000000</td>\n",
       "      <td>0.000000</td>\n",
       "      <td>0.000000</td>\n",
       "      <td>0.000000</td>\n",
       "      <td>0.000000</td>\n",
       "      <td>0.000000</td>\n",
       "    </tr>\n",
       "    <tr>\n",
       "      <th>75%</th>\n",
       "      <td>0.000000</td>\n",
       "      <td>0.0</td>\n",
       "      <td>0.000000</td>\n",
       "      <td>0.000000</td>\n",
       "      <td>0.000000</td>\n",
       "      <td>0.000000</td>\n",
       "      <td>0.000000</td>\n",
       "      <td>0.000000</td>\n",
       "      <td>0.000000</td>\n",
       "      <td>0.000000</td>\n",
       "      <td>...</td>\n",
       "      <td>1.000000</td>\n",
       "      <td>0.000000</td>\n",
       "      <td>0.000000</td>\n",
       "      <td>0.000000</td>\n",
       "      <td>0.000000</td>\n",
       "      <td>0.000000</td>\n",
       "      <td>0.000000</td>\n",
       "      <td>0.000000</td>\n",
       "      <td>0.000000</td>\n",
       "      <td>0.000000</td>\n",
       "    </tr>\n",
       "    <tr>\n",
       "      <th>max</th>\n",
       "      <td>1.000000</td>\n",
       "      <td>0.0</td>\n",
       "      <td>1.000000</td>\n",
       "      <td>1.000000</td>\n",
       "      <td>1.000000</td>\n",
       "      <td>1.000000</td>\n",
       "      <td>1.000000</td>\n",
       "      <td>1.000000</td>\n",
       "      <td>1.000000</td>\n",
       "      <td>1.000000</td>\n",
       "      <td>...</td>\n",
       "      <td>1.000000</td>\n",
       "      <td>1.000000</td>\n",
       "      <td>1.000000</td>\n",
       "      <td>1.000000</td>\n",
       "      <td>1.000000</td>\n",
       "      <td>1.000000</td>\n",
       "      <td>1.000000</td>\n",
       "      <td>1.000000</td>\n",
       "      <td>1.000000</td>\n",
       "      <td>1.000000</td>\n",
       "    </tr>\n",
       "  </tbody>\n",
       "</table>\n",
       "<p>8 rows × 462 columns</p>\n",
       "</div>"
      ],
      "text/plain": [
       "           ACT_NOW  ADDRESSES_ON_CD   ADULT_SITE  ADVERT_CODE  ADVERT_CODE2  \\\n",
       "count  4789.000000           4789.0  4789.000000  4789.000000   4789.000000   \n",
       "mean      0.008144              0.0     0.006056     0.000209      0.006682   \n",
       "std       0.089883              0.0     0.077590     0.014450      0.081478   \n",
       "min       0.000000              0.0     0.000000     0.000000      0.000000   \n",
       "25%       0.000000              0.0     0.000000     0.000000      0.000000   \n",
       "50%       0.000000              0.0     0.000000     0.000000      0.000000   \n",
       "75%       0.000000              0.0     0.000000     0.000000      0.000000   \n",
       "max       1.000000              0.0     1.000000     1.000000      1.000000   \n",
       "\n",
       "       ALL_CAPS_HEADER  ALL_CAP_PORN  ALL_NATURAL  AMATEUR_PORN      AMAZING  \\\n",
       "count      4789.000000   4789.000000  4789.000000   4789.000000  4789.000000   \n",
       "mean          0.000626      0.005638     0.007308      0.001879     0.002088   \n",
       "std           0.025023      0.074882     0.085185      0.043315     0.045653   \n",
       "min           0.000000      0.000000     0.000000      0.000000     0.000000   \n",
       "25%           0.000000      0.000000     0.000000      0.000000     0.000000   \n",
       "50%           0.000000      0.000000     0.000000      0.000000     0.000000   \n",
       "75%           0.000000      0.000000     0.000000      0.000000     0.000000   \n",
       "max           1.000000      1.000000     1.000000      1.000000     1.000000   \n",
       "\n",
       "       ...  X_AUTH_WARNING  X_ENC_PRESENT    X_LIBRARY  X_LIST_UNSUBSCRIBE  \\\n",
       "count  ...     4789.000000    4789.000000  4789.000000         4789.000000   \n",
       "mean   ...        0.315097       0.001044     0.000626            0.012946   \n",
       "std    ...        0.464603       0.032298     0.025023            0.113055   \n",
       "min    ...        0.000000       0.000000     0.000000            0.000000   \n",
       "25%    ...        0.000000       0.000000     0.000000            0.000000   \n",
       "50%    ...        0.000000       0.000000     0.000000            0.000000   \n",
       "75%    ...        1.000000       0.000000     0.000000            0.000000   \n",
       "max    ...        1.000000       1.000000     1.000000            1.000000   \n",
       "\n",
       "       X_MSMAIL_PRIORITY_HIGH  X_PRECEDENCE_REF  X_PRIORITY_HIGH  \\\n",
       "count             4789.000000       4789.000000      4789.000000   \n",
       "mean                 0.009397          0.000418         0.019420   \n",
       "std                  0.096489          0.020434         0.138009   \n",
       "min                  0.000000          0.000000         0.000000   \n",
       "25%                  0.000000          0.000000         0.000000   \n",
       "50%                  0.000000          0.000000         0.000000   \n",
       "75%                  0.000000          0.000000         0.000000   \n",
       "max                  1.000000          1.000000         1.000000   \n",
       "\n",
       "       X_STORMPOST_TO  X_X_PRESENT  YOUR_INCOME  \n",
       "count     4789.000000  4789.000000  4789.000000  \n",
       "mean         0.000835     0.001253     0.000626  \n",
       "std          0.028892     0.035377     0.025023  \n",
       "min          0.000000     0.000000     0.000000  \n",
       "25%          0.000000     0.000000     0.000000  \n",
       "50%          0.000000     0.000000     0.000000  \n",
       "75%          0.000000     0.000000     0.000000  \n",
       "max          1.000000     1.000000     1.000000  \n",
       "\n",
       "[8 rows x 462 columns]"
      ]
     },
     "execution_count": 55,
     "metadata": {},
     "output_type": "execute_result"
    }
   ],
   "source": [
    "dataFrame.describe()"
   ]
  },
  {
   "cell_type": "markdown",
   "metadata": {},
   "source": [
    "### Is data balanced?"
   ]
  },
  {
   "cell_type": "code",
   "execution_count": 206,
   "metadata": {},
   "outputs": [
    {
     "data": {
      "text/plain": [
       "no     2949\n",
       "yes    1840\n",
       "Name: target, dtype: int64"
      ]
     },
     "execution_count": 206,
     "metadata": {},
     "output_type": "execute_result"
    }
   ],
   "source": [
    "dataFrame['target'].value_counts()"
   ]
  },
  {
   "cell_type": "markdown",
   "metadata": {},
   "source": [
    "### Split data into train and test"
   ]
  },
  {
   "cell_type": "code",
   "execution_count": 207,
   "metadata": {},
   "outputs": [
    {
     "name": "stdout",
     "output_type": "stream",
     "text": [
      "Train rows=3208, test rows: 1581\n"
     ]
    }
   ],
   "source": [
    "X = dataFrame.drop(['target'], axis=1)\n",
    "y = dataFrame.target\n",
    "\n",
    "X_train, X_test, y_train, y_test = train_test_split(X, y, random_state=331, test_size=0.33)\n",
    "print(f'Train rows={X_train.shape[0]}, test rows: {X_test.shape[0]}')"
   ]
  },
  {
   "cell_type": "markdown",
   "metadata": {},
   "source": [
    "### Standarization"
   ]
  },
  {
   "cell_type": "code",
   "execution_count": 58,
   "metadata": {},
   "outputs": [],
   "source": [
    "scaler = StandardScaler()\n",
    "X_train_standarized = scaler.fit_transform(X_train)\n",
    "X_test_standarized = scaler.fit_transform(X_test)"
   ]
  },
  {
   "cell_type": "markdown",
   "metadata": {},
   "source": [
    "### SVM"
   ]
  },
  {
   "cell_type": "code",
   "execution_count": 59,
   "metadata": {},
   "outputs": [
    {
     "name": "stdout",
     "output_type": "stream",
     "text": [
      "Score=0.9753320683111955\n"
     ]
    }
   ],
   "source": [
    "svm = make_pipeline(StandardScaler(), SVC(gamma='auto'))\n",
    "svm.fit(X_train_standarized, y_train)\n",
    "y_prediction_svm = svm.predict(X_test_standarized)\n",
    "svm_score = svm.score(X_test_standarized, y_test)\n",
    "print(f'Score={svm_score}')"
   ]
  },
  {
   "cell_type": "code",
   "execution_count": 60,
   "metadata": {},
   "outputs": [
    {
     "name": "stderr",
     "output_type": "stream",
     "text": [
      "c:\\users\\arek\\appdata\\local\\programs\\python\\python39\\lib\\site-packages\\sklearn\\utils\\deprecation.py:87: FutureWarning: Function plot_confusion_matrix is deprecated; Function `plot_confusion_matrix` is deprecated in 1.0 and will be removed in 1.2. Use one of the class methods: ConfusionMatrixDisplay.from_predictions or ConfusionMatrixDisplay.from_estimator.\n",
      "  warnings.warn(msg, category=FutureWarning)\n"
     ]
    },
    {
     "data": {
      "image/png": "[encoded data removed]",
      "text/plain": [
       "<Figure size 432x288 with 2 Axes>"
      ]
     },
     "metadata": {
      "needs_background": "light"
     },
     "output_type": "display_data"
    },
    {
     "name": "stdout",
     "output_type": "stream",
     "text": [
      "tp=616, fn=27, fp=12, tn=926\n",
      "sensitivity=0.9580, specificity=0.9872\n",
      "FPR=1.2793%, FNR=4.1991%\n"
     ]
    }
   ],
   "source": [
    "tn, fp, fn, tp = confusion_matrix(y_test, y_prediction_svm).ravel()\n",
    "plot_confusion_matrix(svm, X_test_standarized, y_test)\n",
    "plt.show()\n",
    "\n",
    "print(f'tp={tp}, fn={fn}, fp={fp}, tn={tn}')\n",
    "sensitivity = tp/(tp+fn)\n",
    "specificity = tn/(fp+tn)\n",
    "print(\"sensitivity={:.4f}, specificity={:.4f}\".format(sensitivity, specificity))\n",
    "\n",
    "fpr = (1-specificity)*100\n",
    "fnr = (1-sensitivity)*100\n",
    "print(\"FPR={:.4f}%, FNR={:.4f}%\".format(fpr, fnr))"
   ]
  },
  {
   "cell_type": "markdown",
   "metadata": {},
   "source": [
    "### kNN"
   ]
  },
  {
   "cell_type": "code",
   "execution_count": 61,
   "metadata": {},
   "outputs": [
    {
     "name": "stdout",
     "output_type": "stream",
     "text": [
      "Score=0.9272612270714737\n"
     ]
    }
   ],
   "source": [
    "knn = KNeighborsClassifier(n_neighbors=3)\n",
    "knn.fit(X_train_standarized, y_train)\n",
    "y_prediction_knn = knn.predict(X_test_standarized)\n",
    "knn_score = knn.score(X_test_standarized, y_test)\n",
    "print(f'Score={knn_score}')"
   ]
  },
  {
   "cell_type": "code",
   "execution_count": 62,
   "metadata": {},
   "outputs": [
    {
     "name": "stderr",
     "output_type": "stream",
     "text": [
      "c:\\users\\arek\\appdata\\local\\programs\\python\\python39\\lib\\site-packages\\sklearn\\utils\\deprecation.py:87: FutureWarning: Function plot_confusion_matrix is deprecated; Function `plot_confusion_matrix` is deprecated in 1.0 and will be removed in 1.2. Use one of the class methods: ConfusionMatrixDisplay.from_predictions or ConfusionMatrixDisplay.from_estimator.\n",
      "  warnings.warn(msg, category=FutureWarning)\n"
     ]
    },
    {
     "data": {
      "image/png": "[encoded data removed]",
      "text/plain": [
       "<Figure size 432x288 with 2 Axes>"
      ]
     },
     "metadata": {
      "needs_background": "light"
     },
     "output_type": "display_data"
    },
    {
     "name": "stdout",
     "output_type": "stream",
     "text": [
      "tp=537, fn=106, fp=9, tn=929\n",
      "sensitivity=0.8351, specificity=0.9904\n",
      "FPR=0.9595%, FNR=16.4852%\n"
     ]
    }
   ],
   "source": [
    "tn, fp, fn, tp = confusion_matrix(y_test, y_prediction_knn).ravel()\n",
    "plot_confusion_matrix(knn, X_test_standarized, y_test)\n",
    "plt.show()\n",
    "\n",
    "print(f'tp={tp}, fn={fn}, fp={fp}, tn={tn}')\n",
    "sensitivity = tp/(tp+fn)\n",
    "specificity = tn/(fp+tn)\n",
    "print(\"sensitivity={:.4f}, specificity={:.4f}\".format(sensitivity, specificity))\n",
    "\n",
    "fpr = (1-specificity)*100\n",
    "fnr = (1-sensitivity)*100\n",
    "print(\"FPR={:.4f}%, FNR={:.4f}%\".format(fpr, fnr))"
   ]
  },
  {
   "cell_type": "markdown",
   "metadata": {},
   "source": [
    "### Naive Bayes"
   ]
  },
  {
   "cell_type": "code",
   "execution_count": 63,
   "metadata": {},
   "outputs": [
    {
     "name": "stdout",
     "output_type": "stream",
     "text": [
      "Score=0.9728020240354206\n"
     ]
    }
   ],
   "source": [
    "gnb = GaussianNB()\n",
    "gnb.fit(X_train, y_train)\n",
    "y_prediction_gnb = gnb.predict(X_test)\n",
    "gnb_score = gnb.score(X_test, y_test)\n",
    "print(f'Score={gnb_score}')"
   ]
  },
  {
   "cell_type": "code",
   "execution_count": 64,
   "metadata": {},
   "outputs": [
    {
     "name": "stderr",
     "output_type": "stream",
     "text": [
      "c:\\users\\arek\\appdata\\local\\programs\\python\\python39\\lib\\site-packages\\sklearn\\utils\\deprecation.py:87: FutureWarning: Function plot_confusion_matrix is deprecated; Function `plot_confusion_matrix` is deprecated in 1.0 and will be removed in 1.2. Use one of the class methods: ConfusionMatrixDisplay.from_predictions or ConfusionMatrixDisplay.from_estimator.\n",
      "  warnings.warn(msg, category=FutureWarning)\n"
     ]
    },
    {
     "data": {
      "image/png": "[encoded data removed]",
      "text/plain": [
       "<Figure size 432x288 with 2 Axes>"
      ]
     },
     "metadata": {
      "needs_background": "light"
     },
     "output_type": "display_data"
    },
    {
     "name": "stdout",
     "output_type": "stream",
     "text": [
      "tp=609, fn=34, fp=9, tn=929\n",
      "sensitivity=0.9471, specificity=0.9904\n",
      "FPR=0.9595%, FNR=5.2877%\n"
     ]
    }
   ],
   "source": [
    "tn, fp, fn, tp = confusion_matrix(y_test, y_prediction_gnb).ravel()\n",
    "plot_confusion_matrix(gnb, X_test, y_test)\n",
    "plt.show()\n",
    "\n",
    "print(f'tp={tp}, fn={fn}, fp={fp}, tn={tn}')\n",
    "sensitivity = tp/(tp+fn)\n",
    "specificity = tn/(fp+tn)\n",
    "print(\"sensitivity={:.4f}, specificity={:.4f}\".format(sensitivity, specificity))\n",
    "\n",
    "fpr = (1-specificity)*100\n",
    "fnr = (1-sensitivity)*100\n",
    "print(\"FPR={:.4f}%, FNR={:.4f}%\".format(fpr, fnr))"
   ]
  },
  {
   "cell_type": "markdown",
   "metadata": {},
   "source": [
    "### MLP"
   ]
  },
  {
   "cell_type": "code",
   "execution_count": 65,
   "metadata": {},
   "outputs": [
    {
     "name": "stdout",
     "output_type": "stream",
     "text": [
      "Score=0.9835547122074636\n"
     ]
    }
   ],
   "source": [
    "mlp = MLPClassifier(random_state=1, max_iter=300, solver='adam')\n",
    "mlp.fit(X_train_standarized, y_train)\n",
    "y_prediction_mlp = mlp.predict(X_test_standarized)\n",
    "mlp_score = mlp.score(X_test_standarized, y_test)\n",
    "print(f'Score={mlp_score}')"
   ]
  },
  {
   "cell_type": "code",
   "execution_count": 66,
   "metadata": {},
   "outputs": [
    {
     "name": "stderr",
     "output_type": "stream",
     "text": [
      "c:\\users\\arek\\appdata\\local\\programs\\python\\python39\\lib\\site-packages\\sklearn\\utils\\deprecation.py:87: FutureWarning: Function plot_confusion_matrix is deprecated; Function `plot_confusion_matrix` is deprecated in 1.0 and will be removed in 1.2. Use one of the class methods: ConfusionMatrixDisplay.from_predictions or ConfusionMatrixDisplay.from_estimator.\n",
      "  warnings.warn(msg, category=FutureWarning)\n"
     ]
    },
    {
     "data": {
      "image/png": "[encoded data removed]",
      "text/plain": [
       "<Figure size 432x288 with 2 Axes>"
      ]
     },
     "metadata": {
      "needs_background": "light"
     },
     "output_type": "display_data"
    },
    {
     "name": "stdout",
     "output_type": "stream",
     "text": [
      "tp=627, fn=16, fp=10, tn=928\n",
      "sensitivity=0.9751, specificity=0.9893\n",
      "FPR=1.0661%, FNR=2.4883%\n"
     ]
    }
   ],
   "source": [
    "tn, fp, fn, tp = confusion_matrix(y_test, y_prediction_mlp).ravel()\n",
    "plot_confusion_matrix(mlp, X_test_standarized, y_test)\n",
    "plt.show()\n",
    "\n",
    "print(f'tp={tp}, fn={fn}, fp={fp}, tn={tn}')\n",
    "sensitivity_mlp = tp/(tp+fn)\n",
    "specificity_mlp = tn/(fp+tn)\n",
    "print(\"sensitivity={:.4f}, specificity={:.4f}\".format(sensitivity_mlp, specificity_mlp))\n",
    "\n",
    "fpr_mlp = (1-specificity_mlp)*100\n",
    "fnr_mlp = (1-sensitivity_mlp)*100\n",
    "print(\"FPR={:.4f}%, FNR={:.4f}%\".format(fpr_mlp, fnr_mlp))"
   ]
  },
  {
   "cell_type": "markdown",
   "metadata": {},
   "source": [
    "### Decision tree"
   ]
  },
  {
   "cell_type": "code",
   "execution_count": 67,
   "metadata": {},
   "outputs": [
    {
     "name": "stdout",
     "output_type": "stream",
     "text": [
      "Score=0.9759645793801391\n"
     ]
    }
   ],
   "source": [
    "decisionTree = DecisionTreeClassifier()\n",
    "decisionTree.fit(X_train_standarized, y_train)\n",
    "y_prediction_decision_tree = decisionTree.predict(X_test_standarized)\n",
    "decision_tree_score = decisionTree.score(X_test_standarized, y_test)\n",
    "print(f'Score={decision_tree_score}')"
   ]
  },
  {
   "cell_type": "code",
   "execution_count": 68,
   "metadata": {},
   "outputs": [
    {
     "name": "stderr",
     "output_type": "stream",
     "text": [
      "c:\\users\\arek\\appdata\\local\\programs\\python\\python39\\lib\\site-packages\\sklearn\\utils\\deprecation.py:87: FutureWarning: Function plot_confusion_matrix is deprecated; Function `plot_confusion_matrix` is deprecated in 1.0 and will be removed in 1.2. Use one of the class methods: ConfusionMatrixDisplay.from_predictions or ConfusionMatrixDisplay.from_estimator.\n",
      "  warnings.warn(msg, category=FutureWarning)\n"
     ]
    },
    {
     "data": {
      "image/png": "[encoded data removed]",
      "text/plain": [
       "<Figure size 432x288 with 2 Axes>"
      ]
     },
     "metadata": {
      "needs_background": "light"
     },
     "output_type": "display_data"
    },
    {
     "name": "stdout",
     "output_type": "stream",
     "text": [
      "tp=621, fn=22, fp=16, tn=922\n",
      "sensitivity=0.9658, specificity=0.9829\n",
      "FPR=1.7058%, FNR=3.4215%\n"
     ]
    }
   ],
   "source": [
    "tn, fp, fn, tp = confusion_matrix(y_test, y_prediction_decision_tree).ravel()\n",
    "plot_confusion_matrix(decisionTree, X_test_standarized, y_test)\n",
    "plt.show()\n",
    "\n",
    "print(f'tp={tp}, fn={fn}, fp={fp}, tn={tn}')\n",
    "sensitivity = tp/(tp+fn)\n",
    "specificity = tn/(fp+tn)\n",
    "print(\"sensitivity={:.4f}, specificity={:.4f}\".format(sensitivity, specificity))\n",
    "\n",
    "fpr = (1-specificity)*100\n",
    "fnr = (1-sensitivity)*100\n",
    "print(\"FPR={:.4f}%, FNR={:.4f}%\".format(fpr, fnr))"
   ]
  },
  {
   "cell_type": "markdown",
   "metadata": {},
   "source": [
    "### Random Forest"
   ]
  },
  {
   "cell_type": "code",
   "execution_count": 69,
   "metadata": {},
   "outputs": [
    {
     "name": "stdout",
     "output_type": "stream",
     "text": [
      "Score=0.9639468690702088\n"
     ]
    }
   ],
   "source": [
    "rfc = RandomForestClassifier(max_depth=8, random_state=0)\n",
    "rfc.fit(X_train_standarized, y_train)\n",
    "y_prediction_rfc = rfc.predict(X_test_standarized)\n",
    "rfc_score = rfc.score(X_test_standarized, y_test)\n",
    "print(f'Score={rfc_score}')"
   ]
  },
  {
   "cell_type": "code",
   "execution_count": 70,
   "metadata": {},
   "outputs": [
    {
     "name": "stderr",
     "output_type": "stream",
     "text": [
      "c:\\users\\arek\\appdata\\local\\programs\\python\\python39\\lib\\site-packages\\sklearn\\utils\\deprecation.py:87: FutureWarning: Function plot_confusion_matrix is deprecated; Function `plot_confusion_matrix` is deprecated in 1.0 and will be removed in 1.2. Use one of the class methods: ConfusionMatrixDisplay.from_predictions or ConfusionMatrixDisplay.from_estimator.\n",
      "  warnings.warn(msg, category=FutureWarning)\n"
     ]
    },
    {
     "data": {
      "image/png": "[encoded data removed]",
      "text/plain": [
       "<Figure size 432x288 with 2 Axes>"
      ]
     },
     "metadata": {
      "needs_background": "light"
     },
     "output_type": "display_data"
    },
    {
     "name": "stdout",
     "output_type": "stream",
     "text": [
      "tp=591, fn=52, fp=5, tn=933\n",
      "sensitivity=0.9191, specificity=0.9947\n",
      "FPR=0.5330%, FNR=8.0871%\n"
     ]
    }
   ],
   "source": [
    "tn, fp, fn, tp = confusion_matrix(y_test, y_prediction_rfc).ravel()\n",
    "plot_confusion_matrix(rfc, X_test_standarized, y_test)\n",
    "plt.show()\n",
    "\n",
    "print(f'tp={tp}, fn={fn}, fp={fp}, tn={tn}')\n",
    "sensitivity = tp/(tp+fn)\n",
    "specificity = tn/(fp+tn)\n",
    "print(\"sensitivity={:.4f}, specificity={:.4f}\".format(sensitivity, specificity))\n",
    "\n",
    "fpr = (1-specificity)*100\n",
    "fnr = (1-sensitivity)*100\n",
    "print(\"FPR={:.4f}%, FNR={:.4f}%\".format(fpr, fnr))"
   ]
  },
  {
   "cell_type": "markdown",
   "metadata": {},
   "source": [
    "### Logistic Regression"
   ]
  },
  {
   "cell_type": "code",
   "execution_count": 71,
   "metadata": {},
   "outputs": [
    {
     "name": "stdout",
     "output_type": "stream",
     "text": [
      "Score=0.9765970904490828\n"
     ]
    }
   ],
   "source": [
    "lr = LogisticRegression(random_state=0)\n",
    "lr.fit(X_train_standarized, y_train)\n",
    "y_prediction_lr = lr.predict(X_test_standarized)\n",
    "lr_score = lr.score(X_test_standarized, y_test)\n",
    "print(f'Score={lr_score}')"
   ]
  },
  {
   "cell_type": "code",
   "execution_count": 72,
   "metadata": {},
   "outputs": [
    {
     "name": "stderr",
     "output_type": "stream",
     "text": [
      "c:\\users\\arek\\appdata\\local\\programs\\python\\python39\\lib\\site-packages\\sklearn\\utils\\deprecation.py:87: FutureWarning: Function plot_confusion_matrix is deprecated; Function `plot_confusion_matrix` is deprecated in 1.0 and will be removed in 1.2. Use one of the class methods: ConfusionMatrixDisplay.from_predictions or ConfusionMatrixDisplay.from_estimator.\n",
      "  warnings.warn(msg, category=FutureWarning)\n"
     ]
    },
    {
     "data": {
      "image/png": "[encoded data removed]",
      "text/plain": [
       "<Figure size 432x288 with 2 Axes>"
      ]
     },
     "metadata": {
      "needs_background": "light"
     },
     "output_type": "display_data"
    },
    {
     "name": "stdout",
     "output_type": "stream",
     "text": [
      "tp=616, fn=27, fp=10, tn=928\n",
      "sensitivity=0.9580, specificity=0.9893\n",
      "FPR=1.0661%, FNR=4.1991%\n"
     ]
    }
   ],
   "source": [
    "tn, fp, fn, tp = confusion_matrix(y_test, y_prediction_lr).ravel()\n",
    "plot_confusion_matrix(lr, X_test_standarized, y_test)\n",
    "plt.show()\n",
    "\n",
    "print(f'tp={tp}, fn={fn}, fp={fp}, tn={tn}')\n",
    "sensitivity = tp/(tp+fn)\n",
    "specificity = tn/(fp+tn)\n",
    "print(\"sensitivity={:.4f}, specificity={:.4f}\".format(sensitivity, specificity))\n",
    "\n",
    "fpr = (1-specificity)*100\n",
    "fnr = (1-sensitivity)*100\n",
    "print(\"FPR={:.4f}%, FNR={:.4f}%\".format(fpr, fnr))"
   ]
  },
  {
   "cell_type": "markdown",
   "metadata": {},
   "source": [
    "# 2. Classifier parameters"
   ]
  },
  {
   "cell_type": "markdown",
   "metadata": {},
   "source": [
    "### 2.1 MLP"
   ]
  },
  {
   "cell_type": "markdown",
   "metadata": {},
   "source": [
    "By default MLP has solver 'adam'. \n",
    "The solver for weight optimization.\n",
    "* ‘lbfgs’ is an optimizer in the family of quasi-Newton methods.\n",
    "* ‘sgd’ refers to stochastic gradient descent.\n",
    "* ‘adam’ refers to a stochastic gradient-based optimizer proposed by Kingma, Diederik, and Jimmy Ba\n",
    "\n",
    "Note: The default solver ‘adam’ works pretty well on relatively large datasets (with thousands of training samples or more) in terms of both training time and validation score. For small datasets, however, ‘lbfgs’ can converge faster and perform better.\n",
    "(source: https://scikit-learn.org/stable/modules/generated/sklearn.neural_network.MLPClassifier.html)"
   ]
  },
  {
   "cell_type": "code",
   "execution_count": 73,
   "metadata": {},
   "outputs": [
    {
     "name": "stdout",
     "output_type": "stream",
     "text": [
      "Score with lbfgs solver=0.9765970904490828, score with default adam solver=0.9835547122074636\n",
      "tp=620, fn=23, fp=14, tn=924\n",
      "sensitivity=0.9642, specificity=0.9851\n",
      "Default adam solver: FPR=1.0661%, FNR=2.4883%\n",
      "lbfgs solver: FPR=1.4925%, FNR=3.5770%\n"
     ]
    }
   ],
   "source": [
    "# solver lbfgs\n",
    "mlp_solver_lbfgs = MLPClassifier(random_state=1, max_iter=300, solver='lbfgs')\n",
    "mlp_solver_lbfgs.fit(X_train_standarized, y_train)\n",
    "y_prediction_mlp_solver_lbfgs = mlp_solver_lbfgs.predict(X_test_standarized)\n",
    "mlp_solver_lbfgs_score = mlp_solver_lbfgs.score(X_test_standarized, y_test)\n",
    "print(f'Score with lbfgs solver={mlp_solver_lbfgs_score}, score with default adam solver={mlp_score}')\n",
    "\n",
    "tn, fp, fn, tp = confusion_matrix(y_test, y_prediction_mlp_solver_lbfgs).ravel()\n",
    "print(f'tp={tp}, fn={fn}, fp={fp}, tn={tn}')\n",
    "sensitivity_mlp_lbfgs_solver = tp/(tp+fn)\n",
    "specificity_mlp_lbfgs_solver = tn/(fp+tn)\n",
    "print(\"sensitivity={:.4f}, specificity={:.4f}\".format(sensitivity_mlp_lbfgs_solver, specificity_mlp_lbfgs_solver))\n",
    "\n",
    "fpr_mlp_lbfgs_solver = (1-specificity_mlp_lbfgs_solver)*100\n",
    "fnr_mlp_lbfgs_solver  = (1-sensitivity_mlp_lbfgs_solver)*100\n",
    "print(\"Default adam solver: FPR={:.4f}%, FNR={:.4f}%\".format(fpr_mlp, fnr_mlp))\n",
    "print(\"lbfgs solver: FPR={:.4f}%, FNR={:.4f}%\".format(fpr_mlp_lbfgs_solver, fnr_mlp_lbfgs_solver))\n"
   ]
  },
  {
   "cell_type": "code",
   "execution_count": 74,
   "metadata": {},
   "outputs": [
    {
     "name": "stdout",
     "output_type": "stream",
     "text": [
      "Score with sgd solver=0.978494623655914, score with default adam solver=0.9835547122074636\n",
      "tp=617, fn=26, fp=8, tn=930\n",
      "sensitivity=0.9596, specificity=0.9915\n",
      "Default adam solver: FPR=1.0661%, FNR=2.4883%\n",
      "sgd solver: FPR=0.8529%, FNR=4.0435%\n"
     ]
    }
   ],
   "source": [
    "# solver sgd\n",
    "mlp_solver_lbfgs = MLPClassifier(random_state=1, max_iter=300, solver='sgd')\n",
    "mlp_solver_lbfgs.fit(X_train_standarized, y_train)\n",
    "y_prediction_mlp_solver_lbfgs = mlp_solver_lbfgs.predict(X_test_standarized)\n",
    "mlp_solver_lbfgs_score = mlp_solver_lbfgs.score(X_test_standarized, y_test)\n",
    "print(f'Score with sgd solver={mlp_solver_lbfgs_score}, score with default adam solver={mlp_score}')\n",
    "\n",
    "tn, fp, fn, tp = confusion_matrix(y_test, y_prediction_mlp_solver_lbfgs).ravel()\n",
    "print(f'tp={tp}, fn={fn}, fp={fp}, tn={tn}')\n",
    "sensitivity_mlp_lbfgs_solver = tp/(tp+fn)\n",
    "specificity_mlp_lbfgs_solver = tn/(fp+tn)\n",
    "print(\"sensitivity={:.4f}, specificity={:.4f}\".format(sensitivity_mlp_lbfgs_solver, specificity_mlp_lbfgs_solver))\n",
    "\n",
    "fpr_mlp_lbfgs_solver = (1-specificity_mlp_lbfgs_solver)*100\n",
    "fnr_mlp_lbfgs_solver  = (1-sensitivity_mlp_lbfgs_solver)*100\n",
    "print(\"Default adam solver: FPR={:.4f}%, FNR={:.4f}%\".format(fpr_mlp, fnr_mlp))\n",
    "print(\"sgd solver: FPR={:.4f}%, FNR={:.4f}%\".format(fpr_mlp_lbfgs_solver, fnr_mlp_lbfgs_solver))"
   ]
  },
  {
   "cell_type": "markdown",
   "metadata": {},
   "source": [
    "Observation: solver sgd gives better FPR and worse FNR, so we will continue tests with this one."
   ]
  },
  {
   "cell_type": "markdown",
   "metadata": {},
   "source": [
    "### Hidden layers and number of neurons\n",
    "By default there is 1 hidden layer with 100 neurons. In hidden_layer_neuron_numbers there are number of neurons in hidden layer."
   ]
  },
  {
   "cell_type": "code",
   "execution_count": 75,
   "metadata": {},
   "outputs": [
    {
     "name": "stdout",
     "output_type": "stream",
     "text": [
      "********************\n",
      "Number of neurons in hidden layer = 8\n",
      "Score=0.9778621125869703, score with default=0.9835547122074636 (-0.005692599620493288)\n",
      "tp=616, fn=27, fp=8, tn=930\n",
      "sensitivity=0.9580093312597201 (-0.01710730948678063), specificity=0.9914712153518124 (+0.002132196162046962)\n",
      "FPR=0.8529% (-0.2132%), FNR=4.1991% (+1.7107%)\n",
      "                    \n",
      "********************\n",
      "Number of neurons in hidden layer = 16\n",
      "Score=0.9797596457938014, score with default=0.9835547122074636 (-0.003795066413662229)\n",
      "tp=618, fn=25, fp=7, tn=931\n",
      "sensitivity=0.9611197511664075 (-0.013996889580093264), specificity=0.9925373134328358 (+0.0031982942430703876)\n",
      "FPR=0.7463% (-0.3198%), FNR=3.8880% (+1.3997%)\n",
      "                    \n",
      "********************\n",
      "Number of neurons in hidden layer = 32\n",
      "Score=0.9772296015180265, score with default=0.9835547122074636 (-0.006325110689437086)\n",
      "tp=615, fn=28, fp=8, tn=930\n",
      "sensitivity=0.9564541213063764 (-0.018662519440124314), specificity=0.9914712153518124 (+0.002132196162046962)\n",
      "FPR=0.8529% (-0.2132%), FNR=4.3546% (+1.8663%)\n",
      "                    \n",
      "********************\n",
      "Number of neurons in hidden layer = 40\n",
      "Score=0.9772296015180265, score with default=0.9835547122074636 (-0.006325110689437086)\n",
      "tp=616, fn=27, fp=9, tn=929\n",
      "sensitivity=0.9580093312597201 (-0.01710730948678063), specificity=0.990405117270789 (+0.0010660980810235365)\n",
      "FPR=0.9595% (-0.1066%), FNR=4.1991% (+1.7107%)\n",
      "                    \n",
      "********************\n",
      "Number of neurons in hidden layer = 50\n",
      "Score=0.9778621125869703, score with default=0.9835547122074636 (-0.005692599620493288)\n",
      "tp=616, fn=27, fp=8, tn=930\n",
      "sensitivity=0.9580093312597201 (-0.01710730948678063), specificity=0.9914712153518124 (+0.002132196162046962)\n",
      "FPR=0.8529% (-0.2132%), FNR=4.1991% (+1.7107%)\n",
      "                    \n",
      "********************\n",
      "Number of neurons in hidden layer = 64\n",
      "Score=0.9765970904490828, score with default=0.9835547122074636 (-0.006957621758380772)\n",
      "tp=615, fn=28, fp=9, tn=929\n",
      "sensitivity=0.9564541213063764 (-0.018662519440124314), specificity=0.990405117270789 (+0.0010660980810235365)\n",
      "FPR=0.9595% (-0.1066%), FNR=4.3546% (+1.8663%)\n",
      "                    \n",
      "********************\n",
      "Number of neurons in hidden layer = 100\n",
      "Score=0.978494623655914, score with default=0.9835547122074636 (-0.005060088551549602)\n",
      "tp=617, fn=26, fp=8, tn=930\n",
      "sensitivity=0.9595645412130638 (-0.015552099533436947), specificity=0.9914712153518124 (+0.002132196162046962)\n",
      "FPR=0.8529% (-0.2132%), FNR=4.0435% (+1.5552%)\n",
      "                    \n",
      "********************\n",
      "Number of neurons in hidden layer = 128\n",
      "Score=0.9753320683111955, score with default=0.9835547122074636 (-0.008222643896268145)\n",
      "tp=616, fn=27, fp=12, tn=926\n",
      "sensitivity=0.9580093312597201 (-0.01710730948678063), specificity=0.9872068230277186 (-0.002132196162046851)\n",
      "FPR=1.2793% (+0.2132%), FNR=4.1991% (+1.7107%)\n",
      "                    \n",
      "********************\n",
      "Number of neurons in hidden layer = 256\n",
      "Score=0.9791271347248577, score with default=0.9835547122074636 (-0.0044275774826059155)\n",
      "tp=619, fn=24, fp=9, tn=929\n",
      "sensitivity=0.9626749611197511 (-0.01244167962674958), specificity=0.990405117270789 (+0.0010660980810235365)\n",
      "FPR=0.9595% (-0.1066%), FNR=3.7325% (+1.2442%)\n",
      "                    \n"
     ]
    }
   ],
   "source": [
    "# 1 hidden layer\n",
    "hidden_layer_neuron_numbers = [8, 16, 32, 40, 50, 64, 100, 128, 256]\n",
    "for i in range(len(hidden_layer_neuron_numbers)):\n",
    "    print('*'*20)\n",
    "    print(f'Number of neurons in hidden layer = {hidden_layer_neuron_numbers[i]}')\n",
    "    mlp_hidden_layer_test = MLPClassifier(random_state=1, max_iter=4000, hidden_layer_sizes=(hidden_layer_neuron_numbers[i]), solver='sgd')\n",
    "    mlp_hidden_layer_test.fit(X_train_standarized, y_train)\n",
    "    y_prediction_mlp_hidden_layer_test = mlp_hidden_layer_test.predict(X_test_standarized)\n",
    "    mlp_hidden_layer_test_score = mlp_hidden_layer_test.score(X_test_standarized, y_test)\n",
    "    score_sign = '+'\n",
    "    if(mlp_score > mlp_hidden_layer_test_score):\n",
    "        score_sign = '-'\n",
    "    print(f'Score={mlp_hidden_layer_test_score}, score with default={mlp_score} ({score_sign}{abs(mlp_hidden_layer_test_score - mlp_score)})')\n",
    "\n",
    "    tn, fp, fn, tp = confusion_matrix(y_test, y_prediction_mlp_hidden_layer_test).ravel()\n",
    "    print(f'tp={tp}, fn={fn}, fp={fp}, tn={tn}')\n",
    "    sensitivity_mlp_hidden_layer_test = tp/(tp+fn)\n",
    "    specificity_mlp_hidden_layer_test = tn/(fp+tn)\n",
    "    sensitivity_sign = '+'\n",
    "    if(sensitivity_mlp > sensitivity_mlp_hidden_layer_test):\n",
    "        sensitivity_sign = '-'\n",
    "\n",
    "    specificity_sign = '+'\n",
    "    if(specificity_mlp > specificity_mlp_hidden_layer_test):\n",
    "        specificity_sign = '-'\n",
    "\n",
    "    print(f'sensitivity={sensitivity_mlp_hidden_layer_test} ({sensitivity_sign}{abs(sensitivity_mlp_hidden_layer_test-sensitivity_mlp)}), specificity={specificity_mlp_hidden_layer_test} ({specificity_sign}{abs(specificity_mlp_hidden_layer_test-specificity_mlp)})')\n",
    "    \n",
    "    fpr_mlp_hidden_layer_test = (1-specificity_mlp_hidden_layer_test)*100\n",
    "    fpr_sign = '+'\n",
    "    if(fpr_mlp > fpr_mlp_hidden_layer_test):\n",
    "        fpr_sign = '-'\n",
    "\n",
    "    fnr_mlp_hidden_layer_test  = (1-sensitivity_mlp_hidden_layer_test)*100\n",
    "    fnr_sign='+'\n",
    "    if(fnr_mlp > fnr_mlp_hidden_layer_test):\n",
    "        fnr_sign = '-'\n",
    "\n",
    "    fpr_format = '{:.4f}'.format(fpr_mlp_hidden_layer_test)\n",
    "    fnr_format = '{:.4f}'.format(fnr_mlp_hidden_layer_test)\n",
    "    fpr_diff_format = '{:.4f}'.format(abs(fpr_mlp_hidden_layer_test-fpr_mlp))\n",
    "    fnr_diff_format='{:.4f}'.format(abs(fnr_mlp_hidden_layer_test-fnr_mlp))\n",
    "    print(f'FPR={fpr_format}% ({fpr_sign}{fpr_diff_format}%), FNR={fnr_format}% ({fnr_sign}{fnr_diff_format}%)')\n",
    "    print(' '*20)\n"
   ]
  },
  {
   "cell_type": "markdown",
   "metadata": {},
   "source": [
    "Learning_rate schedule for weight updates. (By default 'constant', only used when solver is 'sgd')\n",
    "* ‘constant’ is a constant learning rate given by ‘learning_rate_init’.\n",
    "\n",
    "* ‘invscaling’ gradually decreases the learning rate at each time step ‘t’ using an inverse scaling exponent of ‘power_t’. effective_learning_rate = learning_rate_init / pow(t, power_t)\n",
    "\n",
    "* ‘adaptive’ keeps the learning rate constant to ‘learning_rate_init’ as long as training loss keeps decreasing. Each time two consecutive epochs fail to decrease training loss by at least tol, or fail to increase validation score by at least tol if ‘early_stopping’ is on, the current learning rate is divided by 5.\n"
   ]
  },
  {
   "cell_type": "code",
   "execution_count": 76,
   "metadata": {},
   "outputs": [
    {
     "name": "stdout",
     "output_type": "stream",
     "text": [
      "********************\n",
      "Number of neurons in hidden layer = 8\n",
      "Score=0.7330803289057558, score with default=0.9835547122074636 (-0.2504743833017078)\n",
      "tp=242, fn=401, fp=21, tn=917\n",
      "sensitivity=0.37636080870917576 (-0.598755832037325), specificity=0.9776119402985075 (-0.011727078891257903)\n",
      "FPR=2.2388% (+1.1727%), FNR=62.3639% (+59.8756%)\n",
      "                    \n",
      "********************\n",
      "Number of neurons in hidden layer = 16\n",
      "Score=0.5850727387729285, score with default=0.9835547122074636 (-0.39848197343453506)\n",
      "tp=448, fn=195, fp=461, tn=477\n",
      "sensitivity=0.6967340590979783 (-0.2783825816485225), specificity=0.5085287846481876 (-0.4808102345415778)\n",
      "FPR=49.1471% (+48.0810%), FNR=30.3266% (+27.8383%)\n",
      "                    \n",
      "********************\n",
      "Number of neurons in hidden layer = 32\n",
      "Score=0.7906388361796332, score with default=0.9835547122074636 (-0.19291587602783045)\n",
      "tp=333, fn=310, fp=21, tn=917\n",
      "sensitivity=0.5178849144634525 (-0.4572317262830482), specificity=0.9776119402985075 (-0.011727078891257903)\n",
      "FPR=2.2388% (+1.1727%), FNR=48.2115% (+45.7232%)\n",
      "                    \n",
      "********************\n",
      "Number of neurons in hidden layer = 40\n",
      "Score=0.7925363693864642, score with default=0.9835547122074636 (-0.1910183428209994)\n",
      "tp=430, fn=213, fp=115, tn=823\n",
      "sensitivity=0.6687402799377916 (-0.3063763608087091), specificity=0.8773987206823027 (-0.11194029850746268)\n",
      "FPR=12.2601% (+11.1940%), FNR=33.1260% (+30.6376%)\n",
      "                    \n",
      "********************\n",
      "Number of neurons in hidden layer = 50\n",
      "Score=0.7096774193548387, score with default=0.9835547122074636 (-0.27387729285262485)\n",
      "tp=519, fn=124, fp=335, tn=603\n",
      "sensitivity=0.807153965785381 (-0.16796267496111972), specificity=0.6428571428571429 (-0.3464818763326225)\n",
      "FPR=35.7143% (+34.6482%), FNR=19.2846% (+16.7963%)\n",
      "                    \n",
      "********************\n",
      "Number of neurons in hidden layer = 64\n",
      "Score=0.7836812144212524, score with default=0.9835547122074636 (-0.19987349778621122)\n",
      "tp=429, fn=214, fp=128, tn=810\n",
      "sensitivity=0.6671850699844479 (-0.3079315707620528), specificity=0.8635394456289979 (-0.12579957356076754)\n",
      "FPR=13.6461% (+12.5800%), FNR=33.2815% (+30.7932%)\n",
      "                    \n",
      "********************\n",
      "Number of neurons in hidden layer = 100\n",
      "Score=0.8165717900063251, score with default=0.9835547122074636 (-0.16698292220113853)\n",
      "tp=423, fn=220, fp=70, tn=868\n",
      "sensitivity=0.6578538102643857 (-0.317262830482115), specificity=0.9253731343283582 (-0.0639658848614072)\n",
      "FPR=7.4627% (+6.3966%), FNR=34.2146% (+31.7263%)\n",
      "                    \n",
      "********************\n",
      "Number of neurons in hidden layer = 128\n",
      "Score=0.8475648323845667, score with default=0.9835547122074636 (-0.1359898798228969)\n",
      "tp=533, fn=110, fp=131, tn=807\n",
      "sensitivity=0.8289269051321928 (-0.14618973561430793), specificity=0.8603411513859275 (-0.12899786780383793)\n",
      "FPR=13.9659% (+12.8998%), FNR=17.1073% (+14.6190%)\n",
      "                    \n",
      "********************\n",
      "Number of neurons in hidden layer = 256\n",
      "Score=0.845034788108792, score with default=0.9835547122074636 (-0.13851992409867164)\n",
      "tp=577, fn=66, fp=179, tn=759\n",
      "sensitivity=0.8973561430793157 (-0.07776049766718507), specificity=0.8091684434968017 (-0.18017057569296369)\n",
      "FPR=19.0832% (+18.0171%), FNR=10.2644% (+7.7760%)\n",
      "                    \n"
     ]
    }
   ],
   "source": [
    "# learning_rate='invscaling'\n",
    "for i in range(len(hidden_layer_neuron_numbers)):\n",
    "    print('*'*20)\n",
    "    print(f'Number of neurons in hidden layer = {hidden_layer_neuron_numbers[i]}')\n",
    "    mlp_hidden_layer_test = MLPClassifier(random_state=1, max_iter=4000, hidden_layer_sizes=(hidden_layer_neuron_numbers[i]), solver='sgd', learning_rate='invscaling')\n",
    "    mlp_hidden_layer_test.fit(X_train_standarized, y_train)\n",
    "    y_prediction_mlp_hidden_layer_test = mlp_hidden_layer_test.predict(X_test_standarized)\n",
    "    mlp_hidden_layer_test_score = mlp_hidden_layer_test.score(X_test_standarized, y_test)\n",
    "    score_sign = '+'\n",
    "    if(mlp_score > mlp_hidden_layer_test_score):\n",
    "        score_sign = '-'\n",
    "    print(f'Score={mlp_hidden_layer_test_score}, score with default={mlp_score} ({score_sign}{abs(mlp_hidden_layer_test_score - mlp_score)})')\n",
    "\n",
    "    tn, fp, fn, tp = confusion_matrix(y_test, y_prediction_mlp_hidden_layer_test).ravel()\n",
    "    print(f'tp={tp}, fn={fn}, fp={fp}, tn={tn}')\n",
    "    sensitivity_mlp_hidden_layer_test = tp/(tp+fn)\n",
    "    specificity_mlp_hidden_layer_test = tn/(fp+tn)\n",
    "    sensitivity_sign = '+'\n",
    "    if(sensitivity_mlp > sensitivity_mlp_hidden_layer_test):\n",
    "        sensitivity_sign = '-'\n",
    "\n",
    "    specificity_sign = '+'\n",
    "    if(specificity_mlp > specificity_mlp_hidden_layer_test):\n",
    "        specificity_sign = '-'\n",
    "\n",
    "    print(f'sensitivity={sensitivity_mlp_hidden_layer_test} ({sensitivity_sign}{abs(sensitivity_mlp_hidden_layer_test-sensitivity_mlp)}), specificity={specificity_mlp_hidden_layer_test} ({specificity_sign}{abs(specificity_mlp_hidden_layer_test-specificity_mlp)})')\n",
    "    \n",
    "    fpr_mlp_hidden_layer_test = (1-specificity_mlp_hidden_layer_test)*100\n",
    "    fpr_sign = '+'\n",
    "    if(fpr_mlp > fpr_mlp_hidden_layer_test):\n",
    "        fpr_sign = '-'\n",
    "\n",
    "    fnr_mlp_hidden_layer_test  = (1-sensitivity_mlp_hidden_layer_test)*100\n",
    "    fnr_sign='+'\n",
    "    if(fnr_mlp > fnr_mlp_hidden_layer_test):\n",
    "        fnr_sign = '-'\n",
    "\n",
    "    fpr_format = '{:.4f}'.format(fpr_mlp_hidden_layer_test)\n",
    "    fnr_format = '{:.4f}'.format(fnr_mlp_hidden_layer_test)\n",
    "    fpr_diff_format = '{:.4f}'.format(abs(fpr_mlp_hidden_layer_test-fpr_mlp))\n",
    "    fnr_diff_format='{:.4f}'.format(abs(fnr_mlp_hidden_layer_test-fnr_mlp))\n",
    "    print(f'FPR={fpr_format}% ({fpr_sign}{fpr_diff_format}%), FNR={fnr_format}% ({fnr_sign}{fnr_diff_format}%)')\n",
    "    print(' '*20)"
   ]
  },
  {
   "cell_type": "code",
   "execution_count": 77,
   "metadata": {},
   "outputs": [
    {
     "name": "stdout",
     "output_type": "stream",
     "text": [
      "********************\n",
      "Number of neurons in hidden layer = 8\n",
      "Score=0.9778621125869703, score with default=0.9835547122074636 (-0.005692599620493288)\n",
      "tp=616, fn=27, fp=8, tn=930\n",
      "sensitivity=0.9580093312597201 (-0.01710730948678063), specificity=0.9914712153518124 (+0.002132196162046962)\n",
      "FPR=0.8529% (-0.2132%), FNR=4.1991% (+1.7107%)\n",
      "                    \n",
      "********************\n",
      "Number of neurons in hidden layer = 16\n",
      "Score=0.9797596457938014, score with default=0.9835547122074636 (-0.003795066413662229)\n",
      "tp=618, fn=25, fp=7, tn=931\n",
      "sensitivity=0.9611197511664075 (-0.013996889580093264), specificity=0.9925373134328358 (+0.0031982942430703876)\n",
      "FPR=0.7463% (-0.3198%), FNR=3.8880% (+1.3997%)\n",
      "                    \n",
      "********************\n",
      "Number of neurons in hidden layer = 32\n",
      "Score=0.9765970904490828, score with default=0.9835547122074636 (-0.006957621758380772)\n",
      "tp=615, fn=28, fp=9, tn=929\n",
      "sensitivity=0.9564541213063764 (-0.018662519440124314), specificity=0.990405117270789 (+0.0010660980810235365)\n",
      "FPR=0.9595% (-0.1066%), FNR=4.3546% (+1.8663%)\n",
      "                    \n",
      "********************\n",
      "Number of neurons in hidden layer = 40\n",
      "Score=0.9778621125869703, score with default=0.9835547122074636 (-0.005692599620493288)\n",
      "tp=617, fn=26, fp=9, tn=929\n",
      "sensitivity=0.9595645412130638 (-0.015552099533436947), specificity=0.990405117270789 (+0.0010660980810235365)\n",
      "FPR=0.9595% (-0.1066%), FNR=4.0435% (+1.5552%)\n",
      "                    \n",
      "********************\n",
      "Number of neurons in hidden layer = 50\n",
      "Score=0.9778621125869703, score with default=0.9835547122074636 (-0.005692599620493288)\n",
      "tp=616, fn=27, fp=8, tn=930\n",
      "sensitivity=0.9580093312597201 (-0.01710730948678063), specificity=0.9914712153518124 (+0.002132196162046962)\n",
      "FPR=0.8529% (-0.2132%), FNR=4.1991% (+1.7107%)\n",
      "                    \n",
      "********************\n",
      "Number of neurons in hidden layer = 64\n",
      "Score=0.9765970904490828, score with default=0.9835547122074636 (-0.006957621758380772)\n",
      "tp=615, fn=28, fp=9, tn=929\n",
      "sensitivity=0.9564541213063764 (-0.018662519440124314), specificity=0.990405117270789 (+0.0010660980810235365)\n",
      "FPR=0.9595% (-0.1066%), FNR=4.3546% (+1.8663%)\n",
      "                    \n",
      "********************\n",
      "Number of neurons in hidden layer = 100\n",
      "Score=0.978494623655914, score with default=0.9835547122074636 (-0.005060088551549602)\n",
      "tp=617, fn=26, fp=8, tn=930\n",
      "sensitivity=0.9595645412130638 (-0.015552099533436947), specificity=0.9914712153518124 (+0.002132196162046962)\n",
      "FPR=0.8529% (-0.2132%), FNR=4.0435% (+1.5552%)\n",
      "                    \n",
      "********************\n",
      "Number of neurons in hidden layer = 128\n",
      "Score=0.9753320683111955, score with default=0.9835547122074636 (-0.008222643896268145)\n",
      "tp=616, fn=27, fp=12, tn=926\n",
      "sensitivity=0.9580093312597201 (-0.01710730948678063), specificity=0.9872068230277186 (-0.002132196162046851)\n",
      "FPR=1.2793% (+0.2132%), FNR=4.1991% (+1.7107%)\n",
      "                    \n",
      "********************\n",
      "Number of neurons in hidden layer = 256\n",
      "Score=0.9791271347248577, score with default=0.9835547122074636 (-0.0044275774826059155)\n",
      "tp=619, fn=24, fp=9, tn=929\n",
      "sensitivity=0.9626749611197511 (-0.01244167962674958), specificity=0.990405117270789 (+0.0010660980810235365)\n",
      "FPR=0.9595% (-0.1066%), FNR=3.7325% (+1.2442%)\n",
      "                    \n"
     ]
    }
   ],
   "source": [
    "# learning_rate='adaptive'\n",
    "for i in range(len(hidden_layer_neuron_numbers)):\n",
    "    print('*'*20)\n",
    "    print(f'Number of neurons in hidden layer = {hidden_layer_neuron_numbers[i]}')\n",
    "    mlp_hidden_layer_test = MLPClassifier(random_state=1, max_iter=4000, hidden_layer_sizes=(hidden_layer_neuron_numbers[i]), solver='sgd', learning_rate='adaptive')\n",
    "    mlp_hidden_layer_test.fit(X_train_standarized, y_train)\n",
    "    y_prediction_mlp_hidden_layer_test = mlp_hidden_layer_test.predict(X_test_standarized)\n",
    "    mlp_hidden_layer_test_score = mlp_hidden_layer_test.score(X_test_standarized, y_test)\n",
    "    score_sign = '+'\n",
    "    if(mlp_score > mlp_hidden_layer_test_score):\n",
    "        score_sign = '-'\n",
    "    print(f'Score={mlp_hidden_layer_test_score}, score with default={mlp_score} ({score_sign}{abs(mlp_hidden_layer_test_score - mlp_score)})')\n",
    "\n",
    "    tn, fp, fn, tp = confusion_matrix(y_test, y_prediction_mlp_hidden_layer_test).ravel()\n",
    "    print(f'tp={tp}, fn={fn}, fp={fp}, tn={tn}')\n",
    "    sensitivity_mlp_hidden_layer_test = tp/(tp+fn)\n",
    "    specificity_mlp_hidden_layer_test = tn/(fp+tn)\n",
    "    sensitivity_sign = '+'\n",
    "    if(sensitivity_mlp > sensitivity_mlp_hidden_layer_test):\n",
    "        sensitivity_sign = '-'\n",
    "\n",
    "    specificity_sign = '+'\n",
    "    if(specificity_mlp > specificity_mlp_hidden_layer_test):\n",
    "        specificity_sign = '-'\n",
    "\n",
    "    print(f'sensitivity={sensitivity_mlp_hidden_layer_test} ({sensitivity_sign}{abs(sensitivity_mlp_hidden_layer_test-sensitivity_mlp)}), specificity={specificity_mlp_hidden_layer_test} ({specificity_sign}{abs(specificity_mlp_hidden_layer_test-specificity_mlp)})')\n",
    "    \n",
    "    fpr_mlp_hidden_layer_test = (1-specificity_mlp_hidden_layer_test)*100\n",
    "    fpr_sign = '+'\n",
    "    if(fpr_mlp > fpr_mlp_hidden_layer_test):\n",
    "        fpr_sign = '-'\n",
    "\n",
    "    fnr_mlp_hidden_layer_test  = (1-sensitivity_mlp_hidden_layer_test)*100\n",
    "    fnr_sign='+'\n",
    "    if(fnr_mlp > fnr_mlp_hidden_layer_test):\n",
    "        fnr_sign = '-'\n",
    "\n",
    "    fpr_format = '{:.4f}'.format(fpr_mlp_hidden_layer_test)\n",
    "    fnr_format = '{:.4f}'.format(fnr_mlp_hidden_layer_test)\n",
    "    fpr_diff_format = '{:.4f}'.format(abs(fpr_mlp_hidden_layer_test-fpr_mlp))\n",
    "    fnr_diff_format='{:.4f}'.format(abs(fnr_mlp_hidden_layer_test-fnr_mlp))\n",
    "    print(f'FPR={fpr_format}% ({fpr_sign}{fpr_diff_format}%), FNR={fnr_format}% ({fnr_sign}{fnr_diff_format}%)')\n",
    "    print(' '*20)"
   ]
  },
  {
   "cell_type": "markdown",
   "metadata": {},
   "source": [
    "2 layers in hidden layer with sgd solver"
   ]
  },
  {
   "cell_type": "code",
   "execution_count": 78,
   "metadata": {},
   "outputs": [
    {
     "name": "stdout",
     "output_type": "stream",
     "text": [
      "********************\n",
      "Number of neurons in hidden layer = (16, 16)\n",
      "Score=0.9797596457938014, score with default=0.9835547122074636 (-0.003795066413662229)\n",
      "tp=619, fn=24, fp=8, tn=930\n",
      "sensitivity=0.9626749611197511 (-0.01244167962674958), specificity=0.9914712153518124 (+0.002132196162046962)\n",
      "FPR=0.8529% (-0.2132%), FNR=3.7325% (+1.2442%)\n",
      "                    \n",
      "********************\n",
      "Number of neurons in hidden layer = (16, 32)\n",
      "Score=0.9772296015180265, score with default=0.9835547122074636 (-0.006325110689437086)\n",
      "tp=615, fn=28, fp=8, tn=930\n",
      "sensitivity=0.9564541213063764 (-0.018662519440124314), specificity=0.9914712153518124 (+0.002132196162046962)\n",
      "FPR=0.8529% (-0.2132%), FNR=4.3546% (+1.8663%)\n",
      "                    \n",
      "********************\n",
      "Number of neurons in hidden layer = (100, 128)\n",
      "Score=0.978494623655914, score with default=0.9835547122074636 (-0.005060088551549602)\n",
      "tp=619, fn=24, fp=10, tn=928\n",
      "sensitivity=0.9626749611197511 (-0.01244167962674958), specificity=0.9893390191897654 (+0.0)\n",
      "FPR=1.0661% (+0.0000%), FNR=3.7325% (+1.2442%)\n",
      "                    \n",
      "********************\n",
      "Number of neurons in hidden layer = (128, 256)\n",
      "Score=0.9759645793801391, score with default=0.9835547122074636 (-0.007590132827324458)\n",
      "tp=618, fn=25, fp=13, tn=925\n",
      "sensitivity=0.9611197511664075 (-0.013996889580093264), specificity=0.9861407249466951 (-0.0031982942430702765)\n",
      "FPR=1.3859% (+0.3198%), FNR=3.8880% (+1.3997%)\n",
      "                    \n"
     ]
    }
   ],
   "source": [
    "# hidden layers\n",
    "# learning_rate = 'adaptive'\n",
    "hidden_layers_neuron_numbers = [(16, 16), (16, 32), (100, 128), (128, 256)]\n",
    "for i in range(len(hidden_layers_neuron_numbers)):\n",
    "    print('*'*20)\n",
    "    print(f'Number of neurons in hidden layer = {hidden_layers_neuron_numbers[i]}')\n",
    "    mlp_hidden_layer_test = MLPClassifier(random_state=1, max_iter=4000, hidden_layer_sizes=(hidden_layers_neuron_numbers[i]), solver='sgd', learning_rate='adaptive')\n",
    "    mlp_hidden_layer_test.fit(X_train_standarized, y_train)\n",
    "    y_prediction_mlp_hidden_layer_test = mlp_hidden_layer_test.predict(X_test_standarized)\n",
    "    mlp_hidden_layer_test_score = mlp_hidden_layer_test.score(X_test_standarized, y_test)\n",
    "    score_sign = '+'\n",
    "    if(mlp_score > mlp_hidden_layer_test_score):\n",
    "        score_sign = '-'\n",
    "    print(f'Score={mlp_hidden_layer_test_score}, score with default={mlp_score} ({score_sign}{abs(mlp_hidden_layer_test_score - mlp_score)})')\n",
    "\n",
    "    tn, fp, fn, tp = confusion_matrix(y_test, y_prediction_mlp_hidden_layer_test).ravel()\n",
    "    print(f'tp={tp}, fn={fn}, fp={fp}, tn={tn}')\n",
    "    sensitivity_mlp_hidden_layer_test = tp/(tp+fn)\n",
    "    specificity_mlp_hidden_layer_test = tn/(fp+tn)\n",
    "    sensitivity_sign = '+'\n",
    "    if(sensitivity_mlp > sensitivity_mlp_hidden_layer_test):\n",
    "        sensitivity_sign = '-'\n",
    "\n",
    "    specificity_sign = '+'\n",
    "    if(specificity_mlp > specificity_mlp_hidden_layer_test):\n",
    "        specificity_sign = '-'\n",
    "\n",
    "    print(f'sensitivity={sensitivity_mlp_hidden_layer_test} ({sensitivity_sign}{abs(sensitivity_mlp_hidden_layer_test-sensitivity_mlp)}), specificity={specificity_mlp_hidden_layer_test} ({specificity_sign}{abs(specificity_mlp_hidden_layer_test-specificity_mlp)})')\n",
    "    \n",
    "    fpr_mlp_hidden_layer_test = (1-specificity_mlp_hidden_layer_test)*100\n",
    "    fpr_sign = '+'\n",
    "    if(fpr_mlp > fpr_mlp_hidden_layer_test):\n",
    "        fpr_sign = '-'\n",
    "\n",
    "    fnr_mlp_hidden_layer_test  = (1-sensitivity_mlp_hidden_layer_test)*100\n",
    "    fnr_sign='+'\n",
    "    if(fnr_mlp > fnr_mlp_hidden_layer_test):\n",
    "        fnr_sign = '-'\n",
    "\n",
    "    fpr_format = '{:.4f}'.format(fpr_mlp_hidden_layer_test)\n",
    "    fnr_format = '{:.4f}'.format(fnr_mlp_hidden_layer_test)\n",
    "    fpr_diff_format = '{:.4f}'.format(abs(fpr_mlp_hidden_layer_test-fpr_mlp))\n",
    "    fnr_diff_format='{:.4f}'.format(abs(fnr_mlp_hidden_layer_test-fnr_mlp))\n",
    "    print(f'FPR={fpr_format}% ({fpr_sign}{fpr_diff_format}%), FNR={fnr_format}% ({fnr_sign}{fnr_diff_format}%)')\n",
    "    print(' '*20)"
   ]
  },
  {
   "cell_type": "markdown",
   "metadata": {},
   "source": [
    "### 2.2 Decision tree"
   ]
  },
  {
   "cell_type": "markdown",
   "metadata": {},
   "source": [
    "# 3. Feature selection"
   ]
  },
  {
   "cell_type": "markdown",
   "metadata": {},
   "source": [
    "### 3.1 RFE - Recursive feature elimination\n",
    "Feature ranking with recursive feature elimination.\n",
    "\n",
    "Given an external estimator that assigns weights to features (e.g., the coefficients of a linear model), the goal of recursive feature elimination (RFE) is to select features by recursively considering smaller and smaller sets of features. First, the estimator is trained on the initial set of features and the importance of each feature is obtained either through any specific attribute or callable. Then, the least important features are pruned from current set of features. That procedure is recursively repeated on the pruned set until the desired number of features to select is eventually reached."
   ]
  },
  {
   "cell_type": "code",
   "execution_count": 80,
   "metadata": {},
   "outputs": [
    {
     "name": "stdout",
     "output_type": "stream",
     "text": [
      "(4789, 463)\n"
     ]
    }
   ],
   "source": [
    "# data size\n",
    "print(dataFrame.shape)"
   ]
  },
  {
   "cell_type": "code",
   "execution_count": 177,
   "metadata": {},
   "outputs": [
    {
     "data": {
      "text/plain": [
       "RFE(estimator=MLPClassifier(max_iter=300, random_state=1),\n",
       "    n_features_to_select=200, step=10)"
      ]
     },
     "execution_count": 177,
     "metadata": {},
     "output_type": "execute_result"
    }
   ],
   "source": [
    "# take 200 most informative features\n",
    "n_features = 200\n",
    "mlp_n16= MLPClassifier(random_state=1, max_iter=300)\n",
    "mlp_n16.fit(X_train, y_train)\n",
    "rfe = RFE(estimator=mlp_n16, n_features_to_select=n_features, step=10)\n",
    "rfe.fit(X_train, y_train)\n",
    "\n",
    "# X_train_rfe = rfe.fit_transform(X_train, y_train)\n",
    "\n",
    "# X_test_rfe = rfe.transform(X_test)\n",
    "# print(f'X_train_rfe={X_train_rfe.shape}')\n",
    "# rfe.fit(X_train_rfe, y_train)\n",
    "# newScore = rfe.score(X_test_standarized, y_test)\n",
    "# newPrediction = rfe.predict(X_test_rfe)\n",
    "\n",
    "# print(f'Score={newScore}')\n",
    "\n",
    "# tn, fp, fn, tp = confusion_matrix(y_test, newPrediction).ravel()\n",
    "# print(f'tp={tp}, fn={fn}, fp={fp}, tn={tn}')\n",
    "# sensitivity_mlp_n16 = tp/(tp+fn)\n",
    "# specificity_mlp_n16 = tn/(fp+tn)\n",
    "# print(\"sensitivity={:.4f}, specificity={:.4f}\".format(sensitivity_mlp_n16, specificity_mlp_n16))\n",
    "\n",
    "# fpr_mlp_n16 = (1-specificity_mlp_n16)*100\n",
    "# fnr_mlp_n16 = (1-sensitivity_mlp_n16)*100\n",
    "# print(\"FPR={:.4f}%, FNR={:.4f}%\".format(fpr_mlp_n16, fnr_mlp_n16))\n"
   ]
  },
  {
   "cell_type": "markdown",
   "metadata": {},
   "source": [
    "### 3.2 Univariate feature selection - SelectKBest"
   ]
  },
  {
   "cell_type": "code",
   "execution_count": 242,
   "metadata": {},
   "outputs": [
    {
     "ename": "SyntaxError",
     "evalue": "invalid syntax (Temp/ipykernel_6252/740350696.py, line 2)",
     "output_type": "error",
     "traceback": [
      "\u001b[1;36m  File \u001b[1;32m\"C:\\Users\\Arek\\AppData\\Local\\Temp/ipykernel_6252/740350696.py\"\u001b[1;36m, line \u001b[1;32m2\u001b[0m\n\u001b[1;33m    X_train, X_test, y_train, y_test = train_test_split(X y, random_state=331, test_size=0.33)\u001b[0m\n\u001b[1;37m                                                          ^\u001b[0m\n\u001b[1;31mSyntaxError\u001b[0m\u001b[1;31m:\u001b[0m invalid syntax\n"
     ]
    }
   ],
   "source": [
    "# split data into test and train set\n",
    "X_train, X_test, y_train, y_test = train_test_split(X, y, random_state=331, test_size=0.33)\n",
    "print(f'Train shape: {X_train.shape}, test shape: {X_test.shape}')\n",
    "\n",
    "# standarize\n",
    "scaler = StandardScaler()\n",
    "X_train_std = scaler.fit_transform(X_train)\n",
    "X_test_std = scaler.fit_transform(X_test)\n",
    "\n",
    "# select 70 best features\n",
    "bestFeatures = 70\n",
    "skb = SelectKBest(chi2, k=bestFeatures)\n",
    "X_train_std_skb = skb.fit_transform(X_train_std, y)\n",
    "print(X_train_std_skb)\n",
    "\n",
    "# mlpWithSelectKBest = MLPClassifier(random_state=1, max_iter=400)\n",
    "# mlpWithSelectKBest.fit(X_train_std, y_train)\n",
    "# print(f'mean = {X_train_std.mean(axis=0)}')\n",
    "# y_prediction_mlpWithSelectKBest = mlpWithSelectKBest.predict(X_test)\n",
    "# mlpWithSelectKBest_score = mlpWithSelectKBest.score(X_test, y_test)\n",
    "# print(f'Score={mlpWithSelectKBest_score}')\n",
    "\n",
    "# # confusion matrix\n",
    "# tn, fp, fn, tp = confusion_matrix(y_test, y_prediction_mlpWithSelectKBest).ravel()\n",
    "# print(f'tp={tp}, fn={fn}, fp={fp}, tn={tn}')\n",
    "# sensitivity_mlpWithSelectKBest = tp/(tp+fn)\n",
    "# specificity_mlpWithSelectKBest = tn/(fp+tn)\n",
    "# print(\"sensitivity={:.4f}, specificity={:.4f}\".format(sensitivity_mlpWithSelectKBest, specificity_mlpWithSelectKBest))\n",
    "\n",
    "# # fpr and fnr\n",
    "# fpr_mlpWithSelectKBest = (1-specificity_mlpWithSelectKBest)*100\n",
    "# fnr_mlpWithSelectKBest = (1-sensitivity_mlpWithSelectKBest)*100\n",
    "# print(\"FPR={:.4f}%, FNR={:.4f}%\".format(fpr_mlpWithSelectKBest, fnr_mlpWithSelectKBest))"
   ]
  },
  {
   "cell_type": "markdown",
   "metadata": {},
   "source": [
    "### 3.3 PCA"
   ]
  },
  {
   "cell_type": "code",
   "execution_count": 240,
   "metadata": {},
   "outputs": [
    {
     "name": "stdout",
     "output_type": "stream",
     "text": [
      "Train shape: (3208, 462), test shape: (1581, 462)\n",
      "(3208, 60)\n",
      "Score=0.9759645793801391\n",
      "tp=611, fn=32, fp=6, tn=932\n",
      "sensitivity=0.9502, specificity=0.9936\n",
      "FPR=0.6397%, FNR=4.9767%\n"
     ]
    }
   ],
   "source": [
    "# split data into train and test\n",
    "X_train, X_test, y_train, y_test = train_test_split(X, y, random_state=331, test_size=0.33)\n",
    "print(f'Train shape: {X_train.shape}, test shape: {X_test.shape}')\n",
    "\n",
    "# standarize\n",
    "scaler = StandardScaler().fit(X_train)\n",
    "X_train_std = scaler.transform(X_train)\n",
    "X_test_std = scaler.transform(X_test)\n",
    "\n",
    "# pca\n",
    "components = 60\n",
    "pca = PCA(n_components=components)\n",
    "X_train_pca = pca.fit_transform(X_train_std)\n",
    "print(X_train_pca.shape)\n",
    "\n",
    "# mlp\n",
    "mlp_pca = MLPClassifier(random_state=1, max_iter=400, solver='sgd')\n",
    "mlp_pca.fit(X_train_pca, y_train)\n",
    "X_test_std = pca.transform(X_test_std)\n",
    "y_prediction_mlp_pca = mlp_pca.predict(X_test_std)\n",
    "mlp_pca_score = mlp_pca.score(X_test_std, y_test)\n",
    "print(f'Score={mlp_pca_score}')\n",
    "\n",
    "# confusion matrix\n",
    "tn, fp, fn, tp = confusion_matrix(y_test, y_prediction_mlp_pca).ravel()\n",
    "print(f'tp={tp}, fn={fn}, fp={fp}, tn={tn}')\n",
    "sensitivity_mlp_pca = tp/(tp+fn)\n",
    "specificity_mlp_pca = tn/(fp+tn)\n",
    "print(\"sensitivity={:.4f}, specificity={:.4f}\".format(sensitivity_mlp_pca, specificity_mlp_pca))\n",
    "\n",
    "# fpr and fnr\n",
    "fpr_mlp_pca = (1-specificity_mlp_pca)*100\n",
    "fnr_mlp_pca = (1-sensitivity_mlp_pca)*100\n",
    "print(\"FPR={:.4f}%, FNR={:.4f}%\".format(fpr_mlp_pca, fnr_mlp_pca))"
   ]
  }
 ],
 "metadata": {
  "interpreter": {
   "hash": "160a8e799b4c8ac5e6b5e507c10561fe57290204298c2a882096e26ea13919e6"
  },
  "kernelspec": {
   "display_name": "Python 3 (ipykernel)",
   "language": "python",
   "name": "python3"
  },
  "language_info": {
   "codemirror_mode": {
    "name": "ipython",
    "version": 3
   },
   "file_extension": ".py",
   "mimetype": "text/x-python",
   "name": "python",
   "nbconvert_exporter": "python",
   "pygments_lexer": "ipython3",
   "version": "3.9.0"
  }
 },
 "nbformat": 4,
 "nbformat_minor": 2
}
